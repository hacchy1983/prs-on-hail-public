{
 "cells": [
  {
   "cell_type": "markdown",
   "id": "7c6085c6",
   "metadata": {},
   "source": [
    "このノートブックでは、`merge-and-filter` 後のゲノムデータを用いて、PRS の計算手順を説明します。\n",
    "\n",
    "3種類の乳癌 PRS モデルを事例として用います。\n",
    "- [PGS000004](https://www.pgscatalog.org/score/PGS000004/) モデルに含まれるバリアント数 313個\n",
    "- [PGS000015](https://www.pgscatalog.org/score/PGS000015/) モデルに含まれるバリアント数 5,218個\n",
    "- [PGS000332](https://www.pgscatalog.org/score/PGS000332/) モデルに含まれるバリアント数 6,390,808個\n",
    "\n",
    "比較的バリアント数の少ない PRS モデルだけでなく、バリアント数が非常に多い PRS モデルであっても、大型のサーバPCを使うことなく、手元の macOS PC で計算可能であることを実感していただけたら幸いです。"
   ]
  },
  {
   "cell_type": "markdown",
   "id": "4fde9153",
   "metadata": {},
   "source": [
    "### Step 1 `hail` など、必要なモジュールを読み込みます"
   ]
  },
  {
   "cell_type": "markdown",
   "id": "5459a546",
   "metadata": {},
   "source": [
    "下記のコードを実行してください。 ページ上側のメニューバーにある `実行` ボタンを押下することで、実行することができます。"
   ]
  },
  {
   "cell_type": "code",
   "execution_count": 1,
   "id": "6bf2eeff",
   "metadata": {},
   "outputs": [
    {
     "name": "stderr",
     "output_type": "stream",
     "text": [
      "Running on Apache Spark version 3.1.1\n",
      "SparkUI available at http://192.168.179.2:4043\n",
      "Welcome to\n",
      "     __  __     <>__\n",
      "    / /_/ /__  __/ /\n",
      "   / __  / _ `/ / /\n",
      "  /_/ /_/\\_,_/_/_/   version 0.2.67-a673309b0445\n",
      "LOGGING: writing to /Users/hacchy/prs-on-hail/hail-20210612-1231-0.2.67-a673309b0445.log\n"
     ]
    },
    {
     "data": {
      "text/html": [
       "\n",
       "    <div class=\"bk-root\">\n",
       "        <a href=\"https://bokeh.org\" target=\"_blank\" class=\"bk-logo bk-logo-small bk-logo-notebook\"></a>\n",
       "        <span id=\"1001\">Loading BokehJS ...</span>\n",
       "    </div>"
      ]
     },
     "metadata": {},
     "output_type": "display_data"
    },
    {
     "data": {
      "application/javascript": [
       "\n",
       "(function(root) {\n",
       "  function now() {\n",
       "    return new Date();\n",
       "  }\n",
       "\n",
       "  var force = true;\n",
       "\n",
       "  if (typeof root._bokeh_onload_callbacks === \"undefined\" || force === true) {\n",
       "    root._bokeh_onload_callbacks = [];\n",
       "    root._bokeh_is_loading = undefined;\n",
       "  }\n",
       "\n",
       "  var JS_MIME_TYPE = 'application/javascript';\n",
       "  var HTML_MIME_TYPE = 'text/html';\n",
       "  var EXEC_MIME_TYPE = 'application/vnd.bokehjs_exec.v0+json';\n",
       "  var CLASS_NAME = 'output_bokeh rendered_html';\n",
       "\n",
       "  /**\n",
       "   * Render data to the DOM node\n",
       "   */\n",
       "  function render(props, node) {\n",
       "    var script = document.createElement(\"script\");\n",
       "    node.appendChild(script);\n",
       "  }\n",
       "\n",
       "  /**\n",
       "   * Handle when an output is cleared or removed\n",
       "   */\n",
       "  function handleClearOutput(event, handle) {\n",
       "    var cell = handle.cell;\n",
       "\n",
       "    var id = cell.output_area._bokeh_element_id;\n",
       "    var server_id = cell.output_area._bokeh_server_id;\n",
       "    // Clean up Bokeh references\n",
       "    if (id != null && id in Bokeh.index) {\n",
       "      Bokeh.index[id].model.document.clear();\n",
       "      delete Bokeh.index[id];\n",
       "    }\n",
       "\n",
       "    if (server_id !== undefined) {\n",
       "      // Clean up Bokeh references\n",
       "      var cmd = \"from bokeh.io.state import curstate; print(curstate().uuid_to_server['\" + server_id + \"'].get_sessions()[0].document.roots[0]._id)\";\n",
       "      cell.notebook.kernel.execute(cmd, {\n",
       "        iopub: {\n",
       "          output: function(msg) {\n",
       "            var id = msg.content.text.trim();\n",
       "            if (id in Bokeh.index) {\n",
       "              Bokeh.index[id].model.document.clear();\n",
       "              delete Bokeh.index[id];\n",
       "            }\n",
       "          }\n",
       "        }\n",
       "      });\n",
       "      // Destroy server and session\n",
       "      var cmd = \"import bokeh.io.notebook as ion; ion.destroy_server('\" + server_id + \"')\";\n",
       "      cell.notebook.kernel.execute(cmd);\n",
       "    }\n",
       "  }\n",
       "\n",
       "  /**\n",
       "   * Handle when a new output is added\n",
       "   */\n",
       "  function handleAddOutput(event, handle) {\n",
       "    var output_area = handle.output_area;\n",
       "    var output = handle.output;\n",
       "\n",
       "    // limit handleAddOutput to display_data with EXEC_MIME_TYPE content only\n",
       "    if ((output.output_type != \"display_data\") || (!output.data.hasOwnProperty(EXEC_MIME_TYPE))) {\n",
       "      return\n",
       "    }\n",
       "\n",
       "    var toinsert = output_area.element.find(\".\" + CLASS_NAME.split(' ')[0]);\n",
       "\n",
       "    if (output.metadata[EXEC_MIME_TYPE][\"id\"] !== undefined) {\n",
       "      toinsert[toinsert.length - 1].firstChild.textContent = output.data[JS_MIME_TYPE];\n",
       "      // store reference to embed id on output_area\n",
       "      output_area._bokeh_element_id = output.metadata[EXEC_MIME_TYPE][\"id\"];\n",
       "    }\n",
       "    if (output.metadata[EXEC_MIME_TYPE][\"server_id\"] !== undefined) {\n",
       "      var bk_div = document.createElement(\"div\");\n",
       "      bk_div.innerHTML = output.data[HTML_MIME_TYPE];\n",
       "      var script_attrs = bk_div.children[0].attributes;\n",
       "      for (var i = 0; i < script_attrs.length; i++) {\n",
       "        toinsert[toinsert.length - 1].firstChild.setAttribute(script_attrs[i].name, script_attrs[i].value);\n",
       "      }\n",
       "      // store reference to server id on output_area\n",
       "      output_area._bokeh_server_id = output.metadata[EXEC_MIME_TYPE][\"server_id\"];\n",
       "    }\n",
       "  }\n",
       "\n",
       "  function register_renderer(events, OutputArea) {\n",
       "\n",
       "    function append_mime(data, metadata, element) {\n",
       "      // create a DOM node to render to\n",
       "      var toinsert = this.create_output_subarea(\n",
       "        metadata,\n",
       "        CLASS_NAME,\n",
       "        EXEC_MIME_TYPE\n",
       "      );\n",
       "      this.keyboard_manager.register_events(toinsert);\n",
       "      // Render to node\n",
       "      var props = {data: data, metadata: metadata[EXEC_MIME_TYPE]};\n",
       "      render(props, toinsert[toinsert.length - 1]);\n",
       "      element.append(toinsert);\n",
       "      return toinsert\n",
       "    }\n",
       "\n",
       "    /* Handle when an output is cleared or removed */\n",
       "    events.on('clear_output.CodeCell', handleClearOutput);\n",
       "    events.on('delete.Cell', handleClearOutput);\n",
       "\n",
       "    /* Handle when a new output is added */\n",
       "    events.on('output_added.OutputArea', handleAddOutput);\n",
       "\n",
       "    /**\n",
       "     * Register the mime type and append_mime function with output_area\n",
       "     */\n",
       "    OutputArea.prototype.register_mime_type(EXEC_MIME_TYPE, append_mime, {\n",
       "      /* Is output safe? */\n",
       "      safe: true,\n",
       "      /* Index of renderer in `output_area.display_order` */\n",
       "      index: 0\n",
       "    });\n",
       "  }\n",
       "\n",
       "  // register the mime type if in Jupyter Notebook environment and previously unregistered\n",
       "  if (root.Jupyter !== undefined) {\n",
       "    var events = require('base/js/events');\n",
       "    var OutputArea = require('notebook/js/outputarea').OutputArea;\n",
       "\n",
       "    if (OutputArea.prototype.mime_types().indexOf(EXEC_MIME_TYPE) == -1) {\n",
       "      register_renderer(events, OutputArea);\n",
       "    }\n",
       "  }\n",
       "\n",
       "  \n",
       "  if (typeof (root._bokeh_timeout) === \"undefined\" || force === true) {\n",
       "    root._bokeh_timeout = Date.now() + 5000;\n",
       "    root._bokeh_failed_load = false;\n",
       "  }\n",
       "\n",
       "  var NB_LOAD_WARNING = {'data': {'text/html':\n",
       "     \"<div style='background-color: #fdd'>\\n\"+\n",
       "     \"<p>\\n\"+\n",
       "     \"BokehJS does not appear to have successfully loaded. If loading BokehJS from CDN, this \\n\"+\n",
       "     \"may be due to a slow or bad network connection. Possible fixes:\\n\"+\n",
       "     \"</p>\\n\"+\n",
       "     \"<ul>\\n\"+\n",
       "     \"<li>re-rerun `output_notebook()` to attempt to load from CDN again, or</li>\\n\"+\n",
       "     \"<li>use INLINE resources instead, as so:</li>\\n\"+\n",
       "     \"</ul>\\n\"+\n",
       "     \"<code>\\n\"+\n",
       "     \"from bokeh.resources import INLINE\\n\"+\n",
       "     \"output_notebook(resources=INLINE)\\n\"+\n",
       "     \"</code>\\n\"+\n",
       "     \"</div>\"}};\n",
       "\n",
       "  function display_loaded() {\n",
       "    var el = document.getElementById(\"1001\");\n",
       "    if (el != null) {\n",
       "      el.textContent = \"BokehJS is loading...\";\n",
       "    }\n",
       "    if (root.Bokeh !== undefined) {\n",
       "      if (el != null) {\n",
       "        el.textContent = \"BokehJS \" + root.Bokeh.version + \" successfully loaded.\";\n",
       "      }\n",
       "    } else if (Date.now() < root._bokeh_timeout) {\n",
       "      setTimeout(display_loaded, 100)\n",
       "    }\n",
       "  }\n",
       "\n",
       "\n",
       "  function run_callbacks() {\n",
       "    try {\n",
       "      root._bokeh_onload_callbacks.forEach(function(callback) {\n",
       "        if (callback != null)\n",
       "          callback();\n",
       "      });\n",
       "    } finally {\n",
       "      delete root._bokeh_onload_callbacks\n",
       "    }\n",
       "    console.debug(\"Bokeh: all callbacks have finished\");\n",
       "  }\n",
       "\n",
       "  function load_libs(css_urls, js_urls, callback) {\n",
       "    if (css_urls == null) css_urls = [];\n",
       "    if (js_urls == null) js_urls = [];\n",
       "\n",
       "    root._bokeh_onload_callbacks.push(callback);\n",
       "    if (root._bokeh_is_loading > 0) {\n",
       "      console.debug(\"Bokeh: BokehJS is being loaded, scheduling callback at\", now());\n",
       "      return null;\n",
       "    }\n",
       "    if (js_urls == null || js_urls.length === 0) {\n",
       "      run_callbacks();\n",
       "      return null;\n",
       "    }\n",
       "    console.debug(\"Bokeh: BokehJS not loaded, scheduling load and callback at\", now());\n",
       "    root._bokeh_is_loading = css_urls.length + js_urls.length;\n",
       "\n",
       "    function on_load() {\n",
       "      root._bokeh_is_loading--;\n",
       "      if (root._bokeh_is_loading === 0) {\n",
       "        console.debug(\"Bokeh: all BokehJS libraries/stylesheets loaded\");\n",
       "        run_callbacks()\n",
       "      }\n",
       "    }\n",
       "\n",
       "    function on_error() {\n",
       "      console.error(\"failed to load \" + url);\n",
       "    }\n",
       "\n",
       "    for (var i = 0; i < css_urls.length; i++) {\n",
       "      var url = css_urls[i];\n",
       "      const element = document.createElement(\"link\");\n",
       "      element.onload = on_load;\n",
       "      element.onerror = on_error;\n",
       "      element.rel = \"stylesheet\";\n",
       "      element.type = \"text/css\";\n",
       "      element.href = url;\n",
       "      console.debug(\"Bokeh: injecting link tag for BokehJS stylesheet: \", url);\n",
       "      document.body.appendChild(element);\n",
       "    }\n",
       "\n",
       "    for (var i = 0; i < js_urls.length; i++) {\n",
       "      var url = js_urls[i];\n",
       "      var element = document.createElement('script');\n",
       "      element.onload = on_load;\n",
       "      element.onerror = on_error;\n",
       "      element.async = false;\n",
       "      element.src = url;\n",
       "      console.debug(\"Bokeh: injecting script tag for BokehJS library: \", url);\n",
       "      document.head.appendChild(element);\n",
       "    }\n",
       "  };var element = document.getElementById(\"1001\");\n",
       "  if (element == null) {\n",
       "    console.error(\"Bokeh: ERROR: autoload.js configured with elementid '1001' but no matching script tag was found. \")\n",
       "    return false;\n",
       "  }\n",
       "\n",
       "  function inject_raw_css(css) {\n",
       "    const element = document.createElement(\"style\");\n",
       "    element.appendChild(document.createTextNode(css));\n",
       "    document.body.appendChild(element);\n",
       "  }\n",
       "\n",
       "  \n",
       "  var js_urls = [\"https://cdn.pydata.org/bokeh/release/bokeh-1.4.0.min.js\", \"https://cdn.pydata.org/bokeh/release/bokeh-widgets-1.4.0.min.js\", \"https://cdn.pydata.org/bokeh/release/bokeh-tables-1.4.0.min.js\", \"https://cdn.pydata.org/bokeh/release/bokeh-gl-1.4.0.min.js\"];\n",
       "  var css_urls = [];\n",
       "  \n",
       "\n",
       "  var inline_js = [\n",
       "    function(Bokeh) {\n",
       "      Bokeh.set_log_level(\"info\");\n",
       "    },\n",
       "    function(Bokeh) {\n",
       "    \n",
       "    \n",
       "    }\n",
       "  ];\n",
       "\n",
       "  function run_inline_js() {\n",
       "    \n",
       "    if (root.Bokeh !== undefined || force === true) {\n",
       "      \n",
       "    for (var i = 0; i < inline_js.length; i++) {\n",
       "      inline_js[i].call(root, root.Bokeh);\n",
       "    }\n",
       "    if (force === true) {\n",
       "        display_loaded();\n",
       "      }} else if (Date.now() < root._bokeh_timeout) {\n",
       "      setTimeout(run_inline_js, 100);\n",
       "    } else if (!root._bokeh_failed_load) {\n",
       "      console.log(\"Bokeh: BokehJS failed to load within specified timeout.\");\n",
       "      root._bokeh_failed_load = true;\n",
       "    } else if (force !== true) {\n",
       "      var cell = $(document.getElementById(\"1001\")).parents('.cell').data().cell;\n",
       "      cell.output_area.append_execute_result(NB_LOAD_WARNING)\n",
       "    }\n",
       "\n",
       "  }\n",
       "\n",
       "  if (root._bokeh_is_loading === 0) {\n",
       "    console.debug(\"Bokeh: BokehJS loaded, going straight to plotting\");\n",
       "    run_inline_js();\n",
       "  } else {\n",
       "    load_libs(css_urls, js_urls, function() {\n",
       "      console.debug(\"Bokeh: BokehJS plotting callback run at\", now());\n",
       "      run_inline_js();\n",
       "    });\n",
       "  }\n",
       "}(window));"
      ],
      "application/vnd.bokehjs_load.v0+json": "\n(function(root) {\n  function now() {\n    return new Date();\n  }\n\n  var force = true;\n\n  if (typeof root._bokeh_onload_callbacks === \"undefined\" || force === true) {\n    root._bokeh_onload_callbacks = [];\n    root._bokeh_is_loading = undefined;\n  }\n\n  \n\n  \n  if (typeof (root._bokeh_timeout) === \"undefined\" || force === true) {\n    root._bokeh_timeout = Date.now() + 5000;\n    root._bokeh_failed_load = false;\n  }\n\n  var NB_LOAD_WARNING = {'data': {'text/html':\n     \"<div style='background-color: #fdd'>\\n\"+\n     \"<p>\\n\"+\n     \"BokehJS does not appear to have successfully loaded. If loading BokehJS from CDN, this \\n\"+\n     \"may be due to a slow or bad network connection. Possible fixes:\\n\"+\n     \"</p>\\n\"+\n     \"<ul>\\n\"+\n     \"<li>re-rerun `output_notebook()` to attempt to load from CDN again, or</li>\\n\"+\n     \"<li>use INLINE resources instead, as so:</li>\\n\"+\n     \"</ul>\\n\"+\n     \"<code>\\n\"+\n     \"from bokeh.resources import INLINE\\n\"+\n     \"output_notebook(resources=INLINE)\\n\"+\n     \"</code>\\n\"+\n     \"</div>\"}};\n\n  function display_loaded() {\n    var el = document.getElementById(\"1001\");\n    if (el != null) {\n      el.textContent = \"BokehJS is loading...\";\n    }\n    if (root.Bokeh !== undefined) {\n      if (el != null) {\n        el.textContent = \"BokehJS \" + root.Bokeh.version + \" successfully loaded.\";\n      }\n    } else if (Date.now() < root._bokeh_timeout) {\n      setTimeout(display_loaded, 100)\n    }\n  }\n\n\n  function run_callbacks() {\n    try {\n      root._bokeh_onload_callbacks.forEach(function(callback) {\n        if (callback != null)\n          callback();\n      });\n    } finally {\n      delete root._bokeh_onload_callbacks\n    }\n    console.debug(\"Bokeh: all callbacks have finished\");\n  }\n\n  function load_libs(css_urls, js_urls, callback) {\n    if (css_urls == null) css_urls = [];\n    if (js_urls == null) js_urls = [];\n\n    root._bokeh_onload_callbacks.push(callback);\n    if (root._bokeh_is_loading > 0) {\n      console.debug(\"Bokeh: BokehJS is being loaded, scheduling callback at\", now());\n      return null;\n    }\n    if (js_urls == null || js_urls.length === 0) {\n      run_callbacks();\n      return null;\n    }\n    console.debug(\"Bokeh: BokehJS not loaded, scheduling load and callback at\", now());\n    root._bokeh_is_loading = css_urls.length + js_urls.length;\n\n    function on_load() {\n      root._bokeh_is_loading--;\n      if (root._bokeh_is_loading === 0) {\n        console.debug(\"Bokeh: all BokehJS libraries/stylesheets loaded\");\n        run_callbacks()\n      }\n    }\n\n    function on_error() {\n      console.error(\"failed to load \" + url);\n    }\n\n    for (var i = 0; i < css_urls.length; i++) {\n      var url = css_urls[i];\n      const element = document.createElement(\"link\");\n      element.onload = on_load;\n      element.onerror = on_error;\n      element.rel = \"stylesheet\";\n      element.type = \"text/css\";\n      element.href = url;\n      console.debug(\"Bokeh: injecting link tag for BokehJS stylesheet: \", url);\n      document.body.appendChild(element);\n    }\n\n    for (var i = 0; i < js_urls.length; i++) {\n      var url = js_urls[i];\n      var element = document.createElement('script');\n      element.onload = on_load;\n      element.onerror = on_error;\n      element.async = false;\n      element.src = url;\n      console.debug(\"Bokeh: injecting script tag for BokehJS library: \", url);\n      document.head.appendChild(element);\n    }\n  };var element = document.getElementById(\"1001\");\n  if (element == null) {\n    console.error(\"Bokeh: ERROR: autoload.js configured with elementid '1001' but no matching script tag was found. \")\n    return false;\n  }\n\n  function inject_raw_css(css) {\n    const element = document.createElement(\"style\");\n    element.appendChild(document.createTextNode(css));\n    document.body.appendChild(element);\n  }\n\n  \n  var js_urls = [\"https://cdn.pydata.org/bokeh/release/bokeh-1.4.0.min.js\", \"https://cdn.pydata.org/bokeh/release/bokeh-widgets-1.4.0.min.js\", \"https://cdn.pydata.org/bokeh/release/bokeh-tables-1.4.0.min.js\", \"https://cdn.pydata.org/bokeh/release/bokeh-gl-1.4.0.min.js\"];\n  var css_urls = [];\n  \n\n  var inline_js = [\n    function(Bokeh) {\n      Bokeh.set_log_level(\"info\");\n    },\n    function(Bokeh) {\n    \n    \n    }\n  ];\n\n  function run_inline_js() {\n    \n    if (root.Bokeh !== undefined || force === true) {\n      \n    for (var i = 0; i < inline_js.length; i++) {\n      inline_js[i].call(root, root.Bokeh);\n    }\n    if (force === true) {\n        display_loaded();\n      }} else if (Date.now() < root._bokeh_timeout) {\n      setTimeout(run_inline_js, 100);\n    } else if (!root._bokeh_failed_load) {\n      console.log(\"Bokeh: BokehJS failed to load within specified timeout.\");\n      root._bokeh_failed_load = true;\n    } else if (force !== true) {\n      var cell = $(document.getElementById(\"1001\")).parents('.cell').data().cell;\n      cell.output_area.append_execute_result(NB_LOAD_WARNING)\n    }\n\n  }\n\n  if (root._bokeh_is_loading === 0) {\n    console.debug(\"Bokeh: BokehJS loaded, going straight to plotting\");\n    run_inline_js();\n  } else {\n    load_libs(css_urls, js_urls, function() {\n      console.debug(\"Bokeh: BokehJS plotting callback run at\", now());\n      run_inline_js();\n    });\n  }\n}(window));"
     },
     "metadata": {},
     "output_type": "display_data"
    }
   ],
   "source": [
    "import hail as hl\n",
    "hl.init()\n",
    "from hail.plot import show\n",
    "from pprint import pprint\n",
    "hl.plot.output_notebook()"
   ]
  },
  {
   "cell_type": "markdown",
   "id": "a73a79f6",
   "metadata": {},
   "source": [
    "### Step 2 ゲノムデータを読み込みます"
   ]
  },
  {
   "cell_type": "markdown",
   "id": "e99bb378",
   "metadata": {},
   "source": [
    "下記のコードでは、`merge-and-filter` で保存したゲノムデータを読み込みます。"
   ]
  },
  {
   "cell_type": "code",
   "execution_count": 2,
   "id": "d24f49e4",
   "metadata": {},
   "outputs": [],
   "source": [
    "mt = hl.read_matrix_table('genome-data/1kg.JPT.chrAll.filtered.mt')"
   ]
  },
  {
   "cell_type": "markdown",
   "id": "62d6cc2f",
   "metadata": {},
   "source": [
    "読み込んだゲノムデータに含まれる研究対象者の人数とバリアントの個数を表示します。"
   ]
  },
  {
   "cell_type": "code",
   "execution_count": 3,
   "id": "28c389c8",
   "metadata": {},
   "outputs": [
    {
     "data": {
      "text/plain": [
       "(10860860, 104)"
      ]
     },
     "execution_count": 3,
     "metadata": {},
     "output_type": "execute_result"
    }
   ],
   "source": [
    "mt.count()"
   ]
  },
  {
   "cell_type": "markdown",
   "id": "a90f595e",
   "metadata": {},
   "source": [
    "```\n",
    "(10860860, 104)\n",
    "```\n",
    "と表示されました。\n",
    "\n",
    "これは、次のことを意味します。\n",
    "- 研究対象者の人数が 104 名\n",
    "- バリアントの個数が 10,860,860個"
   ]
  },
  {
   "cell_type": "markdown",
   "id": "20247481",
   "metadata": {},
   "source": [
    "読み込んだゲノムデータのバリアント情報として `variantID` が追加済みであることを確認します。"
   ]
  },
  {
   "cell_type": "code",
   "execution_count": 4,
   "id": "a0a057e9",
   "metadata": {},
   "outputs": [
    {
     "data": {
      "text/html": [
       "<table><thead><tr><td style=\"white-space: nowrap; max-width: 500px; overflow: hidden; text-overflow: ellipsis; \" colspan=\"1\"><div style=\"text-align: left;\"></div></td><td style=\"white-space: nowrap; max-width: 500px; overflow: hidden; text-overflow: ellipsis; \" colspan=\"1\"><div style=\"text-align: left;\"></div></td><td style=\"white-space: nowrap; max-width: 500px; overflow: hidden; text-overflow: ellipsis; \" colspan=\"1\"><div style=\"text-align: left;\"></div></td><td style=\"white-space: nowrap; max-width: 500px; overflow: hidden; text-overflow: ellipsis; \" colspan=\"1\"><div style=\"text-align: left;\"></div></td><td style=\"white-space: nowrap; max-width: 500px; overflow: hidden; text-overflow: ellipsis; \" colspan=\"1\"><div style=\"text-align: left;\"></div></td><td style=\"white-space: nowrap; max-width: 500px; overflow: hidden; text-overflow: ellipsis; \" colspan=\"4\"><div style=\"text-align: left;\"></div></td><td style=\"white-space: nowrap; max-width: 500px; overflow: hidden; text-overflow: ellipsis; \" colspan=\"1\"><div style=\"text-align: left;\"></div></td></tr><tr><td style=\"white-space: nowrap; max-width: 500px; overflow: hidden; text-overflow: ellipsis; \" colspan=\"1\"><div style=\"text-align: left;\"></div></td><td style=\"white-space: nowrap; max-width: 500px; overflow: hidden; text-overflow: ellipsis; \" colspan=\"1\"><div style=\"text-align: left;\"></div></td><td style=\"white-space: nowrap; max-width: 500px; overflow: hidden; text-overflow: ellipsis; \" colspan=\"1\"><div style=\"text-align: left;\"></div></td><td style=\"white-space: nowrap; max-width: 500px; overflow: hidden; text-overflow: ellipsis; \" colspan=\"1\"><div style=\"text-align: left;\"></div></td><td style=\"white-space: nowrap; max-width: 500px; overflow: hidden; text-overflow: ellipsis; \" colspan=\"1\"><div style=\"text-align: left;\"></div></td><td style=\"white-space: nowrap; max-width: 500px; overflow: hidden; text-overflow: ellipsis; \" colspan=\"4\"><div style=\"text-align: left;border-bottom: solid 2px #000; padding-bottom: 5px\">info</div></td><td style=\"white-space: nowrap; max-width: 500px; overflow: hidden; text-overflow: ellipsis; \" colspan=\"1\"><div style=\"text-align: left;\"></div></td></tr><tr><td style=\"white-space: nowrap; max-width: 500px; overflow: hidden; text-overflow: ellipsis; \" colspan=\"1\"><div style=\"text-align: left;border-bottom: solid 2px #000; padding-bottom: 5px\">locus</div></td><td style=\"white-space: nowrap; max-width: 500px; overflow: hidden; text-overflow: ellipsis; \" colspan=\"1\"><div style=\"text-align: left;border-bottom: solid 2px #000; padding-bottom: 5px\">alleles</div></td><td style=\"white-space: nowrap; max-width: 500px; overflow: hidden; text-overflow: ellipsis; \" colspan=\"1\"><div style=\"text-align: left;border-bottom: solid 2px #000; padding-bottom: 5px\">rsid</div></td><td style=\"white-space: nowrap; max-width: 500px; overflow: hidden; text-overflow: ellipsis; \" colspan=\"1\"><div style=\"text-align: left;border-bottom: solid 2px #000; padding-bottom: 5px\">qual</div></td><td style=\"white-space: nowrap; max-width: 500px; overflow: hidden; text-overflow: ellipsis; \" colspan=\"1\"><div style=\"text-align: left;border-bottom: solid 2px #000; padding-bottom: 5px\">filters</div></td><td style=\"white-space: nowrap; max-width: 500px; overflow: hidden; text-overflow: ellipsis; \" colspan=\"1\"><div style=\"text-align: left;border-bottom: solid 2px #000; padding-bottom: 5px\">AF</div></td><td style=\"white-space: nowrap; max-width: 500px; overflow: hidden; text-overflow: ellipsis; \" colspan=\"1\"><div style=\"text-align: left;border-bottom: solid 2px #000; padding-bottom: 5px\">MAF</div></td><td style=\"white-space: nowrap; max-width: 500px; overflow: hidden; text-overflow: ellipsis; \" colspan=\"1\"><div style=\"text-align: left;border-bottom: solid 2px #000; padding-bottom: 5px\">R2</div></td><td style=\"white-space: nowrap; max-width: 500px; overflow: hidden; text-overflow: ellipsis; \" colspan=\"1\"><div style=\"text-align: left;border-bottom: solid 2px #000; padding-bottom: 5px\">ER2</div></td><td style=\"white-space: nowrap; max-width: 500px; overflow: hidden; text-overflow: ellipsis; \" colspan=\"1\"><div style=\"text-align: left;border-bottom: solid 2px #000; padding-bottom: 5px\">variantID</div></td></tr><tr><td style=\"white-space: nowrap; max-width: 500px; overflow: hidden; text-overflow: ellipsis; text-align: left;\">locus&lt;GRCh37&gt;</td><td style=\"white-space: nowrap; max-width: 500px; overflow: hidden; text-overflow: ellipsis; text-align: left;\">array&lt;str&gt;</td><td style=\"white-space: nowrap; max-width: 500px; overflow: hidden; text-overflow: ellipsis; text-align: left;\">str</td><td style=\"white-space: nowrap; max-width: 500px; overflow: hidden; text-overflow: ellipsis; text-align: left;\">float64</td><td style=\"white-space: nowrap; max-width: 500px; overflow: hidden; text-overflow: ellipsis; text-align: left;\">set&lt;str&gt;</td><td style=\"white-space: nowrap; max-width: 500px; overflow: hidden; text-overflow: ellipsis; text-align: left;\">float64</td><td style=\"white-space: nowrap; max-width: 500px; overflow: hidden; text-overflow: ellipsis; text-align: left;\">float64</td><td style=\"white-space: nowrap; max-width: 500px; overflow: hidden; text-overflow: ellipsis; text-align: left;\">float64</td><td style=\"white-space: nowrap; max-width: 500px; overflow: hidden; text-overflow: ellipsis; text-align: left;\">float64</td><td style=\"white-space: nowrap; max-width: 500px; overflow: hidden; text-overflow: ellipsis; text-align: left;\">str</td></tr>\n",
       "</thead><tbody><tr><td style=\"white-space: nowrap; max-width: 500px; overflow: hidden; text-overflow: ellipsis; \">1:16141</td><td style=\"white-space: nowrap; max-width: 500px; overflow: hidden; text-overflow: ellipsis; \">[&quot;C&quot;,&quot;T&quot;]</td><td style=\"white-space: nowrap; max-width: 500px; overflow: hidden; text-overflow: ellipsis; \">&quot;1:16141&quot;</td><td style=\"white-space: nowrap; max-width: 500px; overflow: hidden; text-overflow: ellipsis; \">-1.00e+01</td><td style=\"white-space: nowrap; max-width: 500px; overflow: hidden; text-overflow: ellipsis; \">{}</td><td style=\"white-space: nowrap; max-width: 500px; overflow: hidden; text-overflow: ellipsis; \">1.10e-02</td><td style=\"white-space: nowrap; max-width: 500px; overflow: hidden; text-overflow: ellipsis; \">1.10e-02</td><td style=\"white-space: nowrap; max-width: 500px; overflow: hidden; text-overflow: ellipsis; \">3.35e-01</td><td style=\"white-space: nowrap; max-width: 500px; overflow: hidden; text-overflow: ellipsis; \">NA</td><td style=\"white-space: nowrap; max-width: 500px; overflow: hidden; text-overflow: ellipsis; \">&quot;1:16141&quot;</td></tr>\n",
       "<tr><td style=\"white-space: nowrap; max-width: 500px; overflow: hidden; text-overflow: ellipsis; \">1:20113</td><td style=\"white-space: nowrap; max-width: 500px; overflow: hidden; text-overflow: ellipsis; \">[&quot;C&quot;,&quot;T&quot;]</td><td style=\"white-space: nowrap; max-width: 500px; overflow: hidden; text-overflow: ellipsis; \">&quot;1:20113&quot;</td><td style=\"white-space: nowrap; max-width: 500px; overflow: hidden; text-overflow: ellipsis; \">-1.00e+01</td><td style=\"white-space: nowrap; max-width: 500px; overflow: hidden; text-overflow: ellipsis; \">{}</td><td style=\"white-space: nowrap; max-width: 500px; overflow: hidden; text-overflow: ellipsis; \">2.80e-03</td><td style=\"white-space: nowrap; max-width: 500px; overflow: hidden; text-overflow: ellipsis; \">2.80e-03</td><td style=\"white-space: nowrap; max-width: 500px; overflow: hidden; text-overflow: ellipsis; \">3.83e-01</td><td style=\"white-space: nowrap; max-width: 500px; overflow: hidden; text-overflow: ellipsis; \">NA</td><td style=\"white-space: nowrap; max-width: 500px; overflow: hidden; text-overflow: ellipsis; \">&quot;1:20113&quot;</td></tr>\n",
       "<tr><td style=\"white-space: nowrap; max-width: 500px; overflow: hidden; text-overflow: ellipsis; \">1:51047</td><td style=\"white-space: nowrap; max-width: 500px; overflow: hidden; text-overflow: ellipsis; \">[&quot;A&quot;,&quot;T&quot;]</td><td style=\"white-space: nowrap; max-width: 500px; overflow: hidden; text-overflow: ellipsis; \">&quot;1:51047&quot;</td><td style=\"white-space: nowrap; max-width: 500px; overflow: hidden; text-overflow: ellipsis; \">-1.00e+01</td><td style=\"white-space: nowrap; max-width: 500px; overflow: hidden; text-overflow: ellipsis; \">{}</td><td style=\"white-space: nowrap; max-width: 500px; overflow: hidden; text-overflow: ellipsis; \">7.74e-03</td><td style=\"white-space: nowrap; max-width: 500px; overflow: hidden; text-overflow: ellipsis; \">7.74e-03</td><td style=\"white-space: nowrap; max-width: 500px; overflow: hidden; text-overflow: ellipsis; \">4.09e-01</td><td style=\"white-space: nowrap; max-width: 500px; overflow: hidden; text-overflow: ellipsis; \">NA</td><td style=\"white-space: nowrap; max-width: 500px; overflow: hidden; text-overflow: ellipsis; \">&quot;1:51047&quot;</td></tr>\n",
       "<tr><td style=\"white-space: nowrap; max-width: 500px; overflow: hidden; text-overflow: ellipsis; \">1:51049</td><td style=\"white-space: nowrap; max-width: 500px; overflow: hidden; text-overflow: ellipsis; \">[&quot;A&quot;,&quot;C&quot;]</td><td style=\"white-space: nowrap; max-width: 500px; overflow: hidden; text-overflow: ellipsis; \">&quot;1:51049&quot;</td><td style=\"white-space: nowrap; max-width: 500px; overflow: hidden; text-overflow: ellipsis; \">-1.00e+01</td><td style=\"white-space: nowrap; max-width: 500px; overflow: hidden; text-overflow: ellipsis; \">{}</td><td style=\"white-space: nowrap; max-width: 500px; overflow: hidden; text-overflow: ellipsis; \">7.75e-03</td><td style=\"white-space: nowrap; max-width: 500px; overflow: hidden; text-overflow: ellipsis; \">7.75e-03</td><td style=\"white-space: nowrap; max-width: 500px; overflow: hidden; text-overflow: ellipsis; \">4.09e-01</td><td style=\"white-space: nowrap; max-width: 500px; overflow: hidden; text-overflow: ellipsis; \">NA</td><td style=\"white-space: nowrap; max-width: 500px; overflow: hidden; text-overflow: ellipsis; \">&quot;1:51049&quot;</td></tr>\n",
       "<tr><td style=\"white-space: nowrap; max-width: 500px; overflow: hidden; text-overflow: ellipsis; \">1:51050</td><td style=\"white-space: nowrap; max-width: 500px; overflow: hidden; text-overflow: ellipsis; \">[&quot;A&quot;,&quot;T&quot;]</td><td style=\"white-space: nowrap; max-width: 500px; overflow: hidden; text-overflow: ellipsis; \">&quot;1:51050&quot;</td><td style=\"white-space: nowrap; max-width: 500px; overflow: hidden; text-overflow: ellipsis; \">-1.00e+01</td><td style=\"white-space: nowrap; max-width: 500px; overflow: hidden; text-overflow: ellipsis; \">{}</td><td style=\"white-space: nowrap; max-width: 500px; overflow: hidden; text-overflow: ellipsis; \">7.75e-03</td><td style=\"white-space: nowrap; max-width: 500px; overflow: hidden; text-overflow: ellipsis; \">7.75e-03</td><td style=\"white-space: nowrap; max-width: 500px; overflow: hidden; text-overflow: ellipsis; \">4.09e-01</td><td style=\"white-space: nowrap; max-width: 500px; overflow: hidden; text-overflow: ellipsis; \">NA</td><td style=\"white-space: nowrap; max-width: 500px; overflow: hidden; text-overflow: ellipsis; \">&quot;1:51050&quot;</td></tr>\n",
       "</tbody></table><p style=\"background: #fdd; padding: 0.4em;\">showing top 5 rows</p>\n"
      ],
      "text/plain": [
       "+---------------+------------+-----------+-----------+----------+----------+----------+----------+\n",
       "| locus         | alleles    | rsid      |      qual | filters  |  info.AF | info.MAF |  info.R2 |\n",
       "+---------------+------------+-----------+-----------+----------+----------+----------+----------+\n",
       "| locus<GRCh37> | array<str> | str       |   float64 | set<str> |  float64 |  float64 |  float64 |\n",
       "+---------------+------------+-----------+-----------+----------+----------+----------+----------+\n",
       "| 1:16141       | [\"C\",\"T\"]  | \"1:16141\" | -1.00e+01 | {}       | 1.10e-02 | 1.10e-02 | 3.35e-01 |\n",
       "| 1:20113       | [\"C\",\"T\"]  | \"1:20113\" | -1.00e+01 | {}       | 2.80e-03 | 2.80e-03 | 3.83e-01 |\n",
       "| 1:51047       | [\"A\",\"T\"]  | \"1:51047\" | -1.00e+01 | {}       | 7.74e-03 | 7.74e-03 | 4.09e-01 |\n",
       "| 1:51049       | [\"A\",\"C\"]  | \"1:51049\" | -1.00e+01 | {}       | 7.75e-03 | 7.75e-03 | 4.09e-01 |\n",
       "| 1:51050       | [\"A\",\"T\"]  | \"1:51050\" | -1.00e+01 | {}       | 7.75e-03 | 7.75e-03 | 4.09e-01 |\n",
       "+---------------+------------+-----------+-----------+----------+----------+----------+----------+\n",
       "\n",
       "+----------+-----------+\n",
       "| info.ER2 | variantID |\n",
       "+----------+-----------+\n",
       "|  float64 | str       |\n",
       "+----------+-----------+\n",
       "|       NA | \"1:16141\" |\n",
       "|       NA | \"1:20113\" |\n",
       "|       NA | \"1:51047\" |\n",
       "|       NA | \"1:51049\" |\n",
       "|       NA | \"1:51050\" |\n",
       "+----------+-----------+\n",
       "showing top 5 rows"
      ]
     },
     "metadata": {},
     "output_type": "display_data"
    }
   ],
   "source": [
    "mt.rows().show(5)"
   ]
  },
  {
   "cell_type": "markdown",
   "id": "ab0544ed",
   "metadata": {},
   "source": [
    "`variantID` のカラムが表示されていることをご確認ください。"
   ]
  },
  {
   "cell_type": "markdown",
   "id": "459aa2e8",
   "metadata": {},
   "source": [
    "### Step 3-1 PRSモデルを読み込みます (PGS000004)"
   ]
  },
  {
   "cell_type": "markdown",
   "id": "c40a524a",
   "metadata": {},
   "source": [
    "まずは、比較的バリアント数の少ない PRS モデル (PGS000004) を用います。\n",
    "\n",
    "下記のコードを実行すると、`prs-models/PGS000004.txt` のデータが読み込まれます。"
   ]
  },
  {
   "cell_type": "code",
   "execution_count": 5,
   "id": "2bd200d5",
   "metadata": {},
   "outputs": [
    {
     "name": "stderr",
     "output_type": "stream",
     "text": [
      "2021-06-12 12:40:30 Hail: INFO: Reading table to impute column types\n",
      "2021-06-12 12:40:31 Hail: INFO: Finished type imputation\n",
      "  Loading field 'chr_name' as type int32 (imputed)\n",
      "  Loading field 'chr_position' as type int32 (imputed)\n",
      "  Loading field 'effect_allele' as type str (imputed)\n",
      "  Loading field 'reference_allele' as type str (imputed)\n",
      "  Loading field 'effect_weight' as type float64 (imputed)\n",
      "  Loading field 'allelefrequency_effect' as type float64 (imputed)\n"
     ]
    }
   ],
   "source": [
    "model_PGS000004 = hl.import_table('prs-models/PGS000004.txt', impute=True, force=True)"
   ]
  },
  {
   "cell_type": "markdown",
   "id": "5c84a437",
   "metadata": {},
   "source": [
    "下記のコードは、PRSモデルに含まれるバリアントの個数を表示します。"
   ]
  },
  {
   "cell_type": "code",
   "execution_count": 6,
   "id": "3c49a9ac",
   "metadata": {},
   "outputs": [
    {
     "data": {
      "text/plain": [
       "313"
      ]
     },
     "execution_count": 6,
     "metadata": {},
     "output_type": "execute_result"
    }
   ],
   "source": [
    "model_PGS000004.count()"
   ]
  },
  {
   "cell_type": "markdown",
   "id": "5c7be518",
   "metadata": {},
   "source": [
    "`313` と表示されました。\n",
    "\n",
    "これは、PRSモデルに含まれるバリアントの個数が 313 個であることを意味します。"
   ]
  },
  {
   "cell_type": "markdown",
   "id": "70e6076a",
   "metadata": {},
   "source": [
    "下記のコードは、読み込んだ PRS モデルに `variantID` を追加します。"
   ]
  },
  {
   "cell_type": "code",
   "execution_count": 8,
   "id": "7251c609",
   "metadata": {},
   "outputs": [],
   "source": [
    "model_PGS000004 = model_PGS000004.annotate(\n",
    "    variantID = hl.str(model_PGS000004.chr_name) + \":\" + hl.str(model_PGS000004.chr_position) \n",
    ") "
   ]
  },
  {
   "cell_type": "markdown",
   "id": "19883f8f",
   "metadata": {},
   "source": [
    "`variantID` を追加したのちの最初の 5 行を表示します。"
   ]
  },
  {
   "cell_type": "code",
   "execution_count": 9,
   "id": "ea4b5571",
   "metadata": {},
   "outputs": [
    {
     "data": {
      "text/html": [
       "<table><thead><tr><td style=\"white-space: nowrap; max-width: 500px; overflow: hidden; text-overflow: ellipsis; \" colspan=\"1\"><div style=\"text-align: left;\"></div></td><td style=\"white-space: nowrap; max-width: 500px; overflow: hidden; text-overflow: ellipsis; \" colspan=\"1\"><div style=\"text-align: left;\"></div></td><td style=\"white-space: nowrap; max-width: 500px; overflow: hidden; text-overflow: ellipsis; \" colspan=\"1\"><div style=\"text-align: left;\"></div></td><td style=\"white-space: nowrap; max-width: 500px; overflow: hidden; text-overflow: ellipsis; \" colspan=\"1\"><div style=\"text-align: left;\"></div></td><td style=\"white-space: nowrap; max-width: 500px; overflow: hidden; text-overflow: ellipsis; \" colspan=\"1\"><div style=\"text-align: left;\"></div></td><td style=\"white-space: nowrap; max-width: 500px; overflow: hidden; text-overflow: ellipsis; \" colspan=\"1\"><div style=\"text-align: left;\"></div></td><td style=\"white-space: nowrap; max-width: 500px; overflow: hidden; text-overflow: ellipsis; \" colspan=\"1\"><div style=\"text-align: left;\"></div></td></tr><tr><td style=\"white-space: nowrap; max-width: 500px; overflow: hidden; text-overflow: ellipsis; \" colspan=\"1\"><div style=\"text-align: left;border-bottom: solid 2px #000; padding-bottom: 5px\">chr_name</div></td><td style=\"white-space: nowrap; max-width: 500px; overflow: hidden; text-overflow: ellipsis; \" colspan=\"1\"><div style=\"text-align: left;border-bottom: solid 2px #000; padding-bottom: 5px\">chr_position</div></td><td style=\"white-space: nowrap; max-width: 500px; overflow: hidden; text-overflow: ellipsis; \" colspan=\"1\"><div style=\"text-align: left;border-bottom: solid 2px #000; padding-bottom: 5px\">effect_allele</div></td><td style=\"white-space: nowrap; max-width: 500px; overflow: hidden; text-overflow: ellipsis; \" colspan=\"1\"><div style=\"text-align: left;border-bottom: solid 2px #000; padding-bottom: 5px\">reference_allele</div></td><td style=\"white-space: nowrap; max-width: 500px; overflow: hidden; text-overflow: ellipsis; \" colspan=\"1\"><div style=\"text-align: left;border-bottom: solid 2px #000; padding-bottom: 5px\">effect_weight</div></td><td style=\"white-space: nowrap; max-width: 500px; overflow: hidden; text-overflow: ellipsis; \" colspan=\"1\"><div style=\"text-align: left;border-bottom: solid 2px #000; padding-bottom: 5px\">allelefrequency_effect</div></td><td style=\"white-space: nowrap; max-width: 500px; overflow: hidden; text-overflow: ellipsis; \" colspan=\"1\"><div style=\"text-align: left;border-bottom: solid 2px #000; padding-bottom: 5px\">variantID</div></td></tr><tr><td style=\"white-space: nowrap; max-width: 500px; overflow: hidden; text-overflow: ellipsis; text-align: left;\">int32</td><td style=\"white-space: nowrap; max-width: 500px; overflow: hidden; text-overflow: ellipsis; text-align: left;\">int32</td><td style=\"white-space: nowrap; max-width: 500px; overflow: hidden; text-overflow: ellipsis; text-align: left;\">str</td><td style=\"white-space: nowrap; max-width: 500px; overflow: hidden; text-overflow: ellipsis; text-align: left;\">str</td><td style=\"white-space: nowrap; max-width: 500px; overflow: hidden; text-overflow: ellipsis; text-align: left;\">float64</td><td style=\"white-space: nowrap; max-width: 500px; overflow: hidden; text-overflow: ellipsis; text-align: left;\">float64</td><td style=\"white-space: nowrap; max-width: 500px; overflow: hidden; text-overflow: ellipsis; text-align: left;\">str</td></tr>\n",
       "</thead><tbody><tr><td style=\"white-space: nowrap; max-width: 500px; overflow: hidden; text-overflow: ellipsis; \">1</td><td style=\"white-space: nowrap; max-width: 500px; overflow: hidden; text-overflow: ellipsis; \">100880328</td><td style=\"white-space: nowrap; max-width: 500px; overflow: hidden; text-overflow: ellipsis; \">&quot;T&quot;</td><td style=\"white-space: nowrap; max-width: 500px; overflow: hidden; text-overflow: ellipsis; \">&quot;A&quot;</td><td style=\"white-space: nowrap; max-width: 500px; overflow: hidden; text-overflow: ellipsis; \">3.73e-02</td><td style=\"white-space: nowrap; max-width: 500px; overflow: hidden; text-overflow: ellipsis; \">4.10e-01</td><td style=\"white-space: nowrap; max-width: 500px; overflow: hidden; text-overflow: ellipsis; \">&quot;1:100880328&quot;</td></tr>\n",
       "<tr><td style=\"white-space: nowrap; max-width: 500px; overflow: hidden; text-overflow: ellipsis; \">1</td><td style=\"white-space: nowrap; max-width: 500px; overflow: hidden; text-overflow: ellipsis; \">10566215</td><td style=\"white-space: nowrap; max-width: 500px; overflow: hidden; text-overflow: ellipsis; \">&quot;G&quot;</td><td style=\"white-space: nowrap; max-width: 500px; overflow: hidden; text-overflow: ellipsis; \">&quot;A&quot;</td><td style=\"white-space: nowrap; max-width: 500px; overflow: hidden; text-overflow: ellipsis; \">-5.86e-02</td><td style=\"white-space: nowrap; max-width: 500px; overflow: hidden; text-overflow: ellipsis; \">3.29e-01</td><td style=\"white-space: nowrap; max-width: 500px; overflow: hidden; text-overflow: ellipsis; \">&quot;1:10566215&quot;</td></tr>\n",
       "<tr><td style=\"white-space: nowrap; max-width: 500px; overflow: hidden; text-overflow: ellipsis; \">1</td><td style=\"white-space: nowrap; max-width: 500px; overflow: hidden; text-overflow: ellipsis; \">110198129</td><td style=\"white-space: nowrap; max-width: 500px; overflow: hidden; text-overflow: ellipsis; \">&quot;C&quot;</td><td style=\"white-space: nowrap; max-width: 500px; overflow: hidden; text-overflow: ellipsis; \">&quot;CAAA&quot;</td><td style=\"white-space: nowrap; max-width: 500px; overflow: hidden; text-overflow: ellipsis; \">4.58e-02</td><td style=\"white-space: nowrap; max-width: 500px; overflow: hidden; text-overflow: ellipsis; \">7.76e-01</td><td style=\"white-space: nowrap; max-width: 500px; overflow: hidden; text-overflow: ellipsis; \">&quot;1:110198129&quot;</td></tr>\n",
       "<tr><td style=\"white-space: nowrap; max-width: 500px; overflow: hidden; text-overflow: ellipsis; \">1</td><td style=\"white-space: nowrap; max-width: 500px; overflow: hidden; text-overflow: ellipsis; \">114445880</td><td style=\"white-space: nowrap; max-width: 500px; overflow: hidden; text-overflow: ellipsis; \">&quot;A&quot;</td><td style=\"white-space: nowrap; max-width: 500px; overflow: hidden; text-overflow: ellipsis; \">&quot;G&quot;</td><td style=\"white-space: nowrap; max-width: 500px; overflow: hidden; text-overflow: ellipsis; \">6.21e-02</td><td style=\"white-space: nowrap; max-width: 500px; overflow: hidden; text-overflow: ellipsis; \">1.66e-01</td><td style=\"white-space: nowrap; max-width: 500px; overflow: hidden; text-overflow: ellipsis; \">&quot;1:114445880&quot;</td></tr>\n",
       "<tr><td style=\"white-space: nowrap; max-width: 500px; overflow: hidden; text-overflow: ellipsis; \">1</td><td style=\"white-space: nowrap; max-width: 500px; overflow: hidden; text-overflow: ellipsis; \">118141492</td><td style=\"white-space: nowrap; max-width: 500px; overflow: hidden; text-overflow: ellipsis; \">&quot;C&quot;</td><td style=\"white-space: nowrap; max-width: 500px; overflow: hidden; text-overflow: ellipsis; \">&quot;A&quot;</td><td style=\"white-space: nowrap; max-width: 500px; overflow: hidden; text-overflow: ellipsis; \">4.52e-02</td><td style=\"white-space: nowrap; max-width: 500px; overflow: hidden; text-overflow: ellipsis; \">2.66e-01</td><td style=\"white-space: nowrap; max-width: 500px; overflow: hidden; text-overflow: ellipsis; \">&quot;1:118141492&quot;</td></tr>\n",
       "</tbody></table><p style=\"background: #fdd; padding: 0.4em;\">showing top 5 rows</p>\n"
      ],
      "text/plain": [
       "+----------+--------------+---------------+------------------+---------------+------------------------+\n",
       "| chr_name | chr_position | effect_allele | reference_allele | effect_weight | allelefrequency_effect |\n",
       "+----------+--------------+---------------+------------------+---------------+------------------------+\n",
       "|    int32 |        int32 | str           | str              |       float64 |                float64 |\n",
       "+----------+--------------+---------------+------------------+---------------+------------------------+\n",
       "|        1 |    100880328 | \"T\"           | \"A\"              |      3.73e-02 |               4.10e-01 |\n",
       "|        1 |     10566215 | \"G\"           | \"A\"              |     -5.86e-02 |               3.29e-01 |\n",
       "|        1 |    110198129 | \"C\"           | \"CAAA\"           |      4.58e-02 |               7.76e-01 |\n",
       "|        1 |    114445880 | \"A\"           | \"G\"              |      6.21e-02 |               1.66e-01 |\n",
       "|        1 |    118141492 | \"C\"           | \"A\"              |      4.52e-02 |               2.66e-01 |\n",
       "+----------+--------------+---------------+------------------+---------------+------------------------+\n",
       "\n",
       "+---------------+\n",
       "| variantID     |\n",
       "+---------------+\n",
       "| str           |\n",
       "+---------------+\n",
       "| \"1:100880328\" |\n",
       "| \"1:10566215\"  |\n",
       "| \"1:110198129\" |\n",
       "| \"1:114445880\" |\n",
       "| \"1:118141492\" |\n",
       "+---------------+\n",
       "showing top 5 rows"
      ]
     },
     "metadata": {},
     "output_type": "display_data"
    }
   ],
   "source": [
    "model_PGS000004.show(5)"
   ]
  },
  {
   "cell_type": "markdown",
   "id": "cf5bf97f",
   "metadata": {},
   "source": [
    "`variantID` のカラムが追加されていることが分かります。"
   ]
  },
  {
   "cell_type": "markdown",
   "id": "d862a990",
   "metadata": {},
   "source": [
    "### Step 3-2 ゲノムデータとPRSモデルに共通するバリアントを抽出します (PGS000004)"
   ]
  },
  {
   "cell_type": "markdown",
   "id": "34aa4626",
   "metadata": {},
   "source": [
    "下記のコードは、PRSモデルのバリアント情報を `variantID` で検索できるようにします。"
   ]
  },
  {
   "cell_type": "code",
   "execution_count": 10,
   "id": "ae6e2ca9",
   "metadata": {},
   "outputs": [],
   "source": [
    "model_PGS000004 = model_PGS000004.key_by('variantID')"
   ]
  },
  {
   "cell_type": "markdown",
   "id": "d6b29b7f",
   "metadata": {},
   "source": [
    "下記のコードは、ゲノムデータと PRS モデルに共通するバリアントを抽出します。"
   ]
  },
  {
   "cell_type": "code",
   "execution_count": 15,
   "id": "c4bf37f2",
   "metadata": {},
   "outputs": [],
   "source": [
    "mt_match_PGS000004 = mt.annotate_rows(**model_PGS000004[mt.variantID])\n",
    "mt_match_PGS000004 = mt_match_PGS000004.filter_rows(hl.is_defined(mt_match_PGS000004.effect_weight))"
   ]
  },
  {
   "cell_type": "markdown",
   "id": "8be93d69",
   "metadata": {},
   "source": [
    "今後のステップの実行時間を短縮するため、抽出したゲノムデータを保存し、再度読み込みます。\n",
    "下記のコードは、抽出したゲノムデータを `genome-data/1kg.JPT.chrAll.filtered.matched_PGS000004.mt` に保存します。\n",
    "15分程度の待ち時間が生じます。"
   ]
  },
  {
   "cell_type": "code",
   "execution_count": 18,
   "id": "94a060b1",
   "metadata": {},
   "outputs": [
    {
     "name": "stderr",
     "output_type": "stream",
     "text": [
      "2021-06-12 12:59:26 Hail: INFO: Ordering unsorted dataset with network shuffle\n",
      "2021-06-12 12:59:27 Hail: INFO: Ordering unsorted dataset with network shuffle\n",
      "2021-06-12 13:06:37 Hail: INFO: Ordering unsorted dataset with network shuffle\n",
      "2021-06-12 13:11:04 Hail: INFO: wrote matrix table with 272 rows and 104 columns in 22 partitions to genome-data/1kg.JPT.chrAll.filtered.matched_PGS000004.mt\n",
      "    Total size: 53.57 KiB\n",
      "    * Rows/entries: 52.73 KiB\n",
      "    * Columns: 858.00 B\n",
      "    * Globals: 11.00 B\n",
      "    * Smallest partition: 2 rows (568.00 B)\n",
      "    * Largest partition:  24 rows (5.22 KiB)\n"
     ]
    }
   ],
   "source": [
    "mt_match_PGS000004.write('genome-data/1kg.JPT.chrAll.filtered.matched_PGS000004.mt', overwrite=True)"
   ]
  },
  {
   "cell_type": "markdown",
   "id": "37ece3b4",
   "metadata": {},
   "source": [
    "下記のコードは、`genome-data/1kg.JPT.chrAll.filtered.matched_PGS000004.mt` を読み込みます。"
   ]
  },
  {
   "cell_type": "code",
   "execution_count": 19,
   "id": "2fd03ea7",
   "metadata": {},
   "outputs": [],
   "source": [
    "mt_match_PGS000004 = hl.read_matrix_table('genome-data/1kg.JPT.chrAll.filtered.matched_PGS000004.mt')"
   ]
  },
  {
   "cell_type": "markdown",
   "id": "7486d954",
   "metadata": {},
   "source": [
    "下記のコードは、ゲノムデータとPRSモデルに共通するバリアントを抽出した結果、ユニークな `variantID` が何個あるかをカウントします。"
   ]
  },
  {
   "cell_type": "code",
   "execution_count": 20,
   "id": "0df6fe5f",
   "metadata": {},
   "outputs": [
    {
     "data": {
      "text/plain": [
       "265"
      ]
     },
     "execution_count": 20,
     "metadata": {},
     "output_type": "execute_result"
    }
   ],
   "source": [
    "len(dict(mt_match_PGS000004.aggregate_rows(hl.agg.counter(mt_match_PGS000004.variantID))))"
   ]
  },
  {
   "cell_type": "markdown",
   "id": "94516563",
   "metadata": {},
   "source": [
    "`265`と表示されました。\n",
    "\n",
    "この結果から、PGS000004 モデルに含まれるバリアント数は313個でしたが、そのうち265個が `merge-and-filter` 後のゲノムデータに含まれていることが分かります。"
   ]
  },
  {
   "cell_type": "markdown",
   "id": "01119225",
   "metadata": {},
   "source": [
    "### Step 3-3 PRSを計算して保存します (PGS000004)"
   ]
  },
  {
   "cell_type": "markdown",
   "id": "e7b9b602",
   "metadata": {},
   "source": [
    "下記のコードは、ゲノムデータのアリル情報とPRSモデルのアリル情報を比較し、合致しているかをチェックします。"
   ]
  },
  {
   "cell_type": "code",
   "execution_count": 21,
   "id": "9f18bf2c",
   "metadata": {},
   "outputs": [],
   "source": [
    "flip_PGS000004 = hl.case().when( \n",
    "    (mt_match_PGS000004.effect_allele == mt_match_PGS000004.alleles[0]) \n",
    "    & (mt_match_PGS000004.reference_allele == mt_match_PGS000004.alleles[1]), True ).when( \n",
    "    (mt_match_PGS000004.effect_allele == mt_match_PGS000004.alleles[1])\n",
    "    & (mt_match_PGS000004.reference_allele == mt_match_PGS000004.alleles[0]), False ).or_missing()"
   ]
  },
  {
   "cell_type": "code",
   "execution_count": 22,
   "id": "11220735",
   "metadata": {},
   "outputs": [],
   "source": [
    "mt_match_PGS000004 = mt_match_PGS000004.annotate_rows( flip=flip_PGS000004 )"
   ]
  },
  {
   "cell_type": "markdown",
   "id": "e0aeac0c",
   "metadata": {},
   "source": [
    "下記のコードは、各々のバリアントについて研究対象者の持っているアリル数（`mt_match_PGS000004.DS`）とバリアントの重み（`mt_match_PGS000004.effect_weight`）を掛け合わせて、ゲノムデータとPRSモデルの共通するバリアントについて足し合わせます。 これにより、PRSを計算することができます。"
   ]
  },
  {
   "cell_type": "code",
   "execution_count": 23,
   "id": "6ed1086e",
   "metadata": {},
   "outputs": [],
   "source": [
    "prs_PGS000004 = hl.agg.sum( hl.float64( mt_match_PGS000004.effect_weight ) * \n",
    "                    hl.if_else( mt_match_PGS000004.flip, \n",
    "                                2 - mt_match_PGS000004.DS,\n",
    "                                mt_match_PGS000004.DS) )"
   ]
  },
  {
   "cell_type": "code",
   "execution_count": 24,
   "id": "2ea99b27",
   "metadata": {},
   "outputs": [],
   "source": [
    "mt_match_PGS000004 = mt_match_PGS000004.annotate_cols(prs=prs_PGS000004)"
   ]
  },
  {
   "cell_type": "markdown",
   "id": "38e349fc",
   "metadata": {},
   "source": [
    "下記のコードは、PRSの値を表示します。"
   ]
  },
  {
   "cell_type": "code",
   "execution_count": 25,
   "id": "0c37b3a8",
   "metadata": {},
   "outputs": [
    {
     "name": "stderr",
     "output_type": "stream",
     "text": [
      "2021-06-12 13:17:07 Hail: WARN: cols(): Resulting column table is sorted by 'col_key'.\n",
      "    To preserve matrix table column order, first unkey columns with 'key_cols_by()'\n"
     ]
    },
    {
     "data": {
      "text/html": [
       "<table><thead><tr><td style=\"white-space: nowrap; max-width: 500px; overflow: hidden; text-overflow: ellipsis; \" colspan=\"1\"><div style=\"text-align: left;\"></div></td><td style=\"white-space: nowrap; max-width: 500px; overflow: hidden; text-overflow: ellipsis; \" colspan=\"1\"><div style=\"text-align: left;\"></div></td></tr><tr><td style=\"white-space: nowrap; max-width: 500px; overflow: hidden; text-overflow: ellipsis; \" colspan=\"1\"><div style=\"text-align: left;border-bottom: solid 2px #000; padding-bottom: 5px\">s</div></td><td style=\"white-space: nowrap; max-width: 500px; overflow: hidden; text-overflow: ellipsis; \" colspan=\"1\"><div style=\"text-align: left;border-bottom: solid 2px #000; padding-bottom: 5px\">prs</div></td></tr><tr><td style=\"white-space: nowrap; max-width: 500px; overflow: hidden; text-overflow: ellipsis; text-align: left;\">str</td><td style=\"white-space: nowrap; max-width: 500px; overflow: hidden; text-overflow: ellipsis; text-align: left;\">float64</td></tr>\n",
       "</thead><tbody><tr><td style=\"white-space: nowrap; max-width: 500px; overflow: hidden; text-overflow: ellipsis; \">&quot;TEST_NA18939_TEST_NA18939&quot;</td><td style=\"white-space: nowrap; max-width: 500px; overflow: hidden; text-overflow: ellipsis; \">7.62e-02</td></tr>\n",
       "<tr><td style=\"white-space: nowrap; max-width: 500px; overflow: hidden; text-overflow: ellipsis; \">&quot;TEST_NA18940_TEST_NA18940&quot;</td><td style=\"white-space: nowrap; max-width: 500px; overflow: hidden; text-overflow: ellipsis; \">9.38e-01</td></tr>\n",
       "<tr><td style=\"white-space: nowrap; max-width: 500px; overflow: hidden; text-overflow: ellipsis; \">&quot;TEST_NA18941_TEST_NA18941&quot;</td><td style=\"white-space: nowrap; max-width: 500px; overflow: hidden; text-overflow: ellipsis; \">5.07e-01</td></tr>\n",
       "<tr><td style=\"white-space: nowrap; max-width: 500px; overflow: hidden; text-overflow: ellipsis; \">&quot;TEST_NA18942_TEST_NA18942&quot;</td><td style=\"white-space: nowrap; max-width: 500px; overflow: hidden; text-overflow: ellipsis; \">1.43e-01</td></tr>\n",
       "<tr><td style=\"white-space: nowrap; max-width: 500px; overflow: hidden; text-overflow: ellipsis; \">&quot;TEST_NA18943_TEST_NA18943&quot;</td><td style=\"white-space: nowrap; max-width: 500px; overflow: hidden; text-overflow: ellipsis; \">7.16e-01</td></tr>\n",
       "</tbody></table><p style=\"background: #fdd; padding: 0.4em;\">showing top 5 rows</p>\n"
      ],
      "text/plain": [
       "+-----------------------------+----------+\n",
       "| s                           |      prs |\n",
       "+-----------------------------+----------+\n",
       "| str                         |  float64 |\n",
       "+-----------------------------+----------+\n",
       "| \"TEST_NA18939_TEST_NA18939\" | 7.62e-02 |\n",
       "| \"TEST_NA18940_TEST_NA18940\" | 9.38e-01 |\n",
       "| \"TEST_NA18941_TEST_NA18941\" | 5.07e-01 |\n",
       "| \"TEST_NA18942_TEST_NA18942\" | 1.43e-01 |\n",
       "| \"TEST_NA18943_TEST_NA18943\" | 7.16e-01 |\n",
       "+-----------------------------+----------+\n",
       "showing top 5 rows"
      ]
     },
     "metadata": {},
     "output_type": "display_data"
    }
   ],
   "source": [
    "mt_match_PGS000004.cols().show(5)"
   ]
  },
  {
   "cell_type": "markdown",
   "id": "431a673a",
   "metadata": {},
   "source": [
    "下記のコードは、PRSの分布を表示します。"
   ]
  },
  {
   "cell_type": "code",
   "execution_count": 26,
   "id": "37694af3",
   "metadata": {},
   "outputs": [
    {
     "data": {
      "text/html": [
       "\n",
       "\n",
       "\n",
       "\n",
       "\n",
       "\n",
       "  <div class=\"bk-root\" id=\"ade8db2a-334f-4d1f-b025-fc89928db071\" data-root-id=\"1002\"></div>\n"
      ]
     },
     "metadata": {},
     "output_type": "display_data"
    },
    {
     "data": {
      "application/javascript": [
       "(function(root) {\n",
       "  function embed_document(root) {\n",
       "    \n",
       "  var docs_json = {\"c16d176f-536c-4f43-ae29-8832e2ccef67\":{\"roots\":{\"references\":[{\"attributes\":{\"background_fill_color\":{\"value\":\"#EEEEEE\"},\"below\":[{\"id\":\"1013\",\"type\":\"LinearAxis\"}],\"center\":[{\"id\":\"1017\",\"type\":\"Grid\"},{\"id\":\"1022\",\"type\":\"Grid\"},{\"id\":\"1047\",\"type\":\"Legend\"}],\"left\":[{\"id\":\"1018\",\"type\":\"LinearAxis\"}],\"renderers\":[{\"id\":\"1039\",\"type\":\"GlyphRenderer\"},{\"id\":\"1052\",\"type\":\"GlyphRenderer\"}],\"title\":{\"id\":\"1003\",\"type\":\"Title\"},\"toolbar\":{\"id\":\"1029\",\"type\":\"Toolbar\"},\"x_range\":{\"id\":\"1005\",\"type\":\"Range1d\"},\"x_scale\":{\"id\":\"1009\",\"type\":\"LinearScale\"},\"y_range\":{\"id\":\"1007\",\"type\":\"DataRange1d\"},\"y_scale\":{\"id\":\"1011\",\"type\":\"LinearScale\"}},\"id\":\"1002\",\"subtype\":\"Figure\",\"type\":\"Plot\"},{\"attributes\":{},\"id\":\"1028\",\"type\":\"HelpTool\"},{\"attributes\":{\"data_source\":{\"id\":\"1036\",\"type\":\"ColumnDataSource\"},\"glyph\":{\"id\":\"1037\",\"type\":\"Quad\"},\"hover_glyph\":null,\"muted_glyph\":null,\"nonselection_glyph\":{\"id\":\"1038\",\"type\":\"Quad\"},\"selection_glyph\":null,\"view\":{\"id\":\"1040\",\"type\":\"CDSView\"}},\"id\":\"1039\",\"type\":\"GlyphRenderer\"},{\"attributes\":{\"axis_label\":\"Frequency\",\"formatter\":{\"id\":\"1044\",\"type\":\"BasicTickFormatter\"},\"ticker\":{\"id\":\"1019\",\"type\":\"BasicTicker\"}},\"id\":\"1018\",\"type\":\"LinearAxis\"},{\"attributes\":{\"source\":{\"id\":\"1049\",\"type\":\"ColumnDataSource\"}},\"id\":\"1053\",\"type\":\"CDSView\"},{\"attributes\":{},\"id\":\"1061\",\"type\":\"Selection\"},{\"attributes\":{\"label\":{\"value\":\"PGS000004\"},\"renderers\":[{\"id\":\"1039\",\"type\":\"GlyphRenderer\"}]},\"id\":\"1048\",\"type\":\"LegendItem\"},{\"attributes\":{\"active_drag\":\"auto\",\"active_inspect\":\"auto\",\"active_multi\":null,\"active_scroll\":\"auto\",\"active_tap\":\"auto\",\"tools\":[{\"id\":\"1023\",\"type\":\"PanTool\"},{\"id\":\"1024\",\"type\":\"WheelZoomTool\"},{\"id\":\"1025\",\"type\":\"BoxZoomTool\"},{\"id\":\"1026\",\"type\":\"SaveTool\"},{\"id\":\"1027\",\"type\":\"ResetTool\"},{\"id\":\"1028\",\"type\":\"HelpTool\"}]},\"id\":\"1029\",\"type\":\"Toolbar\"},{\"attributes\":{},\"id\":\"1024\",\"type\":\"WheelZoomTool\"},{\"attributes\":{\"overlay\":{\"id\":\"1046\",\"type\":\"BoxAnnotation\"}},\"id\":\"1025\",\"type\":\"BoxZoomTool\"},{\"attributes\":{\"bottom\":{\"value\":0},\"fill_alpha\":{\"value\":0.1},\"fill_color\":{\"value\":\"#1f77b4\"},\"left\":{\"field\":\"left\"},\"line_alpha\":{\"value\":0.1},\"line_color\":{\"value\":\"#1f77b4\"},\"right\":{\"field\":\"right\"},\"top\":{\"field\":\"top\"}},\"id\":\"1038\",\"type\":\"Quad\"},{\"attributes\":{},\"id\":\"1014\",\"type\":\"BasicTicker\"},{\"attributes\":{},\"id\":\"1027\",\"type\":\"ResetTool\"},{\"attributes\":{},\"id\":\"1071\",\"type\":\"UnionRenderers\"},{\"attributes\":{},\"id\":\"1026\",\"type\":\"SaveTool\"},{\"attributes\":{\"text\":\"PRS Histogram\"},\"id\":\"1003\",\"type\":\"Title\"},{\"attributes\":{},\"id\":\"1042\",\"type\":\"BasicTickFormatter\"},{\"attributes\":{\"bottom\":{\"value\":0},\"fill_color\":{\"value\":\"#1f77b4\"},\"left\":{\"field\":\"left\"},\"right\":{\"field\":\"right\"},\"top\":{\"field\":\"top\"}},\"id\":\"1037\",\"type\":\"Quad\"},{\"attributes\":{\"bottom\":{\"value\":0},\"fill_color\":{\"value\":\"green\"},\"left\":{\"value\":2.2390030999999997},\"right\":{\"value\":2.38542263},\"top\":{\"value\":1}},\"id\":\"1050\",\"type\":\"Quad\"},{\"attributes\":{\"callback\":null,\"data\":{},\"selected\":{\"id\":\"1072\",\"type\":\"Selection\"},\"selection_policy\":{\"id\":\"1071\",\"type\":\"UnionRenderers\"}},\"id\":\"1049\",\"type\":\"ColumnDataSource\"},{\"attributes\":{\"source\":{\"id\":\"1036\",\"type\":\"ColumnDataSource\"}},\"id\":\"1040\",\"type\":\"CDSView\"},{\"attributes\":{\"callback\":null,\"data\":{\"left\":[-0.6893875,-0.5429679700000001,-0.39654844000000006,-0.25012891000000004,-0.10370938000000007,0.04271014999999989,0.18912967999999997,0.33554920999999993,0.4819687399999999,0.6283882699999999,0.7748077999999998,0.9212273299999998,1.06764686,1.21406639,1.36048592,1.5069054499999996,1.6533249799999998,1.79974451,1.9461640399999998,2.09258357],\"right\":[-0.5429679700000001,-0.39654844000000006,-0.25012891000000004,-0.10370938000000007,0.04271014999999989,0.18912967999999997,0.33554920999999993,0.4819687399999999,0.6283882699999999,0.7748077999999998,0.9212273299999998,1.06764686,1.21406639,1.36048592,1.5069054499999996,1.6533249799999998,1.79974451,1.9461640399999998,2.09258357,2.2390030999999997],\"top\":[1,1,2,5,8,6,5,10,12,13,7,8,8,8,5,4,0,0,0,0]},\"selected\":{\"id\":\"1061\",\"type\":\"Selection\"},\"selection_policy\":{\"id\":\"1060\",\"type\":\"UnionRenderers\"}},\"id\":\"1036\",\"type\":\"ColumnDataSource\"},{\"attributes\":{},\"id\":\"1072\",\"type\":\"Selection\"},{\"attributes\":{\"items\":[{\"id\":\"1048\",\"type\":\"LegendItem\"},{\"id\":\"1062\",\"type\":\"LegendItem\"}]},\"id\":\"1047\",\"type\":\"Legend\"},{\"attributes\":{\"callback\":null,\"end\":2.38542263,\"start\":-0.83580703},\"id\":\"1005\",\"type\":\"Range1d\"},{\"attributes\":{},\"id\":\"1019\",\"type\":\"BasicTicker\"},{\"attributes\":{\"dimension\":1,\"ticker\":{\"id\":\"1019\",\"type\":\"BasicTicker\"}},\"id\":\"1022\",\"type\":\"Grid\"},{\"attributes\":{},\"id\":\"1011\",\"type\":\"LinearScale\"},{\"attributes\":{\"callback\":null},\"id\":\"1007\",\"type\":\"DataRange1d\"},{\"attributes\":{\"bottom_units\":\"screen\",\"fill_alpha\":{\"value\":0.5},\"fill_color\":{\"value\":\"lightgrey\"},\"left_units\":\"screen\",\"level\":\"overlay\",\"line_alpha\":{\"value\":1.0},\"line_color\":{\"value\":\"black\"},\"line_dash\":[4,4],\"line_width\":{\"value\":2},\"render_mode\":\"css\",\"right_units\":\"screen\",\"top_units\":\"screen\"},\"id\":\"1046\",\"type\":\"BoxAnnotation\"},{\"attributes\":{},\"id\":\"1044\",\"type\":\"BasicTickFormatter\"},{\"attributes\":{},\"id\":\"1023\",\"type\":\"PanTool\"},{\"attributes\":{\"bottom\":{\"value\":0},\"fill_alpha\":{\"value\":0.1},\"fill_color\":{\"value\":\"#1f77b4\"},\"left\":{\"value\":2.2390030999999997},\"line_alpha\":{\"value\":0.1},\"line_color\":{\"value\":\"#1f77b4\"},\"right\":{\"value\":2.38542263},\"top\":{\"value\":1}},\"id\":\"1051\",\"type\":\"Quad\"},{\"attributes\":{},\"id\":\"1060\",\"type\":\"UnionRenderers\"},{\"attributes\":{\"data_source\":{\"id\":\"1049\",\"type\":\"ColumnDataSource\"},\"glyph\":{\"id\":\"1050\",\"type\":\"Quad\"},\"hover_glyph\":null,\"muted_glyph\":null,\"nonselection_glyph\":{\"id\":\"1051\",\"type\":\"Quad\"},\"selection_glyph\":null,\"view\":{\"id\":\"1053\",\"type\":\"CDSView\"}},\"id\":\"1052\",\"type\":\"GlyphRenderer\"},{\"attributes\":{\"ticker\":{\"id\":\"1014\",\"type\":\"BasicTicker\"}},\"id\":\"1017\",\"type\":\"Grid\"},{\"attributes\":{},\"id\":\"1009\",\"type\":\"LinearScale\"},{\"attributes\":{\"label\":{\"value\":\"Outliers Above\"},\"renderers\":[{\"id\":\"1052\",\"type\":\"GlyphRenderer\"}]},\"id\":\"1062\",\"type\":\"LegendItem\"},{\"attributes\":{\"axis_label\":\"PGS000004\",\"formatter\":{\"id\":\"1042\",\"type\":\"BasicTickFormatter\"},\"ticker\":{\"id\":\"1014\",\"type\":\"BasicTicker\"}},\"id\":\"1013\",\"type\":\"LinearAxis\"}],\"root_ids\":[\"1002\"]},\"title\":\"Bokeh Application\",\"version\":\"1.4.0\"}};\n",
       "  var render_items = [{\"docid\":\"c16d176f-536c-4f43-ae29-8832e2ccef67\",\"roots\":{\"1002\":\"ade8db2a-334f-4d1f-b025-fc89928db071\"}}];\n",
       "  root.Bokeh.embed.embed_items_notebook(docs_json, render_items);\n",
       "\n",
       "  }\n",
       "  if (root.Bokeh !== undefined) {\n",
       "    embed_document(root);\n",
       "  } else {\n",
       "    var attempts = 0;\n",
       "    var timer = setInterval(function(root) {\n",
       "      if (root.Bokeh !== undefined) {\n",
       "        clearInterval(timer);\n",
       "        embed_document(root);\n",
       "      } else {\n",
       "        attempts++;\n",
       "        if (attempts > 100) {\n",
       "          clearInterval(timer);\n",
       "          console.log(\"Bokeh: ERROR: Unable to run BokehJS code because BokehJS library is missing\");\n",
       "        }\n",
       "      }\n",
       "    }, 10, root)\n",
       "  }\n",
       "})(window);"
      ],
      "application/vnd.bokehjs_exec.v0+json": ""
     },
     "metadata": {
      "application/vnd.bokehjs_exec.v0+json": {
       "id": "1002"
      }
     },
     "output_type": "display_data"
    }
   ],
   "source": [
    "p = hl.plot.histogram(mt_match_PGS000004.prs, title=\"PRS Histogram\", legend=\"PGS000004\", bins=20)\n",
    "show(p)"
   ]
  },
  {
   "cell_type": "markdown",
   "id": "8a62f190",
   "metadata": {},
   "source": [
    "<img src=\"plots/real-data-plot-01.png\" width=50% >"
   ]
  },
  {
   "cell_type": "markdown",
   "id": "c3890369",
   "metadata": {},
   "source": [
    "下記のコードは、PRSの計算結果を `1kg.JPT.chrAll.filtered.PGS000004.PRS.txt` ファイルに保存します。"
   ]
  },
  {
   "cell_type": "code",
   "execution_count": 27,
   "id": "31669abe",
   "metadata": {},
   "outputs": [
    {
     "name": "stderr",
     "output_type": "stream",
     "text": [
      "2021-06-12 13:21:34 Hail: INFO: Coerced sorted dataset\n",
      "2021-06-12 13:21:35 Hail: INFO: merging 16 files totalling 3.8K...\n",
      "2021-06-12 13:21:35 Hail: INFO: while writing:\n",
      "    1kg.JPT.chrAll.filtered.PGS000004.PRS.txt\n",
      "  merge time: 85.491ms\n"
     ]
    }
   ],
   "source": [
    "mt_match_PGS000004.cols().export('1kg.JPT.chrAll.filtered.PGS000004.PRS.txt')"
   ]
  },
  {
   "cell_type": "markdown",
   "id": "8a36862e",
   "metadata": {},
   "source": [
    "### Step 4-1 PRSモデルを読み込みます (PGS000015)"
   ]
  },
  {
   "cell_type": "markdown",
   "id": "dc741aa2",
   "metadata": {},
   "source": [
    "続いて、バリアント数がやや多い PRS モデル (PGS000015) を用います。\n",
    "比較的バリアント数が少ない PRS モデル (PGS000004) とほぼ変わらない待ち時間で計算できることを実感していただけると思います。\n",
    "\n",
    "下記のコードを実行すると、`prs-models/PGS000015.txt` のデータが読み込まれます。"
   ]
  },
  {
   "cell_type": "code",
   "execution_count": 28,
   "id": "2b4befa2",
   "metadata": {},
   "outputs": [
    {
     "name": "stderr",
     "output_type": "stream",
     "text": [
      "2021-06-12 13:26:19 Hail: INFO: Reading table to impute column types\n",
      "2021-06-12 13:26:20 Hail: INFO: Finished type imputation\n",
      "  Loading field 'chr_name' as type int32 (imputed)\n",
      "  Loading field 'chr_position' as type int32 (imputed)\n",
      "  Loading field 'effect_allele' as type str (imputed)\n",
      "  Loading field 'reference_allele' as type str (imputed)\n",
      "  Loading field 'effect_weight' as type float64 (imputed)\n"
     ]
    }
   ],
   "source": [
    "model_PGS000015 = hl.import_table('prs-models/PGS000015.txt', impute=True, force=True)"
   ]
  },
  {
   "cell_type": "markdown",
   "id": "be511e9a",
   "metadata": {},
   "source": [
    "下記のコードは、PRSモデルに含まれるバリアントの個数を表示します。"
   ]
  },
  {
   "cell_type": "code",
   "execution_count": 29,
   "id": "e22079d6",
   "metadata": {},
   "outputs": [
    {
     "data": {
      "text/plain": [
       "5218"
      ]
     },
     "execution_count": 29,
     "metadata": {},
     "output_type": "execute_result"
    }
   ],
   "source": [
    "model_PGS000015.count()"
   ]
  },
  {
   "cell_type": "markdown",
   "id": "c54d8aeb",
   "metadata": {},
   "source": [
    "`5218` と表示されました。\n",
    "\n",
    "これは、PRSモデルに含まれるバリアントの個数が 5,218 個であることを意味します。"
   ]
  },
  {
   "cell_type": "markdown",
   "id": "227e0e3c",
   "metadata": {},
   "source": [
    "下記のコードは、読み込んだ PRS モデルに `variantID` を追加します。"
   ]
  },
  {
   "cell_type": "code",
   "execution_count": 30,
   "id": "88f5029d",
   "metadata": {},
   "outputs": [],
   "source": [
    "model_PGS000015 = model_PGS000015.annotate(\n",
    "    variantID = hl.str(model_PGS000015.chr_name) + \":\" + hl.str(model_PGS000015.chr_position) \n",
    ") "
   ]
  },
  {
   "cell_type": "markdown",
   "id": "068980fc",
   "metadata": {},
   "source": [
    "`variantID` を追加したのちの最初の 5 行を表示します。"
   ]
  },
  {
   "cell_type": "code",
   "execution_count": 31,
   "id": "cf78e2e9",
   "metadata": {},
   "outputs": [
    {
     "data": {
      "text/html": [
       "<table><thead><tr><td style=\"white-space: nowrap; max-width: 500px; overflow: hidden; text-overflow: ellipsis; \" colspan=\"1\"><div style=\"text-align: left;\"></div></td><td style=\"white-space: nowrap; max-width: 500px; overflow: hidden; text-overflow: ellipsis; \" colspan=\"1\"><div style=\"text-align: left;\"></div></td><td style=\"white-space: nowrap; max-width: 500px; overflow: hidden; text-overflow: ellipsis; \" colspan=\"1\"><div style=\"text-align: left;\"></div></td><td style=\"white-space: nowrap; max-width: 500px; overflow: hidden; text-overflow: ellipsis; \" colspan=\"1\"><div style=\"text-align: left;\"></div></td><td style=\"white-space: nowrap; max-width: 500px; overflow: hidden; text-overflow: ellipsis; \" colspan=\"1\"><div style=\"text-align: left;\"></div></td><td style=\"white-space: nowrap; max-width: 500px; overflow: hidden; text-overflow: ellipsis; \" colspan=\"1\"><div style=\"text-align: left;\"></div></td></tr><tr><td style=\"white-space: nowrap; max-width: 500px; overflow: hidden; text-overflow: ellipsis; \" colspan=\"1\"><div style=\"text-align: left;border-bottom: solid 2px #000; padding-bottom: 5px\">chr_name</div></td><td style=\"white-space: nowrap; max-width: 500px; overflow: hidden; text-overflow: ellipsis; \" colspan=\"1\"><div style=\"text-align: left;border-bottom: solid 2px #000; padding-bottom: 5px\">chr_position</div></td><td style=\"white-space: nowrap; max-width: 500px; overflow: hidden; text-overflow: ellipsis; \" colspan=\"1\"><div style=\"text-align: left;border-bottom: solid 2px #000; padding-bottom: 5px\">effect_allele</div></td><td style=\"white-space: nowrap; max-width: 500px; overflow: hidden; text-overflow: ellipsis; \" colspan=\"1\"><div style=\"text-align: left;border-bottom: solid 2px #000; padding-bottom: 5px\">reference_allele</div></td><td style=\"white-space: nowrap; max-width: 500px; overflow: hidden; text-overflow: ellipsis; \" colspan=\"1\"><div style=\"text-align: left;border-bottom: solid 2px #000; padding-bottom: 5px\">effect_weight</div></td><td style=\"white-space: nowrap; max-width: 500px; overflow: hidden; text-overflow: ellipsis; \" colspan=\"1\"><div style=\"text-align: left;border-bottom: solid 2px #000; padding-bottom: 5px\">variantID</div></td></tr><tr><td style=\"white-space: nowrap; max-width: 500px; overflow: hidden; text-overflow: ellipsis; text-align: left;\">int32</td><td style=\"white-space: nowrap; max-width: 500px; overflow: hidden; text-overflow: ellipsis; text-align: left;\">int32</td><td style=\"white-space: nowrap; max-width: 500px; overflow: hidden; text-overflow: ellipsis; text-align: left;\">str</td><td style=\"white-space: nowrap; max-width: 500px; overflow: hidden; text-overflow: ellipsis; text-align: left;\">str</td><td style=\"white-space: nowrap; max-width: 500px; overflow: hidden; text-overflow: ellipsis; text-align: left;\">float64</td><td style=\"white-space: nowrap; max-width: 500px; overflow: hidden; text-overflow: ellipsis; text-align: left;\">str</td></tr>\n",
       "</thead><tbody><tr><td style=\"white-space: nowrap; max-width: 500px; overflow: hidden; text-overflow: ellipsis; \">10</td><td style=\"white-space: nowrap; max-width: 500px; overflow: hidden; text-overflow: ellipsis; \">123337335</td><td style=\"white-space: nowrap; max-width: 500px; overflow: hidden; text-overflow: ellipsis; \">&quot;A&quot;</td><td style=\"white-space: nowrap; max-width: 500px; overflow: hidden; text-overflow: ellipsis; \">&quot;G&quot;</td><td style=\"white-space: nowrap; max-width: 500px; overflow: hidden; text-overflow: ellipsis; \">2.38e-01</td><td style=\"white-space: nowrap; max-width: 500px; overflow: hidden; text-overflow: ellipsis; \">&quot;10:123337335&quot;</td></tr>\n",
       "<tr><td style=\"white-space: nowrap; max-width: 500px; overflow: hidden; text-overflow: ellipsis; \">16</td><td style=\"white-space: nowrap; max-width: 500px; overflow: hidden; text-overflow: ellipsis; \">52599188</td><td style=\"white-space: nowrap; max-width: 500px; overflow: hidden; text-overflow: ellipsis; \">&quot;T&quot;</td><td style=\"white-space: nowrap; max-width: 500px; overflow: hidden; text-overflow: ellipsis; \">&quot;C&quot;</td><td style=\"white-space: nowrap; max-width: 500px; overflow: hidden; text-overflow: ellipsis; \">2.15e-01</td><td style=\"white-space: nowrap; max-width: 500px; overflow: hidden; text-overflow: ellipsis; \">&quot;16:52599188&quot;</td></tr>\n",
       "<tr><td style=\"white-space: nowrap; max-width: 500px; overflow: hidden; text-overflow: ellipsis; \">11</td><td style=\"white-space: nowrap; max-width: 500px; overflow: hidden; text-overflow: ellipsis; \">69331418</td><td style=\"white-space: nowrap; max-width: 500px; overflow: hidden; text-overflow: ellipsis; \">&quot;T&quot;</td><td style=\"white-space: nowrap; max-width: 500px; overflow: hidden; text-overflow: ellipsis; \">&quot;C&quot;</td><td style=\"white-space: nowrap; max-width: 500px; overflow: hidden; text-overflow: ellipsis; \">2.76e-01</td><td style=\"white-space: nowrap; max-width: 500px; overflow: hidden; text-overflow: ellipsis; \">&quot;11:69331418&quot;</td></tr>\n",
       "<tr><td style=\"white-space: nowrap; max-width: 500px; overflow: hidden; text-overflow: ellipsis; \">5</td><td style=\"white-space: nowrap; max-width: 500px; overflow: hidden; text-overflow: ellipsis; \">56053535</td><td style=\"white-space: nowrap; max-width: 500px; overflow: hidden; text-overflow: ellipsis; \">&quot;C&quot;</td><td style=\"white-space: nowrap; max-width: 500px; overflow: hidden; text-overflow: ellipsis; \">&quot;T&quot;</td><td style=\"white-space: nowrap; max-width: 500px; overflow: hidden; text-overflow: ellipsis; \">1.73e-01</td><td style=\"white-space: nowrap; max-width: 500px; overflow: hidden; text-overflow: ellipsis; \">&quot;5:56053535&quot;</td></tr>\n",
       "<tr><td style=\"white-space: nowrap; max-width: 500px; overflow: hidden; text-overflow: ellipsis; \">2</td><td style=\"white-space: nowrap; max-width: 500px; overflow: hidden; text-overflow: ellipsis; \">217920769</td><td style=\"white-space: nowrap; max-width: 500px; overflow: hidden; text-overflow: ellipsis; \">&quot;G&quot;</td><td style=\"white-space: nowrap; max-width: 500px; overflow: hidden; text-overflow: ellipsis; \">&quot;T&quot;</td><td style=\"white-space: nowrap; max-width: 500px; overflow: hidden; text-overflow: ellipsis; \">1.27e-01</td><td style=\"white-space: nowrap; max-width: 500px; overflow: hidden; text-overflow: ellipsis; \">&quot;2:217920769&quot;</td></tr>\n",
       "</tbody></table><p style=\"background: #fdd; padding: 0.4em;\">showing top 5 rows</p>\n"
      ],
      "text/plain": [
       "+----------+--------------+---------------+------------------+---------------+----------------+\n",
       "| chr_name | chr_position | effect_allele | reference_allele | effect_weight | variantID      |\n",
       "+----------+--------------+---------------+------------------+---------------+----------------+\n",
       "|    int32 |        int32 | str           | str              |       float64 | str            |\n",
       "+----------+--------------+---------------+------------------+---------------+----------------+\n",
       "|       10 |    123337335 | \"A\"           | \"G\"              |      2.38e-01 | \"10:123337335\" |\n",
       "|       16 |     52599188 | \"T\"           | \"C\"              |      2.15e-01 | \"16:52599188\"  |\n",
       "|       11 |     69331418 | \"T\"           | \"C\"              |      2.76e-01 | \"11:69331418\"  |\n",
       "|        5 |     56053535 | \"C\"           | \"T\"              |      1.73e-01 | \"5:56053535\"   |\n",
       "|        2 |    217920769 | \"G\"           | \"T\"              |      1.27e-01 | \"2:217920769\"  |\n",
       "+----------+--------------+---------------+------------------+---------------+----------------+\n",
       "showing top 5 rows"
      ]
     },
     "metadata": {},
     "output_type": "display_data"
    }
   ],
   "source": [
    "model_PGS000015.show(5)"
   ]
  },
  {
   "cell_type": "markdown",
   "id": "e50291fd",
   "metadata": {},
   "source": [
    "`variantID` のカラムが追加されていることが分かります。"
   ]
  },
  {
   "cell_type": "markdown",
   "id": "beb48918",
   "metadata": {},
   "source": [
    "### Step 4-2 ゲノムデータとPRSモデルに共通するバリアントを抽出します (PGS000015)"
   ]
  },
  {
   "cell_type": "markdown",
   "id": "6d506a14",
   "metadata": {},
   "source": [
    "下記のコードは、PRSモデルのバリアント情報を `variantID` で検索できるようにします。"
   ]
  },
  {
   "cell_type": "code",
   "execution_count": 32,
   "id": "bf12b515",
   "metadata": {},
   "outputs": [],
   "source": [
    "model_PGS000015 = model_PGS000015.key_by('variantID')"
   ]
  },
  {
   "cell_type": "markdown",
   "id": "c146cd15",
   "metadata": {},
   "source": [
    "下記のコードは、ゲノムデータと PRS モデルに共通するバリアントを抽出します。"
   ]
  },
  {
   "cell_type": "code",
   "execution_count": 33,
   "id": "b1b7d601",
   "metadata": {},
   "outputs": [],
   "source": [
    "mt_match_PGS000015 = mt.annotate_rows(**model_PGS000015[mt.variantID])\n",
    "mt_match_PGS000015 = mt_match_PGS000015.filter_rows(hl.is_defined(mt_match_PGS000015.effect_weight))"
   ]
  },
  {
   "cell_type": "markdown",
   "id": "03d30158",
   "metadata": {},
   "source": [
    "今後のステップの実行時間を短縮するため、抽出したゲノムデータを保存し、再度読み込みます。 \n",
    "\n",
    "下記のコードは、抽出したゲノムデータを `genome-data/1kg.JPT.chrAll.filtered.matched_PGS000015.mt` に保存します。\n",
    "15分程度の待ち時間が生じます。"
   ]
  },
  {
   "cell_type": "code",
   "execution_count": 34,
   "id": "39897dcd",
   "metadata": {},
   "outputs": [
    {
     "name": "stderr",
     "output_type": "stream",
     "text": [
      "2021-06-12 13:31:09 Hail: INFO: Ordering unsorted dataset with network shuffle\n",
      "2021-06-12 13:31:10 Hail: INFO: Ordering unsorted dataset with network shuffle\n",
      "2021-06-12 13:36:00 Hail: INFO: Ordering unsorted dataset with network shuffle\n",
      "2021-06-12 13:38:04 Hail: INFO: wrote matrix table with 3082 rows and 104 columns in 22 partitions to genome-data/1kg.JPT.chrAll.filtered.matched_PGS000015.mt\n",
      "    Total size: 533.25 KiB\n",
      "    * Rows/entries: 532.40 KiB\n",
      "    * Columns: 858.00 B\n",
      "    * Globals: 11.00 B\n",
      "    * Smallest partition: 43 rows (8.69 KiB)\n",
      "    * Largest partition:  265 rows (50.70 KiB)\n"
     ]
    }
   ],
   "source": [
    "mt_match_PGS000015.write('genome-data/1kg.JPT.chrAll.filtered.matched_PGS000015.mt', overwrite=True)"
   ]
  },
  {
   "cell_type": "markdown",
   "id": "05ed8988",
   "metadata": {},
   "source": [
    "下記のコードは、`genome-data/1kg.JPT.chrAll.filtered.matched_PGS000015.mt` を読み込みます。"
   ]
  },
  {
   "cell_type": "code",
   "execution_count": 35,
   "id": "8a13e9a8",
   "metadata": {},
   "outputs": [],
   "source": [
    "mt_match_PGS000015 = hl.read_matrix_table('genome-data/1kg.JPT.chrAll.filtered.matched_PGS000015.mt')"
   ]
  },
  {
   "cell_type": "markdown",
   "id": "e43baf7d",
   "metadata": {},
   "source": [
    "下記のコードは、ゲノムデータとPRSモデルに共通するバリアントを抽出した結果、ユニークな `variantID` が何個あるかをカウントします。"
   ]
  },
  {
   "cell_type": "code",
   "execution_count": 36,
   "id": "de0889c6",
   "metadata": {},
   "outputs": [
    {
     "data": {
      "text/plain": [
       "3054"
      ]
     },
     "execution_count": 36,
     "metadata": {},
     "output_type": "execute_result"
    }
   ],
   "source": [
    "len(dict(mt_match_PGS000015.aggregate_rows(hl.agg.counter(mt_match_PGS000015.variantID))))"
   ]
  },
  {
   "cell_type": "markdown",
   "id": "6db70850",
   "metadata": {},
   "source": [
    "`3054`と表示されました。\n",
    "\n",
    "この結果から、PGS000015 モデルに含まれるバリアント数は 5,218 個でしたが、そのうち 3,054 個が `merge-and-filter` 後のゲノムデータに含まれていることが分かります。"
   ]
  },
  {
   "cell_type": "markdown",
   "id": "caaed814",
   "metadata": {},
   "source": [
    "### Step 4-3 PRSを計算して保存します (PGS000015)"
   ]
  },
  {
   "cell_type": "markdown",
   "id": "36d59b7c",
   "metadata": {},
   "source": [
    "下記のコードは、ゲノムデータのアリル情報とPRSモデルのアリル情報を比較し、合致しているかをチェックします。"
   ]
  },
  {
   "cell_type": "code",
   "execution_count": 37,
   "id": "2f1353ae",
   "metadata": {},
   "outputs": [],
   "source": [
    "flip_PGS000015 = hl.case().when( \n",
    "    (mt_match_PGS000015.effect_allele == mt_match_PGS000015.alleles[0]) \n",
    "    & (mt_match_PGS000015.reference_allele == mt_match_PGS000015.alleles[1]), True ).when( \n",
    "    (mt_match_PGS000015.effect_allele == mt_match_PGS000015.alleles[1])\n",
    "    & (mt_match_PGS000015.reference_allele == mt_match_PGS000015.alleles[0]), False ).or_missing()"
   ]
  },
  {
   "cell_type": "code",
   "execution_count": 38,
   "id": "e32d589b",
   "metadata": {},
   "outputs": [],
   "source": [
    "mt_match_PGS000015 = mt_match_PGS000015.annotate_rows( flip=flip_PGS000015 )"
   ]
  },
  {
   "cell_type": "markdown",
   "id": "25c5e83a",
   "metadata": {},
   "source": [
    "下記のコードは、各々のバリアントについて研究対象者の持っているアリル数（`mt_match_PGS000015.DS`）とバリアントの重み（`mt_match_PGS000015.effect_weight`）を掛け合わせて、ゲノムデータとPRSモデルの共通するバリアントについて足し合わせます。\n",
    "これにより、PRSを計算することができます。"
   ]
  },
  {
   "cell_type": "code",
   "execution_count": 39,
   "id": "7c147db2",
   "metadata": {},
   "outputs": [],
   "source": [
    "prs_PGS000015 = hl.agg.sum( hl.float64( mt_match_PGS000015.effect_weight ) * \n",
    "                    hl.if_else( mt_match_PGS000015.flip, \n",
    "                                2 - mt_match_PGS000015.DS,\n",
    "                                mt_match_PGS000015.DS) )"
   ]
  },
  {
   "cell_type": "code",
   "execution_count": 40,
   "id": "87302b32",
   "metadata": {},
   "outputs": [],
   "source": [
    "mt_match_PGS000015 = mt_match_PGS000015.annotate_cols(prs=prs_PGS000015)"
   ]
  },
  {
   "cell_type": "markdown",
   "id": "d2d948f5",
   "metadata": {},
   "source": [
    "下記のコードは、PRSの値を表示します。"
   ]
  },
  {
   "cell_type": "code",
   "execution_count": 41,
   "id": "3af85743",
   "metadata": {},
   "outputs": [
    {
     "data": {
      "text/html": [
       "<table><thead><tr><td style=\"white-space: nowrap; max-width: 500px; overflow: hidden; text-overflow: ellipsis; \" colspan=\"1\"><div style=\"text-align: left;\"></div></td><td style=\"white-space: nowrap; max-width: 500px; overflow: hidden; text-overflow: ellipsis; \" colspan=\"1\"><div style=\"text-align: left;\"></div></td></tr><tr><td style=\"white-space: nowrap; max-width: 500px; overflow: hidden; text-overflow: ellipsis; \" colspan=\"1\"><div style=\"text-align: left;border-bottom: solid 2px #000; padding-bottom: 5px\">s</div></td><td style=\"white-space: nowrap; max-width: 500px; overflow: hidden; text-overflow: ellipsis; \" colspan=\"1\"><div style=\"text-align: left;border-bottom: solid 2px #000; padding-bottom: 5px\">prs</div></td></tr><tr><td style=\"white-space: nowrap; max-width: 500px; overflow: hidden; text-overflow: ellipsis; text-align: left;\">str</td><td style=\"white-space: nowrap; max-width: 500px; overflow: hidden; text-overflow: ellipsis; text-align: left;\">float64</td></tr>\n",
       "</thead><tbody><tr><td style=\"white-space: nowrap; max-width: 500px; overflow: hidden; text-overflow: ellipsis; \">&quot;TEST_NA18939_TEST_NA18939&quot;</td><td style=\"white-space: nowrap; max-width: 500px; overflow: hidden; text-overflow: ellipsis; \">1.51e+02</td></tr>\n",
       "<tr><td style=\"white-space: nowrap; max-width: 500px; overflow: hidden; text-overflow: ellipsis; \">&quot;TEST_NA18940_TEST_NA18940&quot;</td><td style=\"white-space: nowrap; max-width: 500px; overflow: hidden; text-overflow: ellipsis; \">1.54e+02</td></tr>\n",
       "<tr><td style=\"white-space: nowrap; max-width: 500px; overflow: hidden; text-overflow: ellipsis; \">&quot;TEST_NA18941_TEST_NA18941&quot;</td><td style=\"white-space: nowrap; max-width: 500px; overflow: hidden; text-overflow: ellipsis; \">1.51e+02</td></tr>\n",
       "<tr><td style=\"white-space: nowrap; max-width: 500px; overflow: hidden; text-overflow: ellipsis; \">&quot;TEST_NA18942_TEST_NA18942&quot;</td><td style=\"white-space: nowrap; max-width: 500px; overflow: hidden; text-overflow: ellipsis; \">1.50e+02</td></tr>\n",
       "<tr><td style=\"white-space: nowrap; max-width: 500px; overflow: hidden; text-overflow: ellipsis; \">&quot;TEST_NA18943_TEST_NA18943&quot;</td><td style=\"white-space: nowrap; max-width: 500px; overflow: hidden; text-overflow: ellipsis; \">1.52e+02</td></tr>\n",
       "</tbody></table><p style=\"background: #fdd; padding: 0.4em;\">showing top 5 rows</p>\n"
      ],
      "text/plain": [
       "+-----------------------------+----------+\n",
       "| s                           |      prs |\n",
       "+-----------------------------+----------+\n",
       "| str                         |  float64 |\n",
       "+-----------------------------+----------+\n",
       "| \"TEST_NA18939_TEST_NA18939\" | 1.51e+02 |\n",
       "| \"TEST_NA18940_TEST_NA18940\" | 1.54e+02 |\n",
       "| \"TEST_NA18941_TEST_NA18941\" | 1.51e+02 |\n",
       "| \"TEST_NA18942_TEST_NA18942\" | 1.50e+02 |\n",
       "| \"TEST_NA18943_TEST_NA18943\" | 1.52e+02 |\n",
       "+-----------------------------+----------+\n",
       "showing top 5 rows"
      ]
     },
     "metadata": {},
     "output_type": "display_data"
    }
   ],
   "source": [
    "mt_match_PGS000015.cols().show(5)"
   ]
  },
  {
   "cell_type": "markdown",
   "id": "d61e5c8d",
   "metadata": {},
   "source": [
    "下記のコードは、PRSの分布を表示します。"
   ]
  },
  {
   "cell_type": "code",
   "execution_count": 42,
   "id": "b277d874",
   "metadata": {},
   "outputs": [
    {
     "data": {
      "text/html": [
       "\n",
       "\n",
       "\n",
       "\n",
       "\n",
       "\n",
       "  <div class=\"bk-root\" id=\"82fd8e14-ff03-40fd-91d1-540a3abf3ff2\" data-root-id=\"1133\"></div>\n"
      ]
     },
     "metadata": {},
     "output_type": "display_data"
    },
    {
     "data": {
      "application/javascript": [
       "(function(root) {\n",
       "  function embed_document(root) {\n",
       "    \n",
       "  var docs_json = {\"4d697776-f8f5-4c6b-a82e-f43f180525ed\":{\"roots\":{\"references\":[{\"attributes\":{\"background_fill_color\":{\"value\":\"#EEEEEE\"},\"below\":[{\"id\":\"1144\",\"type\":\"LinearAxis\"}],\"center\":[{\"id\":\"1148\",\"type\":\"Grid\"},{\"id\":\"1153\",\"type\":\"Grid\"},{\"id\":\"1178\",\"type\":\"Legend\"}],\"left\":[{\"id\":\"1149\",\"type\":\"LinearAxis\"}],\"renderers\":[{\"id\":\"1170\",\"type\":\"GlyphRenderer\"}],\"title\":{\"id\":\"1134\",\"type\":\"Title\"},\"toolbar\":{\"id\":\"1160\",\"type\":\"Toolbar\"},\"x_range\":{\"id\":\"1136\",\"type\":\"Range1d\"},\"x_scale\":{\"id\":\"1140\",\"type\":\"LinearScale\"},\"y_range\":{\"id\":\"1138\",\"type\":\"DataRange1d\"},\"y_scale\":{\"id\":\"1142\",\"type\":\"LinearScale\"}},\"id\":\"1133\",\"subtype\":\"Figure\",\"type\":\"Plot\"},{\"attributes\":{},\"id\":\"1140\",\"type\":\"LinearScale\"},{\"attributes\":{\"active_drag\":\"auto\",\"active_inspect\":\"auto\",\"active_multi\":null,\"active_scroll\":\"auto\",\"active_tap\":\"auto\",\"tools\":[{\"id\":\"1154\",\"type\":\"PanTool\"},{\"id\":\"1155\",\"type\":\"WheelZoomTool\"},{\"id\":\"1156\",\"type\":\"BoxZoomTool\"},{\"id\":\"1157\",\"type\":\"SaveTool\"},{\"id\":\"1158\",\"type\":\"ResetTool\"},{\"id\":\"1159\",\"type\":\"HelpTool\"}]},\"id\":\"1160\",\"type\":\"Toolbar\"},{\"attributes\":{},\"id\":\"1159\",\"type\":\"HelpTool\"},{\"attributes\":{},\"id\":\"1173\",\"type\":\"BasicTickFormatter\"},{\"attributes\":{\"overlay\":{\"id\":\"1177\",\"type\":\"BoxAnnotation\"}},\"id\":\"1156\",\"type\":\"BoxZoomTool\"},{\"attributes\":{},\"id\":\"1157\",\"type\":\"SaveTool\"},{\"attributes\":{},\"id\":\"1154\",\"type\":\"PanTool\"},{\"attributes\":{},\"id\":\"1142\",\"type\":\"LinearScale\"},{\"attributes\":{\"ticker\":{\"id\":\"1145\",\"type\":\"BasicTicker\"}},\"id\":\"1148\",\"type\":\"Grid\"},{\"attributes\":{\"axis_label\":\"PGS000015\",\"formatter\":{\"id\":\"1173\",\"type\":\"BasicTickFormatter\"},\"ticker\":{\"id\":\"1145\",\"type\":\"BasicTicker\"}},\"id\":\"1144\",\"type\":\"LinearAxis\"},{\"attributes\":{\"text\":\"PRS Histogram\"},\"id\":\"1134\",\"type\":\"Title\"},{\"attributes\":{\"dimension\":1,\"ticker\":{\"id\":\"1150\",\"type\":\"BasicTicker\"}},\"id\":\"1153\",\"type\":\"Grid\"},{\"attributes\":{\"data_source\":{\"id\":\"1167\",\"type\":\"ColumnDataSource\"},\"glyph\":{\"id\":\"1168\",\"type\":\"Quad\"},\"hover_glyph\":null,\"muted_glyph\":null,\"nonselection_glyph\":{\"id\":\"1169\",\"type\":\"Quad\"},\"selection_glyph\":null,\"view\":{\"id\":\"1171\",\"type\":\"CDSView\"}},\"id\":\"1170\",\"type\":\"GlyphRenderer\"},{\"attributes\":{\"axis_label\":\"Frequency\",\"formatter\":{\"id\":\"1175\",\"type\":\"BasicTickFormatter\"},\"ticker\":{\"id\":\"1150\",\"type\":\"BasicTicker\"}},\"id\":\"1149\",\"type\":\"LinearAxis\"},{\"attributes\":{},\"id\":\"1150\",\"type\":\"BasicTicker\"},{\"attributes\":{\"source\":{\"id\":\"1167\",\"type\":\"ColumnDataSource\"}},\"id\":\"1171\",\"type\":\"CDSView\"},{\"attributes\":{},\"id\":\"1175\",\"type\":\"BasicTickFormatter\"},{\"attributes\":{\"callback\":null,\"data\":{\"left\":[147.0195392998101,147.44084471480852,147.8621501298069,148.28345554480532,148.70476095980374,149.12606637480212,149.54737178980054,149.96867720479895,150.38998261979734,150.81128803479575,151.23259344979414,151.65389886479255,152.07520427979097,152.49650969478935,152.91781510978777,153.33912052478618,153.76042593978457,154.18173135478298,154.6030367697814,155.02434218477978],\"right\":[147.44084471480852,147.8621501298069,148.28345554480532,148.70476095980374,149.12606637480212,149.54737178980054,149.96867720479895,150.38998261979734,150.81128803479575,151.23259344979414,151.65389886479255,152.07520427979097,152.49650969478935,152.91781510978777,153.33912052478618,153.76042593978457,154.18173135478298,154.6030367697814,155.02434218477978,155.4456475997782],\"top\":[1,3,1,1,3,4,5,8,9,7,7,12,11,7,5,3,9,3,3,2]},\"selected\":{\"id\":\"1197\",\"type\":\"Selection\"},\"selection_policy\":{\"id\":\"1196\",\"type\":\"UnionRenderers\"}},\"id\":\"1167\",\"type\":\"ColumnDataSource\"},{\"attributes\":{},\"id\":\"1145\",\"type\":\"BasicTicker\"},{\"attributes\":{\"label\":{\"value\":\"PGS000015\"},\"renderers\":[{\"id\":\"1170\",\"type\":\"GlyphRenderer\"}]},\"id\":\"1179\",\"type\":\"LegendItem\"},{\"attributes\":{\"callback\":null,\"end\":155.8669530147766,\"start\":146.5982338848117},\"id\":\"1136\",\"type\":\"Range1d\"},{\"attributes\":{\"callback\":null},\"id\":\"1138\",\"type\":\"DataRange1d\"},{\"attributes\":{},\"id\":\"1197\",\"type\":\"Selection\"},{\"attributes\":{},\"id\":\"1155\",\"type\":\"WheelZoomTool\"},{\"attributes\":{},\"id\":\"1196\",\"type\":\"UnionRenderers\"},{\"attributes\":{\"bottom\":{\"value\":0},\"fill_alpha\":{\"value\":0.1},\"fill_color\":{\"value\":\"#1f77b4\"},\"left\":{\"field\":\"left\"},\"line_alpha\":{\"value\":0.1},\"line_color\":{\"value\":\"#1f77b4\"},\"right\":{\"field\":\"right\"},\"top\":{\"field\":\"top\"}},\"id\":\"1169\",\"type\":\"Quad\"},{\"attributes\":{\"items\":[{\"id\":\"1179\",\"type\":\"LegendItem\"}]},\"id\":\"1178\",\"type\":\"Legend\"},{\"attributes\":{\"bottom\":{\"value\":0},\"fill_color\":{\"value\":\"#1f77b4\"},\"left\":{\"field\":\"left\"},\"right\":{\"field\":\"right\"},\"top\":{\"field\":\"top\"}},\"id\":\"1168\",\"type\":\"Quad\"},{\"attributes\":{},\"id\":\"1158\",\"type\":\"ResetTool\"},{\"attributes\":{\"bottom_units\":\"screen\",\"fill_alpha\":{\"value\":0.5},\"fill_color\":{\"value\":\"lightgrey\"},\"left_units\":\"screen\",\"level\":\"overlay\",\"line_alpha\":{\"value\":1.0},\"line_color\":{\"value\":\"black\"},\"line_dash\":[4,4],\"line_width\":{\"value\":2},\"render_mode\":\"css\",\"right_units\":\"screen\",\"top_units\":\"screen\"},\"id\":\"1177\",\"type\":\"BoxAnnotation\"}],\"root_ids\":[\"1133\"]},\"title\":\"Bokeh Application\",\"version\":\"1.4.0\"}};\n",
       "  var render_items = [{\"docid\":\"4d697776-f8f5-4c6b-a82e-f43f180525ed\",\"roots\":{\"1133\":\"82fd8e14-ff03-40fd-91d1-540a3abf3ff2\"}}];\n",
       "  root.Bokeh.embed.embed_items_notebook(docs_json, render_items);\n",
       "\n",
       "  }\n",
       "  if (root.Bokeh !== undefined) {\n",
       "    embed_document(root);\n",
       "  } else {\n",
       "    var attempts = 0;\n",
       "    var timer = setInterval(function(root) {\n",
       "      if (root.Bokeh !== undefined) {\n",
       "        clearInterval(timer);\n",
       "        embed_document(root);\n",
       "      } else {\n",
       "        attempts++;\n",
       "        if (attempts > 100) {\n",
       "          clearInterval(timer);\n",
       "          console.log(\"Bokeh: ERROR: Unable to run BokehJS code because BokehJS library is missing\");\n",
       "        }\n",
       "      }\n",
       "    }, 10, root)\n",
       "  }\n",
       "})(window);"
      ],
      "application/vnd.bokehjs_exec.v0+json": ""
     },
     "metadata": {
      "application/vnd.bokehjs_exec.v0+json": {
       "id": "1133"
      }
     },
     "output_type": "display_data"
    }
   ],
   "source": [
    "p = hl.plot.histogram(mt_match_PGS000015.prs, title=\"PRS Histogram\", legend=\"PGS000015\", bins=20)\n",
    "show(p)"
   ]
  },
  {
   "cell_type": "markdown",
   "id": "988ea99d",
   "metadata": {},
   "source": [
    "<img src=\"plots/real-data-plot-02.png\" width=50% >"
   ]
  },
  {
   "cell_type": "markdown",
   "id": "e7427de4",
   "metadata": {},
   "source": [
    "下記のコードは、PRSの計算結果を `1kg.JPT.chrAll.filtered.PGS000015.PRS.txt` ファイルに保存します。"
   ]
  },
  {
   "cell_type": "code",
   "execution_count": 43,
   "id": "7f75d3e0",
   "metadata": {},
   "outputs": [
    {
     "name": "stderr",
     "output_type": "stream",
     "text": [
      "2021-06-12 13:47:24 Hail: INFO: Coerced sorted dataset\n",
      "2021-06-12 13:47:26 Hail: INFO: merging 16 files totalling 3.8K...\n",
      "2021-06-12 13:47:26 Hail: INFO: while writing:\n",
      "    1kg.JPT.chrAll.filtered.PGS000015.PRS.txt\n",
      "  merge time: 104.257ms\n"
     ]
    }
   ],
   "source": [
    "mt_match_PGS000015.cols().export('1kg.JPT.chrAll.filtered.PGS000015.PRS.txt')"
   ]
  },
  {
   "cell_type": "markdown",
   "id": "5cde6ec9",
   "metadata": {},
   "source": [
    "### Step 5-1 PRSモデルを読み込みます (PGS000332)"
   ]
  },
  {
   "cell_type": "markdown",
   "id": "f9284165",
   "metadata": {},
   "source": [
    "最後に、バリアント数がとても多い PRS モデル (PGS000332) を用います。\n",
    "\n",
    "下記のコードを実行すると、`prs-models/PGS000332.txt` のデータが読み込まれます。"
   ]
  },
  {
   "cell_type": "code",
   "execution_count": 44,
   "id": "ea19233d",
   "metadata": {},
   "outputs": [
    {
     "name": "stderr",
     "output_type": "stream",
     "text": [
      "2021-06-12 13:52:52 Hail: INFO: Reading table to impute column types\n",
      "2021-06-12 13:53:01 Hail: INFO: Finished type imputation\n",
      "  Loading field 'rsID' as type str (imputed)\n",
      "  Loading field 'chr_name' as type int32 (imputed)\n",
      "  Loading field 'chr_position' as type int32 (imputed)\n",
      "  Loading field 'effect_allele' as type str (imputed)\n",
      "  Loading field 'reference_allele' as type str (imputed)\n",
      "  Loading field 'effect_weight' as type float64 (imputed)\n"
     ]
    }
   ],
   "source": [
    "model_PGS000332 = hl.import_table('prs-models/PGS000332.txt', impute=True, force=True)"
   ]
  },
  {
   "cell_type": "markdown",
   "id": "6094436f",
   "metadata": {},
   "source": [
    "下記のコードは、PRSモデルに含まれるバリアントの個数を表示します。"
   ]
  },
  {
   "cell_type": "code",
   "execution_count": 45,
   "id": "993df437",
   "metadata": {},
   "outputs": [
    {
     "data": {
      "text/plain": [
       "6390808"
      ]
     },
     "execution_count": 45,
     "metadata": {},
     "output_type": "execute_result"
    }
   ],
   "source": [
    "model_PGS000332.count()"
   ]
  },
  {
   "cell_type": "markdown",
   "id": "97dd17ee",
   "metadata": {},
   "source": [
    "`6390808` と表示されました。\n",
    "\n",
    "これは、PRSモデルに含まれるバリアントの個数が 6,390,808 個であることを意味します。"
   ]
  },
  {
   "cell_type": "markdown",
   "id": "a4772f77",
   "metadata": {},
   "source": [
    "下記のコードは、読み込んだ PRS モデルに `variantID` を追加します。"
   ]
  },
  {
   "cell_type": "code",
   "execution_count": 46,
   "id": "53488bbd",
   "metadata": {},
   "outputs": [],
   "source": [
    "model_PGS000332 = model_PGS000332.annotate(\n",
    "    variantID = hl.str(model_PGS000332.chr_name) + \":\" + hl.str(model_PGS000332.chr_position) \n",
    ") "
   ]
  },
  {
   "cell_type": "markdown",
   "id": "bccf254f",
   "metadata": {},
   "source": [
    "`variantID` を追加したのちの最初の 5 行を表示します。"
   ]
  },
  {
   "cell_type": "code",
   "execution_count": 47,
   "id": "aae8a281",
   "metadata": {},
   "outputs": [
    {
     "data": {
      "text/html": [
       "<table><thead><tr><td style=\"white-space: nowrap; max-width: 500px; overflow: hidden; text-overflow: ellipsis; \" colspan=\"1\"><div style=\"text-align: left;\"></div></td><td style=\"white-space: nowrap; max-width: 500px; overflow: hidden; text-overflow: ellipsis; \" colspan=\"1\"><div style=\"text-align: left;\"></div></td><td style=\"white-space: nowrap; max-width: 500px; overflow: hidden; text-overflow: ellipsis; \" colspan=\"1\"><div style=\"text-align: left;\"></div></td><td style=\"white-space: nowrap; max-width: 500px; overflow: hidden; text-overflow: ellipsis; \" colspan=\"1\"><div style=\"text-align: left;\"></div></td><td style=\"white-space: nowrap; max-width: 500px; overflow: hidden; text-overflow: ellipsis; \" colspan=\"1\"><div style=\"text-align: left;\"></div></td><td style=\"white-space: nowrap; max-width: 500px; overflow: hidden; text-overflow: ellipsis; \" colspan=\"1\"><div style=\"text-align: left;\"></div></td><td style=\"white-space: nowrap; max-width: 500px; overflow: hidden; text-overflow: ellipsis; \" colspan=\"1\"><div style=\"text-align: left;\"></div></td></tr><tr><td style=\"white-space: nowrap; max-width: 500px; overflow: hidden; text-overflow: ellipsis; \" colspan=\"1\"><div style=\"text-align: left;border-bottom: solid 2px #000; padding-bottom: 5px\">rsID</div></td><td style=\"white-space: nowrap; max-width: 500px; overflow: hidden; text-overflow: ellipsis; \" colspan=\"1\"><div style=\"text-align: left;border-bottom: solid 2px #000; padding-bottom: 5px\">chr_name</div></td><td style=\"white-space: nowrap; max-width: 500px; overflow: hidden; text-overflow: ellipsis; \" colspan=\"1\"><div style=\"text-align: left;border-bottom: solid 2px #000; padding-bottom: 5px\">chr_position</div></td><td style=\"white-space: nowrap; max-width: 500px; overflow: hidden; text-overflow: ellipsis; \" colspan=\"1\"><div style=\"text-align: left;border-bottom: solid 2px #000; padding-bottom: 5px\">effect_allele</div></td><td style=\"white-space: nowrap; max-width: 500px; overflow: hidden; text-overflow: ellipsis; \" colspan=\"1\"><div style=\"text-align: left;border-bottom: solid 2px #000; padding-bottom: 5px\">reference_allele</div></td><td style=\"white-space: nowrap; max-width: 500px; overflow: hidden; text-overflow: ellipsis; \" colspan=\"1\"><div style=\"text-align: left;border-bottom: solid 2px #000; padding-bottom: 5px\">effect_weight</div></td><td style=\"white-space: nowrap; max-width: 500px; overflow: hidden; text-overflow: ellipsis; \" colspan=\"1\"><div style=\"text-align: left;border-bottom: solid 2px #000; padding-bottom: 5px\">variantID</div></td></tr><tr><td style=\"white-space: nowrap; max-width: 500px; overflow: hidden; text-overflow: ellipsis; text-align: left;\">str</td><td style=\"white-space: nowrap; max-width: 500px; overflow: hidden; text-overflow: ellipsis; text-align: left;\">int32</td><td style=\"white-space: nowrap; max-width: 500px; overflow: hidden; text-overflow: ellipsis; text-align: left;\">int32</td><td style=\"white-space: nowrap; max-width: 500px; overflow: hidden; text-overflow: ellipsis; text-align: left;\">str</td><td style=\"white-space: nowrap; max-width: 500px; overflow: hidden; text-overflow: ellipsis; text-align: left;\">str</td><td style=\"white-space: nowrap; max-width: 500px; overflow: hidden; text-overflow: ellipsis; text-align: left;\">float64</td><td style=\"white-space: nowrap; max-width: 500px; overflow: hidden; text-overflow: ellipsis; text-align: left;\">str</td></tr>\n",
       "</thead><tbody><tr><td style=\"white-space: nowrap; max-width: 500px; overflow: hidden; text-overflow: ellipsis; \">&quot;rs61769339&quot;</td><td style=\"white-space: nowrap; max-width: 500px; overflow: hidden; text-overflow: ellipsis; \">1</td><td style=\"white-space: nowrap; max-width: 500px; overflow: hidden; text-overflow: ellipsis; \">662622</td><td style=\"white-space: nowrap; max-width: 500px; overflow: hidden; text-overflow: ellipsis; \">&quot;A&quot;</td><td style=\"white-space: nowrap; max-width: 500px; overflow: hidden; text-overflow: ellipsis; \">&quot;G&quot;</td><td style=\"white-space: nowrap; max-width: 500px; overflow: hidden; text-overflow: ellipsis; \">-5.40e-06</td><td style=\"white-space: nowrap; max-width: 500px; overflow: hidden; text-overflow: ellipsis; \">&quot;1:662622&quot;</td></tr>\n",
       "<tr><td style=\"white-space: nowrap; max-width: 500px; overflow: hidden; text-overflow: ellipsis; \">&quot;rs12238997&quot;</td><td style=\"white-space: nowrap; max-width: 500px; overflow: hidden; text-overflow: ellipsis; \">1</td><td style=\"white-space: nowrap; max-width: 500px; overflow: hidden; text-overflow: ellipsis; \">693731</td><td style=\"white-space: nowrap; max-width: 500px; overflow: hidden; text-overflow: ellipsis; \">&quot;G&quot;</td><td style=\"white-space: nowrap; max-width: 500px; overflow: hidden; text-overflow: ellipsis; \">&quot;A&quot;</td><td style=\"white-space: nowrap; max-width: 500px; overflow: hidden; text-overflow: ellipsis; \">-6.22e-07</td><td style=\"white-space: nowrap; max-width: 500px; overflow: hidden; text-overflow: ellipsis; \">&quot;1:693731&quot;</td></tr>\n",
       "<tr><td style=\"white-space: nowrap; max-width: 500px; overflow: hidden; text-overflow: ellipsis; \">&quot;rs72631875&quot;</td><td style=\"white-space: nowrap; max-width: 500px; overflow: hidden; text-overflow: ellipsis; \">1</td><td style=\"white-space: nowrap; max-width: 500px; overflow: hidden; text-overflow: ellipsis; \">705882</td><td style=\"white-space: nowrap; max-width: 500px; overflow: hidden; text-overflow: ellipsis; \">&quot;A&quot;</td><td style=\"white-space: nowrap; max-width: 500px; overflow: hidden; text-overflow: ellipsis; \">&quot;G&quot;</td><td style=\"white-space: nowrap; max-width: 500px; overflow: hidden; text-overflow: ellipsis; \">1.15e-05</td><td style=\"white-space: nowrap; max-width: 500px; overflow: hidden; text-overflow: ellipsis; \">&quot;1:705882&quot;</td></tr>\n",
       "<tr><td style=\"white-space: nowrap; max-width: 500px; overflow: hidden; text-overflow: ellipsis; \">&quot;rs12029736&quot;</td><td style=\"white-space: nowrap; max-width: 500px; overflow: hidden; text-overflow: ellipsis; \">1</td><td style=\"white-space: nowrap; max-width: 500px; overflow: hidden; text-overflow: ellipsis; \">706368</td><td style=\"white-space: nowrap; max-width: 500px; overflow: hidden; text-overflow: ellipsis; \">&quot;G&quot;</td><td style=\"white-space: nowrap; max-width: 500px; overflow: hidden; text-overflow: ellipsis; \">&quot;A&quot;</td><td style=\"white-space: nowrap; max-width: 500px; overflow: hidden; text-overflow: ellipsis; \">-2.08e-06</td><td style=\"white-space: nowrap; max-width: 500px; overflow: hidden; text-overflow: ellipsis; \">&quot;1:706368&quot;</td></tr>\n",
       "<tr><td style=\"white-space: nowrap; max-width: 500px; overflow: hidden; text-overflow: ellipsis; \">&quot;rs116030099&quot;</td><td style=\"white-space: nowrap; max-width: 500px; overflow: hidden; text-overflow: ellipsis; \">1</td><td style=\"white-space: nowrap; max-width: 500px; overflow: hidden; text-overflow: ellipsis; \">722670</td><td style=\"white-space: nowrap; max-width: 500px; overflow: hidden; text-overflow: ellipsis; \">&quot;C&quot;</td><td style=\"white-space: nowrap; max-width: 500px; overflow: hidden; text-overflow: ellipsis; \">&quot;T&quot;</td><td style=\"white-space: nowrap; max-width: 500px; overflow: hidden; text-overflow: ellipsis; \">-1.60e-05</td><td style=\"white-space: nowrap; max-width: 500px; overflow: hidden; text-overflow: ellipsis; \">&quot;1:722670&quot;</td></tr>\n",
       "</tbody></table><p style=\"background: #fdd; padding: 0.4em;\">showing top 5 rows</p>\n"
      ],
      "text/plain": [
       "+---------------+----------+--------------+---------------+------------------+---------------+\n",
       "| rsID          | chr_name | chr_position | effect_allele | reference_allele | effect_weight |\n",
       "+---------------+----------+--------------+---------------+------------------+---------------+\n",
       "| str           |    int32 |        int32 | str           | str              |       float64 |\n",
       "+---------------+----------+--------------+---------------+------------------+---------------+\n",
       "| \"rs61769339\"  |        1 |       662622 | \"A\"           | \"G\"              |     -5.40e-06 |\n",
       "| \"rs12238997\"  |        1 |       693731 | \"G\"           | \"A\"              |     -6.22e-07 |\n",
       "| \"rs72631875\"  |        1 |       705882 | \"A\"           | \"G\"              |      1.15e-05 |\n",
       "| \"rs12029736\"  |        1 |       706368 | \"G\"           | \"A\"              |     -2.08e-06 |\n",
       "| \"rs116030099\" |        1 |       722670 | \"C\"           | \"T\"              |     -1.60e-05 |\n",
       "+---------------+----------+--------------+---------------+------------------+---------------+\n",
       "\n",
       "+------------+\n",
       "| variantID  |\n",
       "+------------+\n",
       "| str        |\n",
       "+------------+\n",
       "| \"1:662622\" |\n",
       "| \"1:693731\" |\n",
       "| \"1:705882\" |\n",
       "| \"1:706368\" |\n",
       "| \"1:722670\" |\n",
       "+------------+\n",
       "showing top 5 rows"
      ]
     },
     "metadata": {},
     "output_type": "display_data"
    }
   ],
   "source": [
    "model_PGS000332.show(5)"
   ]
  },
  {
   "cell_type": "markdown",
   "id": "da1627d8",
   "metadata": {},
   "source": [
    "`variantID` のカラムが追加されていることが分かります。"
   ]
  },
  {
   "cell_type": "markdown",
   "id": "c09922c7",
   "metadata": {},
   "source": [
    "### Step 5-2 ゲノムデータとPRSモデルに共通するバリアントを抽出します (PGS000332)"
   ]
  },
  {
   "cell_type": "markdown",
   "id": "943ce5ae",
   "metadata": {},
   "source": [
    "下記のコードは、PRSモデルのバリアント情報を `variantID` で検索できるようにします。"
   ]
  },
  {
   "cell_type": "code",
   "execution_count": 48,
   "id": "afaeba53",
   "metadata": {},
   "outputs": [],
   "source": [
    "model_PGS000332 = model_PGS000332.key_by('variantID')"
   ]
  },
  {
   "cell_type": "markdown",
   "id": "fd6d788b",
   "metadata": {},
   "source": [
    "下記のコードは、ゲノムデータと PRS モデルに共通するバリアントを抽出します。"
   ]
  },
  {
   "cell_type": "code",
   "execution_count": 49,
   "id": "29bd3515",
   "metadata": {},
   "outputs": [],
   "source": [
    "mt_match_PGS000332 = mt.annotate_rows(**model_PGS000332[mt.variantID])\n",
    "mt_match_PGS000332 = mt_match_PGS000332.filter_rows(hl.is_defined(mt_match_PGS000332.effect_weight))"
   ]
  },
  {
   "cell_type": "markdown",
   "id": "db1f7b1f",
   "metadata": {},
   "source": [
    "今後のステップの実行時間を短縮するため、抽出したゲノムデータを保存し、再度読み込みます。\n",
    "\n",
    "下記のコードは、抽出したゲノムデータを `genome-data/1kg.JPT.chrAll.filtered.matched_PGS000332.mt` に保存します。\n",
    "20分程度の待ち時間が生じます。"
   ]
  },
  {
   "cell_type": "code",
   "execution_count": 50,
   "id": "506d12e7",
   "metadata": {},
   "outputs": [
    {
     "name": "stderr",
     "output_type": "stream",
     "text": [
      "2021-06-12 13:57:36 Hail: INFO: Ordering unsorted dataset with network shuffle\n",
      "2021-06-12 13:57:44 Hail: INFO: Ordering unsorted dataset with network shuffle\n",
      "2021-06-12 14:11:37 Hail: INFO: Ordering unsorted dataset with network shuffle\n",
      "2021-06-12 14:19:08 Hail: INFO: wrote matrix table with 4687515 rows and 104 columns in 22 partitions to genome-data/1kg.JPT.chrAll.filtered.matched_PGS000332.mt\n",
      "    Total size: 524.53 MiB\n",
      "    * Rows/entries: 524.52 MiB\n",
      "    * Columns: 858.00 B\n",
      "    * Globals: 11.00 B\n",
      "    * Smallest partition: 67182 rows (8.15 MiB)\n",
      "    * Largest partition:  387118 rows (42.31 MiB)\n"
     ]
    }
   ],
   "source": [
    "mt_match_PGS000332.write('genome-data/1kg.JPT.chrAll.filtered.matched_PGS000332.mt', overwrite=True)"
   ]
  },
  {
   "cell_type": "markdown",
   "id": "86664539",
   "metadata": {},
   "source": [
    "下記のコードは、`genome-data/1kg.JPT.chrAll.filtered.matched_PGS000332.mt` を読み込みます。"
   ]
  },
  {
   "cell_type": "code",
   "execution_count": 51,
   "id": "e8a71a0a",
   "metadata": {},
   "outputs": [],
   "source": [
    "mt_match_PGS000332 = hl.read_matrix_table('genome-data/1kg.JPT.chrAll.filtered.matched_PGS000332.mt')"
   ]
  },
  {
   "cell_type": "markdown",
   "id": "f902bb69",
   "metadata": {},
   "source": [
    "`PGS000004` と `PGS000015` では、ユニークな `variantID` が何個あるかをカウントしていましたが、`PGS000332` ではその操作をスキップします。\n",
    "`16GB` の RAM では足りず、エラーが表示されてしまったためです。"
   ]
  },
  {
   "cell_type": "markdown",
   "id": "f7407dab",
   "metadata": {},
   "source": [
    "### Step 5-3 PRSを計算して保存します (PGS000332)"
   ]
  },
  {
   "cell_type": "markdown",
   "id": "adda3f5f",
   "metadata": {},
   "source": [
    "下記のコードは、ゲノムデータのアリル情報とPRSモデルのアリル情報を比較し、合致しているかをチェックします。"
   ]
  },
  {
   "cell_type": "code",
   "execution_count": 55,
   "id": "3d855ee0",
   "metadata": {},
   "outputs": [],
   "source": [
    "flip_PGS000332 = hl.case().when( \n",
    "    (mt_match_PGS000332.effect_allele == mt_match_PGS000332.alleles[0]) \n",
    "    & (mt_match_PGS000332.reference_allele == mt_match_PGS000332.alleles[1]), True ).when( \n",
    "    (mt_match_PGS000332.effect_allele == mt_match_PGS000332.alleles[1])\n",
    "    & (mt_match_PGS000332.reference_allele == mt_match_PGS000332.alleles[0]), False ).or_missing()"
   ]
  },
  {
   "cell_type": "code",
   "execution_count": 56,
   "id": "f7d3a989",
   "metadata": {},
   "outputs": [],
   "source": [
    "mt_match_PGS000332 = mt_match_PGS000332.annotate_rows( flip=flip_PGS000332 )"
   ]
  },
  {
   "cell_type": "markdown",
   "id": "d4f31aa2",
   "metadata": {},
   "source": [
    "下記のコードは、各々のバリアントについて研究対象者の持っているアリル数（`mt_match_PGS000332.DS`）とバリアントの重み（`mt_match_PGS000332.effect_weight`）を掛け合わせて、ゲノムデータとPRSモデルの共通するバリアントについて足し合わせます。\n",
    "これにより、PRSを計算することができます。"
   ]
  },
  {
   "cell_type": "code",
   "execution_count": 57,
   "id": "a506a159",
   "metadata": {},
   "outputs": [],
   "source": [
    "prs_PGS000332 = hl.agg.sum( hl.float64( mt_match_PGS000332.effect_weight ) * \n",
    "                    hl.if_else( mt_match_PGS000332.flip, \n",
    "                                2 - mt_match_PGS000332.DS,\n",
    "                                mt_match_PGS000332.DS) )"
   ]
  },
  {
   "cell_type": "code",
   "execution_count": 58,
   "id": "7f986c63",
   "metadata": {},
   "outputs": [],
   "source": [
    "mt_match_PGS000332 = mt_match_PGS000332.annotate_cols(prs=prs_PGS000332)"
   ]
  },
  {
   "cell_type": "markdown",
   "id": "43e0fcd7",
   "metadata": {},
   "source": [
    "下記のコードは、PRSの値を表示します。"
   ]
  },
  {
   "cell_type": "code",
   "execution_count": 59,
   "id": "e1284ed1",
   "metadata": {},
   "outputs": [
    {
     "data": {
      "text/html": [
       "<table><thead><tr><td style=\"white-space: nowrap; max-width: 500px; overflow: hidden; text-overflow: ellipsis; \" colspan=\"1\"><div style=\"text-align: left;\"></div></td><td style=\"white-space: nowrap; max-width: 500px; overflow: hidden; text-overflow: ellipsis; \" colspan=\"1\"><div style=\"text-align: left;\"></div></td></tr><tr><td style=\"white-space: nowrap; max-width: 500px; overflow: hidden; text-overflow: ellipsis; \" colspan=\"1\"><div style=\"text-align: left;border-bottom: solid 2px #000; padding-bottom: 5px\">s</div></td><td style=\"white-space: nowrap; max-width: 500px; overflow: hidden; text-overflow: ellipsis; \" colspan=\"1\"><div style=\"text-align: left;border-bottom: solid 2px #000; padding-bottom: 5px\">prs</div></td></tr><tr><td style=\"white-space: nowrap; max-width: 500px; overflow: hidden; text-overflow: ellipsis; text-align: left;\">str</td><td style=\"white-space: nowrap; max-width: 500px; overflow: hidden; text-overflow: ellipsis; text-align: left;\">float64</td></tr>\n",
       "</thead><tbody><tr><td style=\"white-space: nowrap; max-width: 500px; overflow: hidden; text-overflow: ellipsis; \">&quot;TEST_NA18939_TEST_NA18939&quot;</td><td style=\"white-space: nowrap; max-width: 500px; overflow: hidden; text-overflow: ellipsis; \">-3.66e-02</td></tr>\n",
       "<tr><td style=\"white-space: nowrap; max-width: 500px; overflow: hidden; text-overflow: ellipsis; \">&quot;TEST_NA18940_TEST_NA18940&quot;</td><td style=\"white-space: nowrap; max-width: 500px; overflow: hidden; text-overflow: ellipsis; \">3.17e-01</td></tr>\n",
       "<tr><td style=\"white-space: nowrap; max-width: 500px; overflow: hidden; text-overflow: ellipsis; \">&quot;TEST_NA18941_TEST_NA18941&quot;</td><td style=\"white-space: nowrap; max-width: 500px; overflow: hidden; text-overflow: ellipsis; \">2.74e-01</td></tr>\n",
       "<tr><td style=\"white-space: nowrap; max-width: 500px; overflow: hidden; text-overflow: ellipsis; \">&quot;TEST_NA18942_TEST_NA18942&quot;</td><td style=\"white-space: nowrap; max-width: 500px; overflow: hidden; text-overflow: ellipsis; \">1.14e-01</td></tr>\n",
       "<tr><td style=\"white-space: nowrap; max-width: 500px; overflow: hidden; text-overflow: ellipsis; \">&quot;TEST_NA18943_TEST_NA18943&quot;</td><td style=\"white-space: nowrap; max-width: 500px; overflow: hidden; text-overflow: ellipsis; \">-2.77e-02</td></tr>\n",
       "</tbody></table><p style=\"background: #fdd; padding: 0.4em;\">showing top 5 rows</p>\n"
      ],
      "text/plain": [
       "+-----------------------------+-----------+\n",
       "| s                           |       prs |\n",
       "+-----------------------------+-----------+\n",
       "| str                         |   float64 |\n",
       "+-----------------------------+-----------+\n",
       "| \"TEST_NA18939_TEST_NA18939\" | -3.66e-02 |\n",
       "| \"TEST_NA18940_TEST_NA18940\" |  3.17e-01 |\n",
       "| \"TEST_NA18941_TEST_NA18941\" |  2.74e-01 |\n",
       "| \"TEST_NA18942_TEST_NA18942\" |  1.14e-01 |\n",
       "| \"TEST_NA18943_TEST_NA18943\" | -2.77e-02 |\n",
       "+-----------------------------+-----------+\n",
       "showing top 5 rows"
      ]
     },
     "metadata": {},
     "output_type": "display_data"
    }
   ],
   "source": [
    "mt_match_PGS000332.cols().show(5)"
   ]
  },
  {
   "cell_type": "markdown",
   "id": "17702857",
   "metadata": {},
   "source": [
    "下記のコードは、PRSの分布を表示します。"
   ]
  },
  {
   "cell_type": "code",
   "execution_count": 60,
   "id": "13069592",
   "metadata": {},
   "outputs": [
    {
     "data": {
      "text/html": [
       "\n",
       "\n",
       "\n",
       "\n",
       "\n",
       "\n",
       "  <div class=\"bk-root\" id=\"6f3c302b-87b3-4035-9f11-26651e87811f\" data-root-id=\"1246\"></div>\n"
      ]
     },
     "metadata": {},
     "output_type": "display_data"
    },
    {
     "data": {
      "application/javascript": [
       "(function(root) {\n",
       "  function embed_document(root) {\n",
       "    \n",
       "  var docs_json = {\"268dcfd3-ef98-4302-8cd0-f801e35453c4\":{\"roots\":{\"references\":[{\"attributes\":{\"background_fill_color\":{\"value\":\"#EEEEEE\"},\"below\":[{\"id\":\"1257\",\"type\":\"LinearAxis\"}],\"center\":[{\"id\":\"1261\",\"type\":\"Grid\"},{\"id\":\"1266\",\"type\":\"Grid\"},{\"id\":\"1291\",\"type\":\"Legend\"}],\"left\":[{\"id\":\"1262\",\"type\":\"LinearAxis\"}],\"renderers\":[{\"id\":\"1283\",\"type\":\"GlyphRenderer\"}],\"title\":{\"id\":\"1247\",\"type\":\"Title\"},\"toolbar\":{\"id\":\"1273\",\"type\":\"Toolbar\"},\"x_range\":{\"id\":\"1249\",\"type\":\"Range1d\"},\"x_scale\":{\"id\":\"1253\",\"type\":\"LinearScale\"},\"y_range\":{\"id\":\"1251\",\"type\":\"DataRange1d\"},\"y_scale\":{\"id\":\"1255\",\"type\":\"LinearScale\"}},\"id\":\"1246\",\"subtype\":\"Figure\",\"type\":\"Plot\"},{\"attributes\":{\"callback\":null,\"end\":0.683666502440495,\"start\":-0.5624305045012056},\"id\":\"1249\",\"type\":\"Range1d\"},{\"attributes\":{\"bottom_units\":\"screen\",\"fill_alpha\":{\"value\":0.5},\"fill_color\":{\"value\":\"lightgrey\"},\"left_units\":\"screen\",\"level\":\"overlay\",\"line_alpha\":{\"value\":1.0},\"line_color\":{\"value\":\"black\"},\"line_dash\":[4,4],\"line_width\":{\"value\":2},\"render_mode\":\"css\",\"right_units\":\"screen\",\"top_units\":\"screen\"},\"id\":\"1290\",\"type\":\"BoxAnnotation\"},{\"attributes\":{\"text\":\"PRS Histogram\"},\"id\":\"1247\",\"type\":\"Title\"},{\"attributes\":{\"axis_label\":\"PGS000332\",\"formatter\":{\"id\":\"1286\",\"type\":\"BasicTickFormatter\"},\"ticker\":{\"id\":\"1258\",\"type\":\"BasicTicker\"}},\"id\":\"1257\",\"type\":\"LinearAxis\"},{\"attributes\":{\"ticker\":{\"id\":\"1258\",\"type\":\"BasicTicker\"}},\"id\":\"1261\",\"type\":\"Grid\"},{\"attributes\":{\"callback\":null,\"data\":{\"left\":[-0.505789731458401,-0.44914895841559643,-0.39250818537279186,-0.3358674123299873,-0.2792266392871827,-0.22258586624437815,-0.16594509320157358,-0.10930432015876901,-0.05266354711596444,0.003977225926840133,0.060617998969644704,0.11725877201244927,0.17389954505525385,0.23054031809805842,0.287181091140863,0.34382186418366756,0.40046263722647213,0.4571034102692767,0.5137441833120813,0.5703849563548857],\"right\":[-0.44914895841559643,-0.39250818537279186,-0.3358674123299873,-0.2792266392871827,-0.22258586624437815,-0.16594509320157358,-0.10930432015876901,-0.05266354711596444,0.003977225926840133,0.060617998969644704,0.11725877201244927,0.17389954505525385,0.23054031809805842,0.287181091140863,0.34382186418366756,0.40046263722647213,0.4571034102692767,0.5137441833120813,0.5703849563548857,0.6270257293976904],\"top\":[1,0,0,0,4,3,7,8,10,9,9,13,5,7,12,5,3,2,5,1]},\"selected\":{\"id\":\"1318\",\"type\":\"Selection\"},\"selection_policy\":{\"id\":\"1317\",\"type\":\"UnionRenderers\"}},\"id\":\"1280\",\"type\":\"ColumnDataSource\"},{\"attributes\":{\"label\":{\"value\":\"PGS000332\"},\"renderers\":[{\"id\":\"1283\",\"type\":\"GlyphRenderer\"}]},\"id\":\"1292\",\"type\":\"LegendItem\"},{\"attributes\":{},\"id\":\"1267\",\"type\":\"PanTool\"},{\"attributes\":{},\"id\":\"1288\",\"type\":\"BasicTickFormatter\"},{\"attributes\":{},\"id\":\"1268\",\"type\":\"WheelZoomTool\"},{\"attributes\":{},\"id\":\"1317\",\"type\":\"UnionRenderers\"},{\"attributes\":{},\"id\":\"1255\",\"type\":\"LinearScale\"},{\"attributes\":{},\"id\":\"1258\",\"type\":\"BasicTicker\"},{\"attributes\":{},\"id\":\"1271\",\"type\":\"ResetTool\"},{\"attributes\":{\"bottom\":{\"value\":0},\"fill_color\":{\"value\":\"#1f77b4\"},\"left\":{\"field\":\"left\"},\"right\":{\"field\":\"right\"},\"top\":{\"field\":\"top\"}},\"id\":\"1281\",\"type\":\"Quad\"},{\"attributes\":{},\"id\":\"1263\",\"type\":\"BasicTicker\"},{\"attributes\":{\"dimension\":1,\"ticker\":{\"id\":\"1263\",\"type\":\"BasicTicker\"}},\"id\":\"1266\",\"type\":\"Grid\"},{\"attributes\":{\"data_source\":{\"id\":\"1280\",\"type\":\"ColumnDataSource\"},\"glyph\":{\"id\":\"1281\",\"type\":\"Quad\"},\"hover_glyph\":null,\"muted_glyph\":null,\"nonselection_glyph\":{\"id\":\"1282\",\"type\":\"Quad\"},\"selection_glyph\":null,\"view\":{\"id\":\"1284\",\"type\":\"CDSView\"}},\"id\":\"1283\",\"type\":\"GlyphRenderer\"},{\"attributes\":{},\"id\":\"1286\",\"type\":\"BasicTickFormatter\"},{\"attributes\":{},\"id\":\"1270\",\"type\":\"SaveTool\"},{\"attributes\":{\"source\":{\"id\":\"1280\",\"type\":\"ColumnDataSource\"}},\"id\":\"1284\",\"type\":\"CDSView\"},{\"attributes\":{\"bottom\":{\"value\":0},\"fill_alpha\":{\"value\":0.1},\"fill_color\":{\"value\":\"#1f77b4\"},\"left\":{\"field\":\"left\"},\"line_alpha\":{\"value\":0.1},\"line_color\":{\"value\":\"#1f77b4\"},\"right\":{\"field\":\"right\"},\"top\":{\"field\":\"top\"}},\"id\":\"1282\",\"type\":\"Quad\"},{\"attributes\":{\"overlay\":{\"id\":\"1290\",\"type\":\"BoxAnnotation\"}},\"id\":\"1269\",\"type\":\"BoxZoomTool\"},{\"attributes\":{},\"id\":\"1318\",\"type\":\"Selection\"},{\"attributes\":{\"axis_label\":\"Frequency\",\"formatter\":{\"id\":\"1288\",\"type\":\"BasicTickFormatter\"},\"ticker\":{\"id\":\"1263\",\"type\":\"BasicTicker\"}},\"id\":\"1262\",\"type\":\"LinearAxis\"},{\"attributes\":{\"callback\":null},\"id\":\"1251\",\"type\":\"DataRange1d\"},{\"attributes\":{\"items\":[{\"id\":\"1292\",\"type\":\"LegendItem\"}]},\"id\":\"1291\",\"type\":\"Legend\"},{\"attributes\":{},\"id\":\"1253\",\"type\":\"LinearScale\"},{\"attributes\":{},\"id\":\"1272\",\"type\":\"HelpTool\"},{\"attributes\":{\"active_drag\":\"auto\",\"active_inspect\":\"auto\",\"active_multi\":null,\"active_scroll\":\"auto\",\"active_tap\":\"auto\",\"tools\":[{\"id\":\"1267\",\"type\":\"PanTool\"},{\"id\":\"1268\",\"type\":\"WheelZoomTool\"},{\"id\":\"1269\",\"type\":\"BoxZoomTool\"},{\"id\":\"1270\",\"type\":\"SaveTool\"},{\"id\":\"1271\",\"type\":\"ResetTool\"},{\"id\":\"1272\",\"type\":\"HelpTool\"}]},\"id\":\"1273\",\"type\":\"Toolbar\"}],\"root_ids\":[\"1246\"]},\"title\":\"Bokeh Application\",\"version\":\"1.4.0\"}};\n",
       "  var render_items = [{\"docid\":\"268dcfd3-ef98-4302-8cd0-f801e35453c4\",\"roots\":{\"1246\":\"6f3c302b-87b3-4035-9f11-26651e87811f\"}}];\n",
       "  root.Bokeh.embed.embed_items_notebook(docs_json, render_items);\n",
       "\n",
       "  }\n",
       "  if (root.Bokeh !== undefined) {\n",
       "    embed_document(root);\n",
       "  } else {\n",
       "    var attempts = 0;\n",
       "    var timer = setInterval(function(root) {\n",
       "      if (root.Bokeh !== undefined) {\n",
       "        clearInterval(timer);\n",
       "        embed_document(root);\n",
       "      } else {\n",
       "        attempts++;\n",
       "        if (attempts > 100) {\n",
       "          clearInterval(timer);\n",
       "          console.log(\"Bokeh: ERROR: Unable to run BokehJS code because BokehJS library is missing\");\n",
       "        }\n",
       "      }\n",
       "    }, 10, root)\n",
       "  }\n",
       "})(window);"
      ],
      "application/vnd.bokehjs_exec.v0+json": ""
     },
     "metadata": {
      "application/vnd.bokehjs_exec.v0+json": {
       "id": "1246"
      }
     },
     "output_type": "display_data"
    }
   ],
   "source": [
    "p = hl.plot.histogram(mt_match_PGS000332.prs, title=\"PRS Histogram\", legend=\"PGS000332\", bins=20)\n",
    "show(p)"
   ]
  },
  {
   "cell_type": "markdown",
   "id": "c0c3f13a",
   "metadata": {},
   "source": [
    "<img src=\"plots/real-data-plot-03.png\" width=50% >"
   ]
  },
  {
   "cell_type": "markdown",
   "id": "9fe2b27d",
   "metadata": {},
   "source": [
    "下記のコードは、PRSの計算結果を 1kg.JPT.chrAll.filtered.PGS000332.PRS.txt ファイルに保存します。"
   ]
  },
  {
   "cell_type": "code",
   "execution_count": 61,
   "id": "20e342e0",
   "metadata": {},
   "outputs": [
    {
     "name": "stderr",
     "output_type": "stream",
     "text": [
      "2021-06-12 14:34:03 Hail: INFO: Coerced sorted dataset\n",
      "2021-06-12 14:34:03 Hail: INFO: merging 16 files totalling 3.8K...\n",
      "2021-06-12 14:34:03 Hail: INFO: while writing:\n",
      "    1kg.JPT.chrAll.filtered.PGS000332.PRS.txt\n",
      "  merge time: 45.161ms\n"
     ]
    }
   ],
   "source": [
    "mt_match_PGS000332.cols().export('1kg.JPT.chrAll.filtered.PGS000332.PRS.txt')"
   ]
  },
  {
   "cell_type": "markdown",
   "id": "b833fd6c",
   "metadata": {},
   "source": [
    "### Step 6 PRSのスコア値を比較します"
   ]
  },
  {
   "cell_type": "markdown",
   "id": "6dea07c4",
   "metadata": {},
   "source": [
    "3種類の乳癌PRSモデルを用いて、PRSスコア値を計算しました。\n",
    "このチュートリアルの最後に、3種類のPRSスコア値を比較してみます。"
   ]
  },
  {
   "cell_type": "markdown",
   "id": "d08e31b6",
   "metadata": {},
   "source": [
    "下記のコードは、PRSモデル `PGS000004` を用いて計算した PRS スコア値を読み込みます。"
   ]
  },
  {
   "cell_type": "code",
   "execution_count": 62,
   "id": "18e27733",
   "metadata": {},
   "outputs": [
    {
     "name": "stderr",
     "output_type": "stream",
     "text": [
      "2021-06-12 14:37:03 Hail: INFO: Reading table to impute column types\n",
      "2021-06-12 14:37:03 Hail: INFO: Finished type imputation\n",
      "  Loading field 's' as type str (imputed)\n",
      "  Loading field 'prs' as type float64 (imputed)\n"
     ]
    }
   ],
   "source": [
    "prs_PGS000004 = hl.import_table('1kg.JPT.chrAll.filtered.PGS000004.PRS.txt', impute=True, force=True)"
   ]
  },
  {
   "cell_type": "markdown",
   "id": "a3611b4f",
   "metadata": {},
   "source": [
    "下記のコードは、PRS スコア値を subject ID (変数名 `s`) で検索できるようにします。"
   ]
  },
  {
   "cell_type": "code",
   "execution_count": 63,
   "id": "9195f322",
   "metadata": {},
   "outputs": [],
   "source": [
    "prs_PGS000004 = prs_PGS000004.key_by('s')"
   ]
  },
  {
   "cell_type": "markdown",
   "id": "de6a00fe",
   "metadata": {},
   "source": [
    "下記のコードは、PRSモデル `PGS000015` を用いて計算した PRS スコア値を読み込みます。"
   ]
  },
  {
   "cell_type": "code",
   "execution_count": 64,
   "id": "0e2951ee",
   "metadata": {},
   "outputs": [
    {
     "name": "stderr",
     "output_type": "stream",
     "text": [
      "2021-06-12 14:39:18 Hail: INFO: Reading table to impute column types\n",
      "2021-06-12 14:39:18 Hail: INFO: Finished type imputation\n",
      "  Loading field 's' as type str (imputed)\n",
      "  Loading field 'prs' as type float64 (imputed)\n"
     ]
    }
   ],
   "source": [
    "prs_PGS000015 = hl.import_table('1kg.JPT.chrAll.filtered.PGS000015.PRS.txt', impute=True, force=True)"
   ]
  },
  {
   "cell_type": "markdown",
   "id": "008ce87a",
   "metadata": {},
   "source": [
    "下記のコードは、PRS スコア値を subject ID (変数名 `s`) で検索できるようにします。"
   ]
  },
  {
   "cell_type": "code",
   "execution_count": 66,
   "id": "b74fb819",
   "metadata": {},
   "outputs": [],
   "source": [
    "prs_PGS000015 = prs_PGS000015.key_by('s')"
   ]
  },
  {
   "cell_type": "markdown",
   "id": "78fcb875",
   "metadata": {},
   "source": [
    "下記のコードは、PRSモデル `PGS000332` を用いて計算した PRS スコア値を読み込みます。"
   ]
  },
  {
   "cell_type": "code",
   "execution_count": 67,
   "id": "b21919e8",
   "metadata": {},
   "outputs": [
    {
     "name": "stderr",
     "output_type": "stream",
     "text": [
      "2021-06-12 14:41:51 Hail: INFO: Reading table to impute column types\n",
      "2021-06-12 14:41:51 Hail: INFO: Finished type imputation\n",
      "  Loading field 's' as type str (imputed)\n",
      "  Loading field 'prs' as type float64 (imputed)\n"
     ]
    }
   ],
   "source": [
    "prs_PGS000332 = hl.import_table('1kg.JPT.chrAll.filtered.PGS000332.PRS.txt', impute=True, force=True)"
   ]
  },
  {
   "cell_type": "markdown",
   "id": "395fc65e",
   "metadata": {},
   "source": [
    "下記のコードは、PRS スコア値を subject ID (変数名 s) で検索できるようにします。"
   ]
  },
  {
   "cell_type": "code",
   "execution_count": 68,
   "id": "f1da58fe",
   "metadata": {},
   "outputs": [],
   "source": [
    "prs_PGS000332 = prs_PGS000332.key_by('s')"
   ]
  },
  {
   "cell_type": "markdown",
   "id": "0fabeac3",
   "metadata": {},
   "source": [
    "下記のコードは、3種類の PRS スコア値を subject ID (変数名 `s`) で突合し、データマージを行います。"
   ]
  },
  {
   "cell_type": "code",
   "execution_count": 74,
   "id": "3f279a4f",
   "metadata": {},
   "outputs": [],
   "source": [
    "prs_merge = prs_PGS000004.rename({'s':'subjectID', 'prs':'PGS000004'})"
   ]
  },
  {
   "cell_type": "code",
   "execution_count": 82,
   "id": "1934da22",
   "metadata": {},
   "outputs": [],
   "source": [
    "prs_merge = prs_merge.annotate(PGS000015 = prs_PGS000015[prs_merge.subjectID].prs)"
   ]
  },
  {
   "cell_type": "code",
   "execution_count": 83,
   "id": "db3500a8",
   "metadata": {},
   "outputs": [],
   "source": [
    "prs_merge = prs_merge.annotate(PGS000332 = prs_PGS000332[prs_merge.subjectID].prs)"
   ]
  },
  {
   "cell_type": "markdown",
   "id": "4cd85944",
   "metadata": {},
   "source": [
    "下記のコードは、データマージした結果を表示します。"
   ]
  },
  {
   "cell_type": "code",
   "execution_count": 84,
   "id": "044ea270",
   "metadata": {},
   "outputs": [
    {
     "name": "stderr",
     "output_type": "stream",
     "text": [
      "2021-06-12 14:52:55 Hail: INFO: Coerced sorted dataset\n",
      "2021-06-12 14:52:55 Hail: INFO: Coerced sorted dataset\n",
      "2021-06-12 14:52:55 Hail: INFO: Coerced sorted dataset\n"
     ]
    },
    {
     "data": {
      "text/html": [
       "<table><thead><tr><td style=\"white-space: nowrap; max-width: 500px; overflow: hidden; text-overflow: ellipsis; \" colspan=\"1\"><div style=\"text-align: left;\"></div></td><td style=\"white-space: nowrap; max-width: 500px; overflow: hidden; text-overflow: ellipsis; \" colspan=\"1\"><div style=\"text-align: left;\"></div></td><td style=\"white-space: nowrap; max-width: 500px; overflow: hidden; text-overflow: ellipsis; \" colspan=\"1\"><div style=\"text-align: left;\"></div></td><td style=\"white-space: nowrap; max-width: 500px; overflow: hidden; text-overflow: ellipsis; \" colspan=\"1\"><div style=\"text-align: left;\"></div></td></tr><tr><td style=\"white-space: nowrap; max-width: 500px; overflow: hidden; text-overflow: ellipsis; \" colspan=\"1\"><div style=\"text-align: left;border-bottom: solid 2px #000; padding-bottom: 5px\">subjectID</div></td><td style=\"white-space: nowrap; max-width: 500px; overflow: hidden; text-overflow: ellipsis; \" colspan=\"1\"><div style=\"text-align: left;border-bottom: solid 2px #000; padding-bottom: 5px\">PGS000004</div></td><td style=\"white-space: nowrap; max-width: 500px; overflow: hidden; text-overflow: ellipsis; \" colspan=\"1\"><div style=\"text-align: left;border-bottom: solid 2px #000; padding-bottom: 5px\">PGS000015</div></td><td style=\"white-space: nowrap; max-width: 500px; overflow: hidden; text-overflow: ellipsis; \" colspan=\"1\"><div style=\"text-align: left;border-bottom: solid 2px #000; padding-bottom: 5px\">PGS000332</div></td></tr><tr><td style=\"white-space: nowrap; max-width: 500px; overflow: hidden; text-overflow: ellipsis; text-align: left;\">str</td><td style=\"white-space: nowrap; max-width: 500px; overflow: hidden; text-overflow: ellipsis; text-align: left;\">float64</td><td style=\"white-space: nowrap; max-width: 500px; overflow: hidden; text-overflow: ellipsis; text-align: left;\">float64</td><td style=\"white-space: nowrap; max-width: 500px; overflow: hidden; text-overflow: ellipsis; text-align: left;\">float64</td></tr>\n",
       "</thead><tbody><tr><td style=\"white-space: nowrap; max-width: 500px; overflow: hidden; text-overflow: ellipsis; \">&quot;TEST_NA18939_TEST_NA18939&quot;</td><td style=\"white-space: nowrap; max-width: 500px; overflow: hidden; text-overflow: ellipsis; \">7.62e-02</td><td style=\"white-space: nowrap; max-width: 500px; overflow: hidden; text-overflow: ellipsis; \">1.51e+02</td><td style=\"white-space: nowrap; max-width: 500px; overflow: hidden; text-overflow: ellipsis; \">-3.66e-02</td></tr>\n",
       "<tr><td style=\"white-space: nowrap; max-width: 500px; overflow: hidden; text-overflow: ellipsis; \">&quot;TEST_NA18940_TEST_NA18940&quot;</td><td style=\"white-space: nowrap; max-width: 500px; overflow: hidden; text-overflow: ellipsis; \">9.38e-01</td><td style=\"white-space: nowrap; max-width: 500px; overflow: hidden; text-overflow: ellipsis; \">1.54e+02</td><td style=\"white-space: nowrap; max-width: 500px; overflow: hidden; text-overflow: ellipsis; \">3.17e-01</td></tr>\n",
       "<tr><td style=\"white-space: nowrap; max-width: 500px; overflow: hidden; text-overflow: ellipsis; \">&quot;TEST_NA18941_TEST_NA18941&quot;</td><td style=\"white-space: nowrap; max-width: 500px; overflow: hidden; text-overflow: ellipsis; \">5.07e-01</td><td style=\"white-space: nowrap; max-width: 500px; overflow: hidden; text-overflow: ellipsis; \">1.51e+02</td><td style=\"white-space: nowrap; max-width: 500px; overflow: hidden; text-overflow: ellipsis; \">2.74e-01</td></tr>\n",
       "<tr><td style=\"white-space: nowrap; max-width: 500px; overflow: hidden; text-overflow: ellipsis; \">&quot;TEST_NA18942_TEST_NA18942&quot;</td><td style=\"white-space: nowrap; max-width: 500px; overflow: hidden; text-overflow: ellipsis; \">1.43e-01</td><td style=\"white-space: nowrap; max-width: 500px; overflow: hidden; text-overflow: ellipsis; \">1.50e+02</td><td style=\"white-space: nowrap; max-width: 500px; overflow: hidden; text-overflow: ellipsis; \">1.14e-01</td></tr>\n",
       "<tr><td style=\"white-space: nowrap; max-width: 500px; overflow: hidden; text-overflow: ellipsis; \">&quot;TEST_NA18943_TEST_NA18943&quot;</td><td style=\"white-space: nowrap; max-width: 500px; overflow: hidden; text-overflow: ellipsis; \">7.16e-01</td><td style=\"white-space: nowrap; max-width: 500px; overflow: hidden; text-overflow: ellipsis; \">1.52e+02</td><td style=\"white-space: nowrap; max-width: 500px; overflow: hidden; text-overflow: ellipsis; \">-2.77e-02</td></tr>\n",
       "</tbody></table><p style=\"background: #fdd; padding: 0.4em;\">showing top 5 rows</p>\n"
      ],
      "text/plain": [
       "+-----------------------------+-----------+-----------+-----------+\n",
       "| subjectID                   | PGS000004 | PGS000015 | PGS000332 |\n",
       "+-----------------------------+-----------+-----------+-----------+\n",
       "| str                         |   float64 |   float64 |   float64 |\n",
       "+-----------------------------+-----------+-----------+-----------+\n",
       "| \"TEST_NA18939_TEST_NA18939\" |  7.62e-02 |  1.51e+02 | -3.66e-02 |\n",
       "| \"TEST_NA18940_TEST_NA18940\" |  9.38e-01 |  1.54e+02 |  3.17e-01 |\n",
       "| \"TEST_NA18941_TEST_NA18941\" |  5.07e-01 |  1.51e+02 |  2.74e-01 |\n",
       "| \"TEST_NA18942_TEST_NA18942\" |  1.43e-01 |  1.50e+02 |  1.14e-01 |\n",
       "| \"TEST_NA18943_TEST_NA18943\" |  7.16e-01 |  1.52e+02 | -2.77e-02 |\n",
       "+-----------------------------+-----------+-----------+-----------+\n",
       "showing top 5 rows"
      ]
     },
     "metadata": {},
     "output_type": "display_data"
    }
   ],
   "source": [
    "prs_merge.show(5)"
   ]
  },
  {
   "cell_type": "markdown",
   "id": "b674a7e7",
   "metadata": {},
   "source": [
    "下記のコードは、`PGS000004` と `PGS000015` のスコア値をプロットします。"
   ]
  },
  {
   "cell_type": "code",
   "execution_count": 92,
   "id": "e97c0a76",
   "metadata": {},
   "outputs": [
    {
     "name": "stderr",
     "output_type": "stream",
     "text": [
      "2021-06-12 14:58:51 Hail: INFO: Coerced sorted dataset\n",
      "2021-06-12 14:58:51 Hail: INFO: Coerced sorted dataset\n"
     ]
    },
    {
     "data": {
      "text/html": [
       "\n",
       "\n",
       "\n",
       "\n",
       "\n",
       "\n",
       "  <div class=\"bk-root\" id=\"4081e5c1-d8db-476f-9fe4-aa51af7b7c49\" data-root-id=\"2244\"></div>\n"
      ]
     },
     "metadata": {},
     "output_type": "display_data"
    },
    {
     "data": {
      "application/javascript": [
       "(function(root) {\n",
       "  function embed_document(root) {\n",
       "    \n",
       "  var docs_json = {\"06776623-fe2b-4134-961f-48ffae3379e0\":{\"roots\":{\"references\":[{\"attributes\":{\"below\":[{\"id\":\"2254\",\"type\":\"LinearAxis\"}],\"center\":[{\"id\":\"2258\",\"type\":\"Grid\"},{\"id\":\"2263\",\"type\":\"Grid\"}],\"left\":[{\"id\":\"2259\",\"type\":\"LinearAxis\"}],\"plot_height\":800,\"plot_width\":800,\"renderers\":[{\"id\":\"2283\",\"type\":\"GlyphRenderer\"}],\"title\":null,\"toolbar\":{\"id\":\"2270\",\"type\":\"Toolbar\"},\"x_range\":{\"id\":\"2246\",\"type\":\"DataRange1d\"},\"x_scale\":{\"id\":\"2250\",\"type\":\"LinearScale\"},\"y_range\":{\"id\":\"2248\",\"type\":\"DataRange1d\"},\"y_scale\":{\"id\":\"2252\",\"type\":\"LinearScale\"}},\"id\":\"2244\",\"subtype\":\"Figure\",\"type\":\"Plot\"},{\"attributes\":{\"fill_alpha\":{\"value\":0.1},\"fill_color\":{\"value\":\"#1f77b4\"},\"line_alpha\":{\"value\":0.1},\"line_color\":{\"value\":\"#1f77b4\"},\"x\":{\"field\":\"x\"},\"y\":{\"field\":\"y\"}},\"id\":\"2282\",\"type\":\"Circle\"},{\"attributes\":{\"data_source\":{\"id\":\"2279\",\"type\":\"ColumnDataSource\"},\"glyph\":{\"id\":\"2281\",\"type\":\"Circle\"},\"hover_glyph\":null,\"muted_glyph\":null,\"nonselection_glyph\":{\"id\":\"2282\",\"type\":\"Circle\"},\"selection_glyph\":null,\"view\":{\"id\":\"2284\",\"type\":\"CDSView\"}},\"id\":\"2283\",\"type\":\"GlyphRenderer\"},{\"attributes\":{},\"id\":\"2268\",\"type\":\"ResetTool\"},{\"attributes\":{},\"id\":\"2260\",\"type\":\"BasicTicker\"},{\"attributes\":{\"callback\":null,\"data\":{\"index\":[0,1,2,3,4,5,6,7,8,9,10,11,12,13,14,15,16,17,18,19,20,21,22,23,24,25,26,27,28,29,30,31,32,33,34,35,36,37,38,39,40,41,42,43,44,45,46,47,48,49,50,51,52,53,54,55,56,57,58,59,60,61,62,63,64,65,66,67,68,69,70,71,72,73,74,75,76,77,78,79,80,81,82,83,84,85,86,87,88,89,90,91,92,93,94,95,96,97,98,99,100,101,102,103],\"x\":{\"__ndarray__\":\"5A8GnnsP5r+UE+0qpPzevzo7GRwlr9K/RfXWwFYJ0r8hzVg0nZ3Mv4leRrHc0sq//mX35GGhyr+8y0V8J2bFv0yOO6WD9b+//kY7bvjdsL8C85ApH4Kqv7fxJyob1qy/u/HuyFhtpr8CKEaWzLGkvwyQaAJFLKK/EIwoklRLfz8gm+RH/IqlP0BMwoU8grM/2WDhJM0ftz/Bbti2KLPBP1+YTBWMSsI/8PlhhPBowz9jC0EOSpjFP52dDI6SV8s/VOOlm8QgzD+p3hrYKsHQP8SUSKKXUdI/R4/f2/Rn1T+Vn1T7dDzWP4M0Y9F0dtY/Bg39E1ys1j9PBkfJq3PaP+scA7LXu9s/f/s6cM6I3D87AU2EDU/dPwH20akrn90/lnhA2ZQr3j9EhlW8kXneP7EWnwJgPOA/c6JdhZSf4D+NnIU97fDgPwHeAgmKH+E/uXAgJAuY4T8HmWTkLOzhP7ZKsDic+eE/xm00gLdA4z8LDFnd6jnjP96rVib8UuM/davnpPeN4z8AUps4ud/jP8UgsHJokeQ/z04GR8mr5D+Y3ZOHhVrmP9cXCW05l+Y/Jo3ROqqa5j/VyoRf6ufmPwXFjzF3Lec/6Q5iZwqd5z8B9tGpK5/nPzJyFva0w+c/5xiQvd795z+2+BQA4xnoP9yAzw8jhOg/Z/LNNjem6T/zk2qfjsfpPxMn9zsUBeo/26LMBplk6z9u3c1THXLrPyyazk4GR+w/YU87/DVZ7T/hKHl1jgHuP4L/rWTHRu4/3IDPDyOE7j/DKt7IPPLuP7h1N091yO8/+aBns+pz8D8VHcnlP6TwP4xK6gQ0EfE/g1FJnYAm8T+R7Xw/NV7xP3xhMlUwKvI/X5hMFYxK8j8y5q4l5IPyP7bz/dR46fI/5j+k374O8z/qBDQRNjzzP8gHPZtVn/M/E/JBz2bV8z9fB84ZUdrzP0p7gy9MpvQ/s+pztRX79D9qvHSTGAT1P2HD0ytlGfU/PSzUmuYd9T/ecYqO5PL1P8UgsHJokfY//fZ14JwR9z+aCBueXin3P8l2vp8aL/c/yXa+nxov+D9U46WbxCD5P8gHPZtVn/k/O3DOiNLe+T+28/3UeOkBQA==\",\"dtype\":\"float64\",\"shape\":[104]},\"y\":{\"__ndarray__\":\"cT0K16NgYkCuR+F6FK5iQIXrUbgevWJAPQrXo3CtYkBmZmZmZt5iQJqZmZmZ2WJAKVyPwvWYYkCF61G4HsViQLgehetRwGJAmpmZmZl5YkDsUbgehXNiQD0K16Nw5WJAhetRuB6NYkBI4XoUrk9jQK5H4XoUvmJAMzMzMzMbY0AfhetRuP5iQB+F61G41mJA16NwPQrfYkBcj8L1KAxjQKRwPQrXy2JApHA9CtfjYkD2KFyPwp1iQPYoXI/CzWJAMzMzMzPrYkCamZmZmeliQEjhehSu72JAZmZmZmb+YkA9CtejcPViQM3MzMzMLGNApHA9CtezYkCkcD0K14NiQHsUrkfh+mJA16NwPQrXYkBI4XoUrs9iQHsUrkfhOmNAj8L1KFzPYkAfhetRuM5iQNejcD0K12JAZmZmZmb+YkCkcD0K1+NiQFK4HoXrCWNAUrgehevxYkAUrkfherxiQNejcD0KV2NAXI/C9Sh0YkAK16NwPcJiQB+F61G47mJAuB6F61H4YkBxPQrXo8BiQKRwPQrXA2NAzczMzMz8YkAUrkfhesxiQMP1KFyP2mJAPQrXo3D1YkB7FK5H4QJjQLgehetRyGJAMzMzMzMLY0B7FK5H4VJjQOxRuB6F22JArkfhehSuYkBcj8L1KPRiQD0K16NwNWNAuB6F61EAY0CkcD0K1wtjQD0K16NwvWJAexSuR+E6Y0CuR+F6FA5jQPYoXI/CnWJAhetRuB4dY0DNzMzMzDxjQArXo3A9OmNAhetRuB4NY0C4HoXrUSBjQKRwPQrXO2NAcT0K16MQY0CkcD0K1yNjQPYoXI/C9WJAUrgehesRY0CkcD0K1/tiQGZmZmZmbmNAFK5H4XqsYkAfhetRuO5iQI/C9ShcH2NASOF6FK4vY0AK16NwPSJjQHE9CtejwGJAhetRuB4NY0CF61G4Hh1jQI/C9ShcP2NAzczMzMxEY0CF61G4HlVjQBSuR+F6VGNAcT0K16M4Y0CkcD0K12NjQM3MzMzMBGNAcT0K16P4YkDD9Shcj8piQPYoXI/CBWNAUrgehes5Y0C4HoXrURhjQArXo3A9EmNAXI/C9SgkY0CkcD0K10tjQA==\",\"dtype\":\"float64\",\"shape\":[104]}},\"selected\":{\"id\":\"2366\",\"type\":\"Selection\"},\"selection_policy\":{\"id\":\"2365\",\"type\":\"UnionRenderers\"}},\"id\":\"2279\",\"type\":\"ColumnDataSource\"},{\"attributes\":{\"fill_color\":{\"value\":\"#1f77b4\"},\"line_color\":{\"value\":\"#1f77b4\"},\"x\":{\"field\":\"x\"},\"y\":{\"field\":\"y\"}},\"id\":\"2281\",\"type\":\"Circle\"},{\"attributes\":{\"axis_label\":\"PGS000004\",\"formatter\":{\"id\":\"2360\",\"type\":\"BasicTickFormatter\"},\"ticker\":{\"id\":\"2255\",\"type\":\"BasicTicker\"}},\"id\":\"2254\",\"type\":\"LinearAxis\"},{\"attributes\":{},\"id\":\"2252\",\"type\":\"LinearScale\"},{\"attributes\":{\"dimension\":1,\"ticker\":{\"id\":\"2260\",\"type\":\"BasicTicker\"}},\"id\":\"2263\",\"type\":\"Grid\"},{\"attributes\":{},\"id\":\"2250\",\"type\":\"LinearScale\"},{\"attributes\":{},\"id\":\"2255\",\"type\":\"BasicTicker\"},{\"attributes\":{},\"id\":\"2264\",\"type\":\"PanTool\"},{\"attributes\":{\"callback\":null},\"id\":\"2246\",\"type\":\"DataRange1d\"},{\"attributes\":{\"bottom_units\":\"screen\",\"fill_alpha\":{\"value\":0.5},\"fill_color\":{\"value\":\"lightgrey\"},\"left_units\":\"screen\",\"level\":\"overlay\",\"line_alpha\":{\"value\":1.0},\"line_color\":{\"value\":\"black\"},\"line_dash\":[4,4],\"line_width\":{\"value\":2},\"render_mode\":\"css\",\"right_units\":\"screen\",\"top_units\":\"screen\"},\"id\":\"2364\",\"type\":\"BoxAnnotation\"},{\"attributes\":{},\"id\":\"2365\",\"type\":\"UnionRenderers\"},{\"attributes\":{\"overlay\":{\"id\":\"2364\",\"type\":\"BoxAnnotation\"}},\"id\":\"2266\",\"type\":\"BoxZoomTool\"},{\"attributes\":{},\"id\":\"2362\",\"type\":\"BasicTickFormatter\"},{\"attributes\":{\"active_drag\":\"auto\",\"active_inspect\":\"auto\",\"active_multi\":null,\"active_scroll\":\"auto\",\"active_tap\":\"auto\",\"tools\":[{\"id\":\"2264\",\"type\":\"PanTool\"},{\"id\":\"2265\",\"type\":\"WheelZoomTool\"},{\"id\":\"2266\",\"type\":\"BoxZoomTool\"},{\"id\":\"2267\",\"type\":\"SaveTool\"},{\"id\":\"2268\",\"type\":\"ResetTool\"},{\"id\":\"2269\",\"type\":\"HelpTool\"},{\"id\":\"2278\",\"type\":\"HoverTool\"}]},\"id\":\"2270\",\"type\":\"Toolbar\"},{\"attributes\":{\"ticker\":{\"id\":\"2255\",\"type\":\"BasicTicker\"}},\"id\":\"2258\",\"type\":\"Grid\"},{\"attributes\":{},\"id\":\"2269\",\"type\":\"HelpTool\"},{\"attributes\":{\"axis_label\":\"PGS000015\",\"formatter\":{\"id\":\"2362\",\"type\":\"BasicTickFormatter\"},\"ticker\":{\"id\":\"2260\",\"type\":\"BasicTicker\"}},\"id\":\"2259\",\"type\":\"LinearAxis\"},{\"attributes\":{},\"id\":\"2366\",\"type\":\"Selection\"},{\"attributes\":{},\"id\":\"2267\",\"type\":\"SaveTool\"},{\"attributes\":{\"callback\":null},\"id\":\"2248\",\"type\":\"DataRange1d\"},{\"attributes\":{},\"id\":\"2265\",\"type\":\"WheelZoomTool\"},{\"attributes\":{\"callback\":null,\"tooltips\":[[\"x\",\"@x\"],[\"y\",\"@y\"]]},\"id\":\"2278\",\"type\":\"HoverTool\"},{\"attributes\":{\"source\":{\"id\":\"2279\",\"type\":\"ColumnDataSource\"}},\"id\":\"2284\",\"type\":\"CDSView\"},{\"attributes\":{},\"id\":\"2360\",\"type\":\"BasicTickFormatter\"}],\"root_ids\":[\"2244\"]},\"title\":\"Bokeh Application\",\"version\":\"1.4.0\"}};\n",
       "  var render_items = [{\"docid\":\"06776623-fe2b-4134-961f-48ffae3379e0\",\"roots\":{\"2244\":\"4081e5c1-d8db-476f-9fe4-aa51af7b7c49\"}}];\n",
       "  root.Bokeh.embed.embed_items_notebook(docs_json, render_items);\n",
       "\n",
       "  }\n",
       "  if (root.Bokeh !== undefined) {\n",
       "    embed_document(root);\n",
       "  } else {\n",
       "    var attempts = 0;\n",
       "    var timer = setInterval(function(root) {\n",
       "      if (root.Bokeh !== undefined) {\n",
       "        clearInterval(timer);\n",
       "        embed_document(root);\n",
       "      } else {\n",
       "        attempts++;\n",
       "        if (attempts > 100) {\n",
       "          clearInterval(timer);\n",
       "          console.log(\"Bokeh: ERROR: Unable to run BokehJS code because BokehJS library is missing\");\n",
       "        }\n",
       "      }\n",
       "    }, 10, root)\n",
       "  }\n",
       "})(window);"
      ],
      "application/vnd.bokehjs_exec.v0+json": ""
     },
     "metadata": {
      "application/vnd.bokehjs_exec.v0+json": {
       "id": "2244"
      }
     },
     "output_type": "display_data"
    }
   ],
   "source": [
    "p = hl.plot.scatter(prs_merge.PGS000004, prs_merge.PGS000015, xlabel=\"PGS000004\", ylabel=\"PGS000015\")\n",
    "show(p)"
   ]
  },
  {
   "cell_type": "markdown",
   "id": "b4b9f494",
   "metadata": {},
   "source": [
    "<img src=\"plots/real-data-plot-04.png\" width=50% >"
   ]
  },
  {
   "cell_type": "markdown",
   "id": "fabcff23",
   "metadata": {},
   "source": [
    "このプロットから、`PGS000004` を用いて計算される PRS スコア値 (X軸) と、`PGS000015` を用いて計算される PRS スコア値 (Y軸) は、ある程度相関していることが分かります。"
   ]
  },
  {
   "cell_type": "markdown",
   "id": "a7ba6c1f",
   "metadata": {},
   "source": [
    "下記のコードは、`PGS000004` と `PGS000332` のスコア値をプロットします。"
   ]
  },
  {
   "cell_type": "code",
   "execution_count": 113,
   "id": "e27d13c5",
   "metadata": {},
   "outputs": [
    {
     "name": "stderr",
     "output_type": "stream",
     "text": [
      "2021-06-12 15:23:55 Hail: INFO: Coerced sorted dataset\n",
      "2021-06-12 15:23:55 Hail: INFO: Coerced sorted dataset\n"
     ]
    },
    {
     "data": {
      "text/html": [
       "\n",
       "\n",
       "\n",
       "\n",
       "\n",
       "\n",
       "  <div class=\"bk-root\" id=\"104005bd-b0d3-47f8-ac4d-4b7cee3123b8\" data-root-id=\"2415\"></div>\n"
      ]
     },
     "metadata": {},
     "output_type": "display_data"
    },
    {
     "data": {
      "application/javascript": [
       "(function(root) {\n",
       "  function embed_document(root) {\n",
       "    \n",
       "  var docs_json = {\"d6b68410-abf8-4158-87f6-42c44e46663c\":{\"roots\":{\"references\":[{\"attributes\":{\"below\":[{\"id\":\"2425\",\"type\":\"LinearAxis\"}],\"center\":[{\"id\":\"2429\",\"type\":\"Grid\"},{\"id\":\"2434\",\"type\":\"Grid\"}],\"left\":[{\"id\":\"2430\",\"type\":\"LinearAxis\"}],\"plot_height\":800,\"plot_width\":800,\"renderers\":[{\"id\":\"2454\",\"type\":\"GlyphRenderer\"}],\"title\":null,\"toolbar\":{\"id\":\"2441\",\"type\":\"Toolbar\"},\"x_range\":{\"id\":\"2417\",\"type\":\"DataRange1d\"},\"x_scale\":{\"id\":\"2421\",\"type\":\"LinearScale\"},\"y_range\":{\"id\":\"2419\",\"type\":\"DataRange1d\"},\"y_scale\":{\"id\":\"2423\",\"type\":\"LinearScale\"}},\"id\":\"2415\",\"subtype\":\"Figure\",\"type\":\"Plot\"},{\"attributes\":{\"callback\":null,\"tooltips\":[[\"x\",\"@x\"],[\"y\",\"@y\"]]},\"id\":\"2449\",\"type\":\"HoverTool\"},{\"attributes\":{},\"id\":\"2426\",\"type\":\"BasicTicker\"},{\"attributes\":{\"callback\":null},\"id\":\"2419\",\"type\":\"DataRange1d\"},{\"attributes\":{\"active_drag\":\"auto\",\"active_inspect\":\"auto\",\"active_multi\":null,\"active_scroll\":\"auto\",\"active_tap\":\"auto\",\"tools\":[{\"id\":\"2435\",\"type\":\"PanTool\"},{\"id\":\"2436\",\"type\":\"WheelZoomTool\"},{\"id\":\"2437\",\"type\":\"BoxZoomTool\"},{\"id\":\"2438\",\"type\":\"SaveTool\"},{\"id\":\"2439\",\"type\":\"ResetTool\"},{\"id\":\"2440\",\"type\":\"HelpTool\"},{\"id\":\"2449\",\"type\":\"HoverTool\"}]},\"id\":\"2441\",\"type\":\"Toolbar\"},{\"attributes\":{},\"id\":\"2539\",\"type\":\"BasicTickFormatter\"},{\"attributes\":{},\"id\":\"2421\",\"type\":\"LinearScale\"},{\"attributes\":{\"bottom_units\":\"screen\",\"fill_alpha\":{\"value\":0.5},\"fill_color\":{\"value\":\"lightgrey\"},\"left_units\":\"screen\",\"level\":\"overlay\",\"line_alpha\":{\"value\":1.0},\"line_color\":{\"value\":\"black\"},\"line_dash\":[4,4],\"line_width\":{\"value\":2},\"render_mode\":\"css\",\"right_units\":\"screen\",\"top_units\":\"screen\"},\"id\":\"2543\",\"type\":\"BoxAnnotation\"},{\"attributes\":{\"ticker\":{\"id\":\"2426\",\"type\":\"BasicTicker\"}},\"id\":\"2429\",\"type\":\"Grid\"},{\"attributes\":{},\"id\":\"2545\",\"type\":\"Selection\"},{\"attributes\":{\"axis_label\":\"PGS000332\",\"formatter\":{\"id\":\"2541\",\"type\":\"BasicTickFormatter\"},\"ticker\":{\"id\":\"2431\",\"type\":\"BasicTicker\"}},\"id\":\"2430\",\"type\":\"LinearAxis\"},{\"attributes\":{\"source\":{\"id\":\"2450\",\"type\":\"ColumnDataSource\"}},\"id\":\"2455\",\"type\":\"CDSView\"},{\"attributes\":{\"fill_color\":{\"value\":\"#1f77b4\"},\"line_color\":{\"value\":\"#1f77b4\"},\"x\":{\"field\":\"x\"},\"y\":{\"field\":\"y\"}},\"id\":\"2452\",\"type\":\"Circle\"},{\"attributes\":{\"overlay\":{\"id\":\"2543\",\"type\":\"BoxAnnotation\"}},\"id\":\"2437\",\"type\":\"BoxZoomTool\"},{\"attributes\":{},\"id\":\"2431\",\"type\":\"BasicTicker\"},{\"attributes\":{\"axis_label\":\"PGS000004\",\"formatter\":{\"id\":\"2539\",\"type\":\"BasicTickFormatter\"},\"ticker\":{\"id\":\"2426\",\"type\":\"BasicTicker\"}},\"id\":\"2425\",\"type\":\"LinearAxis\"},{\"attributes\":{},\"id\":\"2439\",\"type\":\"ResetTool\"},{\"attributes\":{\"callback\":null,\"data\":{\"index\":[0,1,2,3,4,5,6,7,8,9,10,11,12,13,14,15,16,17,18,19,20,21,22,23,24,25,26,27,28,29,30,31,32,33,34,35,36,37,38,39,40,41,42,43,44,45,46,47,48,49,50,51,52,53,54,55,56,57,58,59,60,61,62,63,64,65,66,67,68,69,70,71,72,73,74,75,76,77,78,79,80,81,82,83,84,85,86,87,88,89,90,91,92,93,94,95,96,97,98,99,100,101,102,103],\"x\":{\"__ndarray__\":\"5A8GnnsP5r+UE+0qpPzevzo7GRwlr9K/RfXWwFYJ0r8hzVg0nZ3Mv4leRrHc0sq//mX35GGhyr+8y0V8J2bFv0yOO6WD9b+//kY7bvjdsL+38ScqG9asvwLzkCkfgqq/u/HuyFhtpr8CKEaWzLGkvwyQaAJFLKK/EIwoklRLfz8gm+RH/IqlP0BMwoU8grM/2WDhJM0ftz/Bbti2KLPBP1+YTBWMSsI/8PlhhPBowz9jC0EOSpjFP52dDI6SV8s/VOOlm8QgzD+p3hrYKsHQP8SUSKKXUdI/R4/f2/Rn1T+DNGPRdHbWP5WfVPt0PNY/Bg39E1ys1j9PBkfJq3PaP+scA7LXu9s/f/s6cM6I3D87AU2EDU/dPwH20akrn90/lnhA2ZQr3j9EhlW8kXneP7EWnwJgPOA/c6JdhZSf4D+NnIU97fDgPwHeAgmKH+E/uXAgJAuY4T8HmWTkLOzhP7ZKsDic+eE/3qtWJvxS4z/GbTSAt0DjPwsMWd3qOeM/davnpPeN4z8AUps4ud/jP8UgsHJokeQ/z04GR8mr5D+Y3ZOHhVrmP9cXCW05l+Y/Jo3ROqqa5j/VyoRf6ufmPwXFjzF3Lec/AfbRqSuf5z/pDmJnCp3nPzJyFva0w+c/5xiQvd795z+2+BQA4xnoP9yAzw8jhOg/Z/LNNjem6T/zk2qfjsfpPxMn9zsUBeo/26LMBplk6z9u3c1THXLrPyyazk4GR+w/YU87/DVZ7T/hKHl1jgHuP4L/rWTHRu4/3IDPDyOE7j/DKt7IPPLuP7h1N091yO8/+aBns+pz8D8VHcnlP6TwP4xK6gQ0EfE/g1FJnYAm8T+R7Xw/NV7xP3xhMlUwKvI/X5hMFYxK8j8y5q4l5IPyP7bz/dR46fI/5j+k374O8z/qBDQRNjzzP8gHPZtVn/M/XwfOGVHa8z8T8kHPZtXzP0p7gy9MpvQ/arx0kxgE9T+z6nO1Ffv0P2HD0ytlGfU/PSzUmuYd9T/ecYqO5PL1P8UgsHJokfY//fZ14JwR9z+aCBueXin3P8l2vp8aL/c/yXa+nxov+D9U46WbxCD5P8gHPZtVn/k/O3DOiNLe+T+28/3UeOkBQA==\",\"dtype\":\"float64\",\"shape\":[104]},\"y\":{\"__ndarray__\":\"VpqUgm4v4L+9++O9amW2v/fMkgA1tbw/G9gqweJwsr+g4GJFDabBv7mpgeZz7pY/3UHsTKHzir+jkc8rnnqkvwahvI+jOba/DtsWZTbIvL9NFYxK6gTEv/Dce7jkuJM/B9MwfERMzb+2EOSghJnKP2E3bFuU2cA/vJF55A8Gxj+7fsFu2LbEv2Q/i6VIvqK/dlQ1QdR9yL+xhovc09WNPzaTb7a5Mb0/A2A8g4b+uT/iOzHrxVC+v5Ykz/V9OLg/W3nJ/+Tvsj+sVib8Uj/Dvx7EzhQ6r7m/b7vQXKeR0L/YnlkSoKbCP0TdByC1icM/JQaBlUOLuL915bM8D+7Qv2ycqABziGO/qKlla32RxD/gSKDBps6jP2w+rg0V47w/PQytTs5QsD/Wc9L7xte+P+PHmLuWkNE/W5iFdk6zsL+L4H8r2bHJv4S7s3bbhdg/6gQ0ETY8wT+5izBFuTSmvzygbMoV3sE/2NR5VPzfqT/XTL7Z5sbSP46vPbMkQNM/Uiy3tBoS0z+ZR/5g4LnRv9Of/UgRGdw/tr+zPXrDsb+J0Ag2rn+3P/sFu2HbotI/qrcGtkqw1D8XRQ98DFacv1Q1QdR9AMo/y/j3GRcOxD9HdxA7U+jEP25pNSTusdg/7upVZHRAkr+R8pNqn47PPz4IAfkSKqg/eiLjrONTaz/dQexMofPKPyXpmsk326w/OdbFbTSAzz8QkgVM4NbhPywMkdPX84W/DkqYaftX0j+jBtMwfETUP0DZlCu8y80/oMTnTrD/ij8QzNHj9zbNP6T8pNqn49U/cw6eCU0Sq78/bypSYWzFP0HxY8xdS9g/QYLix5i71D+J6q2BrRLSP+3T8ZiByuA/64uEtpxLxb/GM2jon+DYP+J0kq0up5S/26LMBplk1D9nYU87/DXhP7lwICQLmNo/2UKQgxJmwj9Qqn06HjPEP346HjNQGdk/eHqlLEMc0z9RFOgTeZLgP8ISDyibcsk/Yi0+BcB4pj/eq1Ym/FLfP/ymsFJBRbU/Zmt9kdCW4T/Du1zEd2K+v557D5ccd9Q//Yf029eBzz+M8zehEAHdP11Q3zKny9Q/VIzzN6EQ5D+Lic3HtaHePw==\",\"dtype\":\"float64\",\"shape\":[104]}},\"selected\":{\"id\":\"2545\",\"type\":\"Selection\"},\"selection_policy\":{\"id\":\"2544\",\"type\":\"UnionRenderers\"}},\"id\":\"2450\",\"type\":\"ColumnDataSource\"},{\"attributes\":{},\"id\":\"2440\",\"type\":\"HelpTool\"},{\"attributes\":{},\"id\":\"2438\",\"type\":\"SaveTool\"},{\"attributes\":{},\"id\":\"2423\",\"type\":\"LinearScale\"},{\"attributes\":{},\"id\":\"2541\",\"type\":\"BasicTickFormatter\"},{\"attributes\":{\"callback\":null},\"id\":\"2417\",\"type\":\"DataRange1d\"},{\"attributes\":{},\"id\":\"2544\",\"type\":\"UnionRenderers\"},{\"attributes\":{\"data_source\":{\"id\":\"2450\",\"type\":\"ColumnDataSource\"},\"glyph\":{\"id\":\"2452\",\"type\":\"Circle\"},\"hover_glyph\":null,\"muted_glyph\":null,\"nonselection_glyph\":{\"id\":\"2453\",\"type\":\"Circle\"},\"selection_glyph\":null,\"view\":{\"id\":\"2455\",\"type\":\"CDSView\"}},\"id\":\"2454\",\"type\":\"GlyphRenderer\"},{\"attributes\":{},\"id\":\"2435\",\"type\":\"PanTool\"},{\"attributes\":{\"fill_alpha\":{\"value\":0.1},\"fill_color\":{\"value\":\"#1f77b4\"},\"line_alpha\":{\"value\":0.1},\"line_color\":{\"value\":\"#1f77b4\"},\"x\":{\"field\":\"x\"},\"y\":{\"field\":\"y\"}},\"id\":\"2453\",\"type\":\"Circle\"},{\"attributes\":{\"dimension\":1,\"ticker\":{\"id\":\"2431\",\"type\":\"BasicTicker\"}},\"id\":\"2434\",\"type\":\"Grid\"},{\"attributes\":{},\"id\":\"2436\",\"type\":\"WheelZoomTool\"}],\"root_ids\":[\"2415\"]},\"title\":\"Bokeh Application\",\"version\":\"1.4.0\"}};\n",
       "  var render_items = [{\"docid\":\"d6b68410-abf8-4158-87f6-42c44e46663c\",\"roots\":{\"2415\":\"104005bd-b0d3-47f8-ac4d-4b7cee3123b8\"}}];\n",
       "  root.Bokeh.embed.embed_items_notebook(docs_json, render_items);\n",
       "\n",
       "  }\n",
       "  if (root.Bokeh !== undefined) {\n",
       "    embed_document(root);\n",
       "  } else {\n",
       "    var attempts = 0;\n",
       "    var timer = setInterval(function(root) {\n",
       "      if (root.Bokeh !== undefined) {\n",
       "        clearInterval(timer);\n",
       "        embed_document(root);\n",
       "      } else {\n",
       "        attempts++;\n",
       "        if (attempts > 100) {\n",
       "          clearInterval(timer);\n",
       "          console.log(\"Bokeh: ERROR: Unable to run BokehJS code because BokehJS library is missing\");\n",
       "        }\n",
       "      }\n",
       "    }, 10, root)\n",
       "  }\n",
       "})(window);"
      ],
      "application/vnd.bokehjs_exec.v0+json": ""
     },
     "metadata": {
      "application/vnd.bokehjs_exec.v0+json": {
       "id": "2415"
      }
     },
     "output_type": "display_data"
    }
   ],
   "source": [
    "p = hl.plot.scatter(prs_merge.PGS000004, prs_merge.PGS000332, xlabel=\"PGS000004\", ylabel=\"PGS000332\")\n",
    "show(p)"
   ]
  },
  {
   "cell_type": "markdown",
   "id": "9d87c087",
   "metadata": {},
   "source": [
    "<img src=\"plots/real-data-plot-05.png\" width=50% >"
   ]
  },
  {
   "cell_type": "markdown",
   "id": "cf2b44b4",
   "metadata": {},
   "source": [
    "このプロットから、`PGS000004` を用いて計算される PRS スコア値 (X軸) と、`PGS000332` を用いて計算される PRS スコア値 (Y軸) は、ある程度相関していることが分かります。"
   ]
  },
  {
   "cell_type": "markdown",
   "id": "f6ddc32e",
   "metadata": {},
   "source": [
    "下記のコードは、`PGS000015` と `PGS000332` のスコア値をプロットします。"
   ]
  },
  {
   "cell_type": "code",
   "execution_count": 114,
   "id": "02a07555",
   "metadata": {},
   "outputs": [
    {
     "name": "stderr",
     "output_type": "stream",
     "text": [
      "2021-06-12 15:27:07 Hail: INFO: Coerced sorted dataset\n",
      "2021-06-12 15:27:07 Hail: INFO: Coerced sorted dataset\n",
      "2021-06-12 15:27:07 Hail: INFO: Coerced sorted dataset\n"
     ]
    },
    {
     "data": {
      "text/html": [
       "\n",
       "\n",
       "\n",
       "\n",
       "\n",
       "\n",
       "  <div class=\"bk-root\" id=\"41d4764f-57a1-4404-bac9-cb1b2b34b081\" data-root-id=\"2594\"></div>\n"
      ]
     },
     "metadata": {},
     "output_type": "display_data"
    },
    {
     "data": {
      "application/javascript": [
       "(function(root) {\n",
       "  function embed_document(root) {\n",
       "    \n",
       "  var docs_json = {\"e32a31c7-e180-489b-aa54-4c70394c1ee9\":{\"roots\":{\"references\":[{\"attributes\":{\"below\":[{\"id\":\"2604\",\"type\":\"LinearAxis\"}],\"center\":[{\"id\":\"2608\",\"type\":\"Grid\"},{\"id\":\"2613\",\"type\":\"Grid\"}],\"left\":[{\"id\":\"2609\",\"type\":\"LinearAxis\"}],\"plot_height\":800,\"plot_width\":800,\"renderers\":[{\"id\":\"2633\",\"type\":\"GlyphRenderer\"}],\"title\":null,\"toolbar\":{\"id\":\"2620\",\"type\":\"Toolbar\"},\"x_range\":{\"id\":\"2596\",\"type\":\"DataRange1d\"},\"x_scale\":{\"id\":\"2600\",\"type\":\"LinearScale\"},\"y_range\":{\"id\":\"2598\",\"type\":\"DataRange1d\"},\"y_scale\":{\"id\":\"2602\",\"type\":\"LinearScale\"}},\"id\":\"2594\",\"subtype\":\"Figure\",\"type\":\"Plot\"},{\"attributes\":{},\"id\":\"2615\",\"type\":\"WheelZoomTool\"},{\"attributes\":{},\"id\":\"2619\",\"type\":\"HelpTool\"},{\"attributes\":{\"source\":{\"id\":\"2629\",\"type\":\"ColumnDataSource\"}},\"id\":\"2634\",\"type\":\"CDSView\"},{\"attributes\":{},\"id\":\"2618\",\"type\":\"ResetTool\"},{\"attributes\":{\"fill_alpha\":{\"value\":0.1},\"fill_color\":{\"value\":\"#1f77b4\"},\"line_alpha\":{\"value\":0.1},\"line_color\":{\"value\":\"#1f77b4\"},\"x\":{\"field\":\"x\"},\"y\":{\"field\":\"y\"}},\"id\":\"2632\",\"type\":\"Circle\"},{\"attributes\":{\"fill_color\":{\"value\":\"#1f77b4\"},\"line_color\":{\"value\":\"#1f77b4\"},\"x\":{\"field\":\"x\"},\"y\":{\"field\":\"y\"}},\"id\":\"2631\",\"type\":\"Circle\"},{\"attributes\":{\"overlay\":{\"id\":\"2730\",\"type\":\"BoxAnnotation\"}},\"id\":\"2616\",\"type\":\"BoxZoomTool\"},{\"attributes\":{\"bottom_units\":\"screen\",\"fill_alpha\":{\"value\":0.5},\"fill_color\":{\"value\":\"lightgrey\"},\"left_units\":\"screen\",\"level\":\"overlay\",\"line_alpha\":{\"value\":1.0},\"line_color\":{\"value\":\"black\"},\"line_dash\":[4,4],\"line_width\":{\"value\":2},\"render_mode\":\"css\",\"right_units\":\"screen\",\"top_units\":\"screen\"},\"id\":\"2730\",\"type\":\"BoxAnnotation\"},{\"attributes\":{},\"id\":\"2617\",\"type\":\"SaveTool\"},{\"attributes\":{\"axis_label\":\"PGS000332\",\"formatter\":{\"id\":\"2728\",\"type\":\"BasicTickFormatter\"},\"ticker\":{\"id\":\"2610\",\"type\":\"BasicTicker\"}},\"id\":\"2609\",\"type\":\"LinearAxis\"},{\"attributes\":{\"callback\":null},\"id\":\"2596\",\"type\":\"DataRange1d\"},{\"attributes\":{},\"id\":\"2726\",\"type\":\"BasicTickFormatter\"},{\"attributes\":{},\"id\":\"2610\",\"type\":\"BasicTicker\"},{\"attributes\":{},\"id\":\"2728\",\"type\":\"BasicTickFormatter\"},{\"attributes\":{\"axis_label\":\"PGS000015\",\"formatter\":{\"id\":\"2726\",\"type\":\"BasicTickFormatter\"},\"ticker\":{\"id\":\"2605\",\"type\":\"BasicTicker\"}},\"id\":\"2604\",\"type\":\"LinearAxis\"},{\"attributes\":{\"dimension\":1,\"ticker\":{\"id\":\"2610\",\"type\":\"BasicTicker\"}},\"id\":\"2613\",\"type\":\"Grid\"},{\"attributes\":{\"callback\":null},\"id\":\"2598\",\"type\":\"DataRange1d\"},{\"attributes\":{\"ticker\":{\"id\":\"2605\",\"type\":\"BasicTicker\"}},\"id\":\"2608\",\"type\":\"Grid\"},{\"attributes\":{},\"id\":\"2602\",\"type\":\"LinearScale\"},{\"attributes\":{},\"id\":\"2605\",\"type\":\"BasicTicker\"},{\"attributes\":{\"active_drag\":\"auto\",\"active_inspect\":\"auto\",\"active_multi\":null,\"active_scroll\":\"auto\",\"active_tap\":\"auto\",\"tools\":[{\"id\":\"2614\",\"type\":\"PanTool\"},{\"id\":\"2615\",\"type\":\"WheelZoomTool\"},{\"id\":\"2616\",\"type\":\"BoxZoomTool\"},{\"id\":\"2617\",\"type\":\"SaveTool\"},{\"id\":\"2618\",\"type\":\"ResetTool\"},{\"id\":\"2619\",\"type\":\"HelpTool\"},{\"id\":\"2628\",\"type\":\"HoverTool\"}]},\"id\":\"2620\",\"type\":\"Toolbar\"},{\"attributes\":{},\"id\":\"2614\",\"type\":\"PanTool\"},{\"attributes\":{},\"id\":\"2731\",\"type\":\"UnionRenderers\"},{\"attributes\":{\"callback\":null,\"data\":{\"index\":[0,1,2,3,4,5,6,7,8,9,10,11,12,13,14,15,16,17,18,19,20,21,22,23,24,25,26,27,28,29,30,31,32,33,34,35,36,37,38,39,40,41,42,43,44,45,46,47,48,49,50,51,52,53,54,55,56,57,58,59,60,61,62,63,64,65,66,67,68,69,70,71,72,73,74,75,76,77,78,79,80,81,82,83,84,85,86,87,88,89,90,91,92,93,94,95,96,97,98,99,100],\"x\":{\"__ndarray__\":\"cT0K16NgYkDsUbgehXNiQFyPwvUodGJAmpmZmZl5YkCkcD0K14NiQIXrUbgejWJAKVyPwvWYYkD2KFyPwp1iQPYoXI/CnWJAFK5H4XqsYkCuR+F6FK5iQD0K16NwrWJArkfhehSuYkCkcD0K17NiQHE9CtejwGJAuB6F61HAYkAUrkfherxiQIXrUbgexWJAPQrXo3C9YkCF61G4Hr1iQK5H4XoUvmJACtejcD3CYkBxPQrXo8BiQMP1KFyPymJAFK5H4XrMYkD2KFyPws1iQKRwPQrXy2JAH4XrUbjOYkC4HoXrUchiQB+F61G41mJASOF6FK7PYkCPwvUoXM9iQNejcD0K12JA16NwPQrXYkDXo3A9Ct9iQGZmZmZm3mJAmpmZmZnZYkDD9Shcj9piQOxRuB6F22JApHA9CtfjYkA9CtejcOViQJqZmZmZ6WJAMzMzMzPrYkCkcD0K1+NiQEjhehSu72JAH4XrUbjuYkBSuB6F6/FiQD0K16Nw9WJAXI/C9Sj0YkA9CtejcPViQPYoXI/C9WJAH4XrUbjuYkBmZmZmZv5iQB+F61G4/mJAzczMzMz8YkBmZmZmZv5iQHsUrkfh+mJAuB6F61EAY0CkcD0K1/tiQLgehetR+GJAcT0K16P4YkB7FK5H4QJjQM3MzMzMBGNA9ihcj8IFY0BSuB6F6wljQKRwPQrXA2NAcT0K16MQY0Bcj8L1KAxjQIXrUbgeDWNAMzMzMzMLY0CkcD0K1wtjQArXo3A9EmNArkfhehQOY0CF61G4Hh1jQDMzMzMzG2NAhetRuB4dY0C4HoXrURhjQI/C9ShcH2NApHA9CtcjY0C4HoXrUSBjQArXo3A9ImNAXI/C9SgkY0DNzMzMzCxjQEjhehSuL2NAcT0K16M4Y0A9CtejcDVjQHsUrkfhOmNACtejcD06Y0BSuB6F6zljQKRwPQrXO2NAzczMzMw8Y0CPwvUoXD9jQM3MzMzMRGNASOF6FK5PY0CkcD0K10tjQNejcD0KV2NAexSuR+FSY0AUrkfhelRjQIXrUbgeVWNApHA9CtdjY0BmZmZmZm5jQA==\",\"dtype\":\"float64\",\"shape\":[101]},\"y\":{\"__ndarray__\":\"VpqUgm4v4L/w3Hu45LiTP9dMvtnmxtI/DtsWZTbIvL915bM8D+7QvwfTMHxETM2/3UHsTKHzir/iOzHrxVC+vywMkdPX84W/64uEtpxLxb+9++O9amW2vxvYKsHicLK/7upVZHRAkr8lBoGVQ4u4v5lH/mDgudG/BqG8j6M5tr+5izBFuTSmv6ORzyueeqS/JemayTfbrD/3zJIANbW8P2E3bFuU2cA/jq89syRA0z+5cCAkC5jaP8O7XMR3Yr6/idAINq5/tz+WJM/1fTi4PzaTb7a5Mb0/1nPS+8bXvj9UNUHUfQDKP2Q/i6VIvqK/4EigwabOoz89DK1OzlCwP6ipZWt9kcQ/48eYu5aQ0T92VDVB1H3Iv6DgYkUNpsG/uamB5nPulj/7Bbth26LSP25pNSTusdg/i+B/K9mxyb9NFYxK6gTEv6xWJvxSP8O/W3nJ/+Tvsj8DYDyDhv65Px7EzhQ6r7m/2NR5VPzfqT/qBDQRNjzBP0TdByC1icM/kfKTap+Ozz+qtwa2SrDUP0HxY8xdS9g/xjNo6J/g2D9vu9Bcp5HQv7t+wW7YtsS/tr+zPXrDsb9bmIV2TrOwv2ycqABziGO/eiLjrONTaz+J6q2BrRLSP1Ist7QaEtM/Zmt9kdCW4T8XRQ98DFacv/ymsFJBRbU/nnsPlxx31D+Eu7N224XYP9Of/UgRGdw/cw6eCU0Sq7+xhovc09WNP1CqfToeM8Q/R3cQO1PoxD/dQexMofPKP11Q3zKny9Q/EJIFTODW4T/ZQpCDEmbCP7yReeQPBsY/DkqYaftX0j+M8zehEAHdP+J0kq0up5S/P28qUmFsxT8QzNHj9zbNP2dhTzv8NeE/VIzzN6EQ5D/YnlkSoKbCP9uizAaZZNQ/Yi0+BcB4pj8+CAH5EiqoP2w+rg0V47w/QNmUK7zLzT/9h/Tb14HPP6T8pNqn49U/owbTMHxE1D9+Oh4zUBnZP1EU6BN5kuA/thDkoISZyj+Lic3HtaHePzygbMoV3sE/y/j3GRcOxD/CEg8om3LJP3h6pSxDHNM/3qtWJvxS3z/t0/GYgcrgPw==\",\"dtype\":\"float64\",\"shape\":[101]}},\"selected\":{\"id\":\"2732\",\"type\":\"Selection\"},\"selection_policy\":{\"id\":\"2731\",\"type\":\"UnionRenderers\"}},\"id\":\"2629\",\"type\":\"ColumnDataSource\"},{\"attributes\":{},\"id\":\"2732\",\"type\":\"Selection\"},{\"attributes\":{},\"id\":\"2600\",\"type\":\"LinearScale\"},{\"attributes\":{\"data_source\":{\"id\":\"2629\",\"type\":\"ColumnDataSource\"},\"glyph\":{\"id\":\"2631\",\"type\":\"Circle\"},\"hover_glyph\":null,\"muted_glyph\":null,\"nonselection_glyph\":{\"id\":\"2632\",\"type\":\"Circle\"},\"selection_glyph\":null,\"view\":{\"id\":\"2634\",\"type\":\"CDSView\"}},\"id\":\"2633\",\"type\":\"GlyphRenderer\"},{\"attributes\":{\"callback\":null,\"tooltips\":[[\"x\",\"@x\"],[\"y\",\"@y\"]]},\"id\":\"2628\",\"type\":\"HoverTool\"}],\"root_ids\":[\"2594\"]},\"title\":\"Bokeh Application\",\"version\":\"1.4.0\"}};\n",
       "  var render_items = [{\"docid\":\"e32a31c7-e180-489b-aa54-4c70394c1ee9\",\"roots\":{\"2594\":\"41d4764f-57a1-4404-bac9-cb1b2b34b081\"}}];\n",
       "  root.Bokeh.embed.embed_items_notebook(docs_json, render_items);\n",
       "\n",
       "  }\n",
       "  if (root.Bokeh !== undefined) {\n",
       "    embed_document(root);\n",
       "  } else {\n",
       "    var attempts = 0;\n",
       "    var timer = setInterval(function(root) {\n",
       "      if (root.Bokeh !== undefined) {\n",
       "        clearInterval(timer);\n",
       "        embed_document(root);\n",
       "      } else {\n",
       "        attempts++;\n",
       "        if (attempts > 100) {\n",
       "          clearInterval(timer);\n",
       "          console.log(\"Bokeh: ERROR: Unable to run BokehJS code because BokehJS library is missing\");\n",
       "        }\n",
       "      }\n",
       "    }, 10, root)\n",
       "  }\n",
       "})(window);"
      ],
      "application/vnd.bokehjs_exec.v0+json": ""
     },
     "metadata": {
      "application/vnd.bokehjs_exec.v0+json": {
       "id": "2594"
      }
     },
     "output_type": "display_data"
    }
   ],
   "source": [
    "p = hl.plot.scatter(prs_merge.PGS000015, prs_merge.PGS000332, xlabel=\"PGS000015\", ylabel=\"PGS000332\")\n",
    "show(p)"
   ]
  },
  {
   "cell_type": "markdown",
   "id": "e79e4cd1",
   "metadata": {},
   "source": [
    "<img src=\"plots/real-data-plot-06.png\" width=50% >"
   ]
  },
  {
   "cell_type": "markdown",
   "id": "34c779bd",
   "metadata": {},
   "source": [
    "このプロットから、`PGS000015` を用いて計算される PRS スコア値 (X軸) と、`PGS000332` を用いて計算される PRS スコア値 (Y軸) は、ある程度相関していることが分かります。"
   ]
  },
  {
   "cell_type": "markdown",
   "id": "bbfbfd46",
   "metadata": {},
   "source": [
    "下記のコードは、PRS スコア値を相関係数を計算します。"
   ]
  },
  {
   "cell_type": "markdown",
   "id": "9ec0b278",
   "metadata": {},
   "source": [
    "`to_pandas()`関数を用いることで、`hail`特有のデータタイプから、`python` でよく使われる `pandas` ライブラリのデータフレームへと変換することができます。\n",
    "そうすることで、`hail`の関数だけでなく、`python` の様々な機能を使って分析することが可能になります。"
   ]
  },
  {
   "cell_type": "code",
   "execution_count": 109,
   "id": "1fdc5b0e",
   "metadata": {},
   "outputs": [
    {
     "name": "stderr",
     "output_type": "stream",
     "text": [
      "2021-06-12 15:18:02 Hail: INFO: Coerced sorted dataset\n",
      "2021-06-12 15:18:02 Hail: INFO: Coerced sorted dataset\n",
      "2021-06-12 15:18:02 Hail: INFO: Coerced sorted dataset\n"
     ]
    }
   ],
   "source": [
    "prs_merge_pandas = prs_merge.to_pandas()"
   ]
  },
  {
   "cell_type": "code",
   "execution_count": 112,
   "id": "2eaae41d",
   "metadata": {},
   "outputs": [
    {
     "name": "stdout",
     "output_type": "stream",
     "text": [
      "           PGS000004  PGS000015  PGS000332\n",
      "PGS000004   1.000000   0.573695   0.620881\n",
      "PGS000015   0.573695   1.000000   0.548252\n",
      "PGS000332   0.620881   0.548252   1.000000\n"
     ]
    }
   ],
   "source": [
    "print(prs_merge_pandas.corr())"
   ]
  },
  {
   "cell_type": "markdown",
   "id": "e320adf0",
   "metadata": {},
   "source": [
    "この結果から、次のことが分かります。\n",
    "\n",
    "- `PGS000004`のスコア値と `PGS000015`のスコア値の相関係数　0.573695\n",
    "- `PGS000004`のスコア値と `PGS000332`のスコア値の相関係数　0.620881\n",
    "- `PGS000015`のスコア値と `PGS000332`のスコア値の相関係数　0.548252\n",
    "\n",
    "3種類の PRS モデルは、モデルに含まれるバリアントの個数は大きく異なりますが、計算される PRS スコア値はある程度相関していました。"
   ]
  },
  {
   "cell_type": "markdown",
   "id": "ee5d529c",
   "metadata": {},
   "source": [
    "### 以上でこのチュートリアルは終了です"
   ]
  }
 ],
 "metadata": {
  "kernelspec": {
   "display_name": "Python 3",
   "language": "python",
   "name": "python3"
  },
  "language_info": {
   "codemirror_mode": {
    "name": "ipython",
    "version": 3
   },
   "file_extension": ".py",
   "mimetype": "text/x-python",
   "name": "python",
   "nbconvert_exporter": "python",
   "pygments_lexer": "ipython3",
   "version": "3.7.10"
  }
 },
 "nbformat": 4,
 "nbformat_minor": 5
}
