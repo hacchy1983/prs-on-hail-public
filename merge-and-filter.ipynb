{
 "cells": [
  {
   "cell_type": "markdown",
   "id": "93976cfa",
   "metadata": {},
   "source": [
    "このノートブックでは、染色体ごとに保存されているゲノムデータ (`VCF`形式)をマージし、`matrix table` 形式で保存します。\n",
    "その後、`imputation quality` の低いバリアント (R2 < 0.3) を除外します。"
   ]
  },
  {
   "cell_type": "markdown",
   "id": "7e88f747",
   "metadata": {},
   "source": [
    "### Step 1 `hail` など、必要なモジュールを読み込みます"
   ]
  },
  {
   "cell_type": "markdown",
   "id": "62def098",
   "metadata": {},
   "source": [
    "下記のコードを実行してください。 ページ上側のメニューバーにある `実行` ボタンを押下することで、実行することができます。"
   ]
  },
  {
   "cell_type": "code",
   "execution_count": 1,
   "id": "76a65917",
   "metadata": {},
   "outputs": [
    {
     "name": "stderr",
     "output_type": "stream",
     "text": [
      "Running on Apache Spark version 3.1.1\n",
      "SparkUI available at http://192.168.179.3:4042\n",
      "Welcome to\n",
      "     __  __     <>__\n",
      "    / /_/ /__  __/ /\n",
      "   / __  / _ `/ / /\n",
      "  /_/ /_/\\_,_/_/_/   version 0.2.67-a673309b0445\n",
      "LOGGING: writing to /Users/hacchy/prs-on-hail/hail-20210529-2339-0.2.67-a673309b0445.log\n"
     ]
    },
    {
     "data": {
      "text/html": [
       "\n",
       "    <div class=\"bk-root\">\n",
       "        <a href=\"https://bokeh.org\" target=\"_blank\" class=\"bk-logo bk-logo-small bk-logo-notebook\"></a>\n",
       "        <span id=\"1001\">Loading BokehJS ...</span>\n",
       "    </div>"
      ]
     },
     "metadata": {},
     "output_type": "display_data"
    },
    {
     "data": {
      "application/javascript": [
       "\n",
       "(function(root) {\n",
       "  function now() {\n",
       "    return new Date();\n",
       "  }\n",
       "\n",
       "  var force = true;\n",
       "\n",
       "  if (typeof root._bokeh_onload_callbacks === \"undefined\" || force === true) {\n",
       "    root._bokeh_onload_callbacks = [];\n",
       "    root._bokeh_is_loading = undefined;\n",
       "  }\n",
       "\n",
       "  var JS_MIME_TYPE = 'application/javascript';\n",
       "  var HTML_MIME_TYPE = 'text/html';\n",
       "  var EXEC_MIME_TYPE = 'application/vnd.bokehjs_exec.v0+json';\n",
       "  var CLASS_NAME = 'output_bokeh rendered_html';\n",
       "\n",
       "  /**\n",
       "   * Render data to the DOM node\n",
       "   */\n",
       "  function render(props, node) {\n",
       "    var script = document.createElement(\"script\");\n",
       "    node.appendChild(script);\n",
       "  }\n",
       "\n",
       "  /**\n",
       "   * Handle when an output is cleared or removed\n",
       "   */\n",
       "  function handleClearOutput(event, handle) {\n",
       "    var cell = handle.cell;\n",
       "\n",
       "    var id = cell.output_area._bokeh_element_id;\n",
       "    var server_id = cell.output_area._bokeh_server_id;\n",
       "    // Clean up Bokeh references\n",
       "    if (id != null && id in Bokeh.index) {\n",
       "      Bokeh.index[id].model.document.clear();\n",
       "      delete Bokeh.index[id];\n",
       "    }\n",
       "\n",
       "    if (server_id !== undefined) {\n",
       "      // Clean up Bokeh references\n",
       "      var cmd = \"from bokeh.io.state import curstate; print(curstate().uuid_to_server['\" + server_id + \"'].get_sessions()[0].document.roots[0]._id)\";\n",
       "      cell.notebook.kernel.execute(cmd, {\n",
       "        iopub: {\n",
       "          output: function(msg) {\n",
       "            var id = msg.content.text.trim();\n",
       "            if (id in Bokeh.index) {\n",
       "              Bokeh.index[id].model.document.clear();\n",
       "              delete Bokeh.index[id];\n",
       "            }\n",
       "          }\n",
       "        }\n",
       "      });\n",
       "      // Destroy server and session\n",
       "      var cmd = \"import bokeh.io.notebook as ion; ion.destroy_server('\" + server_id + \"')\";\n",
       "      cell.notebook.kernel.execute(cmd);\n",
       "    }\n",
       "  }\n",
       "\n",
       "  /**\n",
       "   * Handle when a new output is added\n",
       "   */\n",
       "  function handleAddOutput(event, handle) {\n",
       "    var output_area = handle.output_area;\n",
       "    var output = handle.output;\n",
       "\n",
       "    // limit handleAddOutput to display_data with EXEC_MIME_TYPE content only\n",
       "    if ((output.output_type != \"display_data\") || (!output.data.hasOwnProperty(EXEC_MIME_TYPE))) {\n",
       "      return\n",
       "    }\n",
       "\n",
       "    var toinsert = output_area.element.find(\".\" + CLASS_NAME.split(' ')[0]);\n",
       "\n",
       "    if (output.metadata[EXEC_MIME_TYPE][\"id\"] !== undefined) {\n",
       "      toinsert[toinsert.length - 1].firstChild.textContent = output.data[JS_MIME_TYPE];\n",
       "      // store reference to embed id on output_area\n",
       "      output_area._bokeh_element_id = output.metadata[EXEC_MIME_TYPE][\"id\"];\n",
       "    }\n",
       "    if (output.metadata[EXEC_MIME_TYPE][\"server_id\"] !== undefined) {\n",
       "      var bk_div = document.createElement(\"div\");\n",
       "      bk_div.innerHTML = output.data[HTML_MIME_TYPE];\n",
       "      var script_attrs = bk_div.children[0].attributes;\n",
       "      for (var i = 0; i < script_attrs.length; i++) {\n",
       "        toinsert[toinsert.length - 1].firstChild.setAttribute(script_attrs[i].name, script_attrs[i].value);\n",
       "      }\n",
       "      // store reference to server id on output_area\n",
       "      output_area._bokeh_server_id = output.metadata[EXEC_MIME_TYPE][\"server_id\"];\n",
       "    }\n",
       "  }\n",
       "\n",
       "  function register_renderer(events, OutputArea) {\n",
       "\n",
       "    function append_mime(data, metadata, element) {\n",
       "      // create a DOM node to render to\n",
       "      var toinsert = this.create_output_subarea(\n",
       "        metadata,\n",
       "        CLASS_NAME,\n",
       "        EXEC_MIME_TYPE\n",
       "      );\n",
       "      this.keyboard_manager.register_events(toinsert);\n",
       "      // Render to node\n",
       "      var props = {data: data, metadata: metadata[EXEC_MIME_TYPE]};\n",
       "      render(props, toinsert[toinsert.length - 1]);\n",
       "      element.append(toinsert);\n",
       "      return toinsert\n",
       "    }\n",
       "\n",
       "    /* Handle when an output is cleared or removed */\n",
       "    events.on('clear_output.CodeCell', handleClearOutput);\n",
       "    events.on('delete.Cell', handleClearOutput);\n",
       "\n",
       "    /* Handle when a new output is added */\n",
       "    events.on('output_added.OutputArea', handleAddOutput);\n",
       "\n",
       "    /**\n",
       "     * Register the mime type and append_mime function with output_area\n",
       "     */\n",
       "    OutputArea.prototype.register_mime_type(EXEC_MIME_TYPE, append_mime, {\n",
       "      /* Is output safe? */\n",
       "      safe: true,\n",
       "      /* Index of renderer in `output_area.display_order` */\n",
       "      index: 0\n",
       "    });\n",
       "  }\n",
       "\n",
       "  // register the mime type if in Jupyter Notebook environment and previously unregistered\n",
       "  if (root.Jupyter !== undefined) {\n",
       "    var events = require('base/js/events');\n",
       "    var OutputArea = require('notebook/js/outputarea').OutputArea;\n",
       "\n",
       "    if (OutputArea.prototype.mime_types().indexOf(EXEC_MIME_TYPE) == -1) {\n",
       "      register_renderer(events, OutputArea);\n",
       "    }\n",
       "  }\n",
       "\n",
       "  \n",
       "  if (typeof (root._bokeh_timeout) === \"undefined\" || force === true) {\n",
       "    root._bokeh_timeout = Date.now() + 5000;\n",
       "    root._bokeh_failed_load = false;\n",
       "  }\n",
       "\n",
       "  var NB_LOAD_WARNING = {'data': {'text/html':\n",
       "     \"<div style='background-color: #fdd'>\\n\"+\n",
       "     \"<p>\\n\"+\n",
       "     \"BokehJS does not appear to have successfully loaded. If loading BokehJS from CDN, this \\n\"+\n",
       "     \"may be due to a slow or bad network connection. Possible fixes:\\n\"+\n",
       "     \"</p>\\n\"+\n",
       "     \"<ul>\\n\"+\n",
       "     \"<li>re-rerun `output_notebook()` to attempt to load from CDN again, or</li>\\n\"+\n",
       "     \"<li>use INLINE resources instead, as so:</li>\\n\"+\n",
       "     \"</ul>\\n\"+\n",
       "     \"<code>\\n\"+\n",
       "     \"from bokeh.resources import INLINE\\n\"+\n",
       "     \"output_notebook(resources=INLINE)\\n\"+\n",
       "     \"</code>\\n\"+\n",
       "     \"</div>\"}};\n",
       "\n",
       "  function display_loaded() {\n",
       "    var el = document.getElementById(\"1001\");\n",
       "    if (el != null) {\n",
       "      el.textContent = \"BokehJS is loading...\";\n",
       "    }\n",
       "    if (root.Bokeh !== undefined) {\n",
       "      if (el != null) {\n",
       "        el.textContent = \"BokehJS \" + root.Bokeh.version + \" successfully loaded.\";\n",
       "      }\n",
       "    } else if (Date.now() < root._bokeh_timeout) {\n",
       "      setTimeout(display_loaded, 100)\n",
       "    }\n",
       "  }\n",
       "\n",
       "\n",
       "  function run_callbacks() {\n",
       "    try {\n",
       "      root._bokeh_onload_callbacks.forEach(function(callback) {\n",
       "        if (callback != null)\n",
       "          callback();\n",
       "      });\n",
       "    } finally {\n",
       "      delete root._bokeh_onload_callbacks\n",
       "    }\n",
       "    console.debug(\"Bokeh: all callbacks have finished\");\n",
       "  }\n",
       "\n",
       "  function load_libs(css_urls, js_urls, callback) {\n",
       "    if (css_urls == null) css_urls = [];\n",
       "    if (js_urls == null) js_urls = [];\n",
       "\n",
       "    root._bokeh_onload_callbacks.push(callback);\n",
       "    if (root._bokeh_is_loading > 0) {\n",
       "      console.debug(\"Bokeh: BokehJS is being loaded, scheduling callback at\", now());\n",
       "      return null;\n",
       "    }\n",
       "    if (js_urls == null || js_urls.length === 0) {\n",
       "      run_callbacks();\n",
       "      return null;\n",
       "    }\n",
       "    console.debug(\"Bokeh: BokehJS not loaded, scheduling load and callback at\", now());\n",
       "    root._bokeh_is_loading = css_urls.length + js_urls.length;\n",
       "\n",
       "    function on_load() {\n",
       "      root._bokeh_is_loading--;\n",
       "      if (root._bokeh_is_loading === 0) {\n",
       "        console.debug(\"Bokeh: all BokehJS libraries/stylesheets loaded\");\n",
       "        run_callbacks()\n",
       "      }\n",
       "    }\n",
       "\n",
       "    function on_error() {\n",
       "      console.error(\"failed to load \" + url);\n",
       "    }\n",
       "\n",
       "    for (var i = 0; i < css_urls.length; i++) {\n",
       "      var url = css_urls[i];\n",
       "      const element = document.createElement(\"link\");\n",
       "      element.onload = on_load;\n",
       "      element.onerror = on_error;\n",
       "      element.rel = \"stylesheet\";\n",
       "      element.type = \"text/css\";\n",
       "      element.href = url;\n",
       "      console.debug(\"Bokeh: injecting link tag for BokehJS stylesheet: \", url);\n",
       "      document.body.appendChild(element);\n",
       "    }\n",
       "\n",
       "    for (var i = 0; i < js_urls.length; i++) {\n",
       "      var url = js_urls[i];\n",
       "      var element = document.createElement('script');\n",
       "      element.onload = on_load;\n",
       "      element.onerror = on_error;\n",
       "      element.async = false;\n",
       "      element.src = url;\n",
       "      console.debug(\"Bokeh: injecting script tag for BokehJS library: \", url);\n",
       "      document.head.appendChild(element);\n",
       "    }\n",
       "  };var element = document.getElementById(\"1001\");\n",
       "  if (element == null) {\n",
       "    console.error(\"Bokeh: ERROR: autoload.js configured with elementid '1001' but no matching script tag was found. \")\n",
       "    return false;\n",
       "  }\n",
       "\n",
       "  function inject_raw_css(css) {\n",
       "    const element = document.createElement(\"style\");\n",
       "    element.appendChild(document.createTextNode(css));\n",
       "    document.body.appendChild(element);\n",
       "  }\n",
       "\n",
       "  \n",
       "  var js_urls = [\"https://cdn.pydata.org/bokeh/release/bokeh-1.4.0.min.js\", \"https://cdn.pydata.org/bokeh/release/bokeh-widgets-1.4.0.min.js\", \"https://cdn.pydata.org/bokeh/release/bokeh-tables-1.4.0.min.js\", \"https://cdn.pydata.org/bokeh/release/bokeh-gl-1.4.0.min.js\"];\n",
       "  var css_urls = [];\n",
       "  \n",
       "\n",
       "  var inline_js = [\n",
       "    function(Bokeh) {\n",
       "      Bokeh.set_log_level(\"info\");\n",
       "    },\n",
       "    function(Bokeh) {\n",
       "    \n",
       "    \n",
       "    }\n",
       "  ];\n",
       "\n",
       "  function run_inline_js() {\n",
       "    \n",
       "    if (root.Bokeh !== undefined || force === true) {\n",
       "      \n",
       "    for (var i = 0; i < inline_js.length; i++) {\n",
       "      inline_js[i].call(root, root.Bokeh);\n",
       "    }\n",
       "    if (force === true) {\n",
       "        display_loaded();\n",
       "      }} else if (Date.now() < root._bokeh_timeout) {\n",
       "      setTimeout(run_inline_js, 100);\n",
       "    } else if (!root._bokeh_failed_load) {\n",
       "      console.log(\"Bokeh: BokehJS failed to load within specified timeout.\");\n",
       "      root._bokeh_failed_load = true;\n",
       "    } else if (force !== true) {\n",
       "      var cell = $(document.getElementById(\"1001\")).parents('.cell').data().cell;\n",
       "      cell.output_area.append_execute_result(NB_LOAD_WARNING)\n",
       "    }\n",
       "\n",
       "  }\n",
       "\n",
       "  if (root._bokeh_is_loading === 0) {\n",
       "    console.debug(\"Bokeh: BokehJS loaded, going straight to plotting\");\n",
       "    run_inline_js();\n",
       "  } else {\n",
       "    load_libs(css_urls, js_urls, function() {\n",
       "      console.debug(\"Bokeh: BokehJS plotting callback run at\", now());\n",
       "      run_inline_js();\n",
       "    });\n",
       "  }\n",
       "}(window));"
      ],
      "application/vnd.bokehjs_load.v0+json": "\n(function(root) {\n  function now() {\n    return new Date();\n  }\n\n  var force = true;\n\n  if (typeof root._bokeh_onload_callbacks === \"undefined\" || force === true) {\n    root._bokeh_onload_callbacks = [];\n    root._bokeh_is_loading = undefined;\n  }\n\n  \n\n  \n  if (typeof (root._bokeh_timeout) === \"undefined\" || force === true) {\n    root._bokeh_timeout = Date.now() + 5000;\n    root._bokeh_failed_load = false;\n  }\n\n  var NB_LOAD_WARNING = {'data': {'text/html':\n     \"<div style='background-color: #fdd'>\\n\"+\n     \"<p>\\n\"+\n     \"BokehJS does not appear to have successfully loaded. If loading BokehJS from CDN, this \\n\"+\n     \"may be due to a slow or bad network connection. Possible fixes:\\n\"+\n     \"</p>\\n\"+\n     \"<ul>\\n\"+\n     \"<li>re-rerun `output_notebook()` to attempt to load from CDN again, or</li>\\n\"+\n     \"<li>use INLINE resources instead, as so:</li>\\n\"+\n     \"</ul>\\n\"+\n     \"<code>\\n\"+\n     \"from bokeh.resources import INLINE\\n\"+\n     \"output_notebook(resources=INLINE)\\n\"+\n     \"</code>\\n\"+\n     \"</div>\"}};\n\n  function display_loaded() {\n    var el = document.getElementById(\"1001\");\n    if (el != null) {\n      el.textContent = \"BokehJS is loading...\";\n    }\n    if (root.Bokeh !== undefined) {\n      if (el != null) {\n        el.textContent = \"BokehJS \" + root.Bokeh.version + \" successfully loaded.\";\n      }\n    } else if (Date.now() < root._bokeh_timeout) {\n      setTimeout(display_loaded, 100)\n    }\n  }\n\n\n  function run_callbacks() {\n    try {\n      root._bokeh_onload_callbacks.forEach(function(callback) {\n        if (callback != null)\n          callback();\n      });\n    } finally {\n      delete root._bokeh_onload_callbacks\n    }\n    console.debug(\"Bokeh: all callbacks have finished\");\n  }\n\n  function load_libs(css_urls, js_urls, callback) {\n    if (css_urls == null) css_urls = [];\n    if (js_urls == null) js_urls = [];\n\n    root._bokeh_onload_callbacks.push(callback);\n    if (root._bokeh_is_loading > 0) {\n      console.debug(\"Bokeh: BokehJS is being loaded, scheduling callback at\", now());\n      return null;\n    }\n    if (js_urls == null || js_urls.length === 0) {\n      run_callbacks();\n      return null;\n    }\n    console.debug(\"Bokeh: BokehJS not loaded, scheduling load and callback at\", now());\n    root._bokeh_is_loading = css_urls.length + js_urls.length;\n\n    function on_load() {\n      root._bokeh_is_loading--;\n      if (root._bokeh_is_loading === 0) {\n        console.debug(\"Bokeh: all BokehJS libraries/stylesheets loaded\");\n        run_callbacks()\n      }\n    }\n\n    function on_error() {\n      console.error(\"failed to load \" + url);\n    }\n\n    for (var i = 0; i < css_urls.length; i++) {\n      var url = css_urls[i];\n      const element = document.createElement(\"link\");\n      element.onload = on_load;\n      element.onerror = on_error;\n      element.rel = \"stylesheet\";\n      element.type = \"text/css\";\n      element.href = url;\n      console.debug(\"Bokeh: injecting link tag for BokehJS stylesheet: \", url);\n      document.body.appendChild(element);\n    }\n\n    for (var i = 0; i < js_urls.length; i++) {\n      var url = js_urls[i];\n      var element = document.createElement('script');\n      element.onload = on_load;\n      element.onerror = on_error;\n      element.async = false;\n      element.src = url;\n      console.debug(\"Bokeh: injecting script tag for BokehJS library: \", url);\n      document.head.appendChild(element);\n    }\n  };var element = document.getElementById(\"1001\");\n  if (element == null) {\n    console.error(\"Bokeh: ERROR: autoload.js configured with elementid '1001' but no matching script tag was found. \")\n    return false;\n  }\n\n  function inject_raw_css(css) {\n    const element = document.createElement(\"style\");\n    element.appendChild(document.createTextNode(css));\n    document.body.appendChild(element);\n  }\n\n  \n  var js_urls = [\"https://cdn.pydata.org/bokeh/release/bokeh-1.4.0.min.js\", \"https://cdn.pydata.org/bokeh/release/bokeh-widgets-1.4.0.min.js\", \"https://cdn.pydata.org/bokeh/release/bokeh-tables-1.4.0.min.js\", \"https://cdn.pydata.org/bokeh/release/bokeh-gl-1.4.0.min.js\"];\n  var css_urls = [];\n  \n\n  var inline_js = [\n    function(Bokeh) {\n      Bokeh.set_log_level(\"info\");\n    },\n    function(Bokeh) {\n    \n    \n    }\n  ];\n\n  function run_inline_js() {\n    \n    if (root.Bokeh !== undefined || force === true) {\n      \n    for (var i = 0; i < inline_js.length; i++) {\n      inline_js[i].call(root, root.Bokeh);\n    }\n    if (force === true) {\n        display_loaded();\n      }} else if (Date.now() < root._bokeh_timeout) {\n      setTimeout(run_inline_js, 100);\n    } else if (!root._bokeh_failed_load) {\n      console.log(\"Bokeh: BokehJS failed to load within specified timeout.\");\n      root._bokeh_failed_load = true;\n    } else if (force !== true) {\n      var cell = $(document.getElementById(\"1001\")).parents('.cell').data().cell;\n      cell.output_area.append_execute_result(NB_LOAD_WARNING)\n    }\n\n  }\n\n  if (root._bokeh_is_loading === 0) {\n    console.debug(\"Bokeh: BokehJS loaded, going straight to plotting\");\n    run_inline_js();\n  } else {\n    load_libs(css_urls, js_urls, function() {\n      console.debug(\"Bokeh: BokehJS plotting callback run at\", now());\n      run_inline_js();\n    });\n  }\n}(window));"
     },
     "metadata": {},
     "output_type": "display_data"
    }
   ],
   "source": [
    "import hail as hl\n",
    "hl.init()\n",
    "from hail.plot import show\n",
    "from pprint import pprint\n",
    "hl.plot.output_notebook()"
   ]
  },
  {
   "cell_type": "markdown",
   "id": "2a69a2bb",
   "metadata": {},
   "source": [
    "### Step 2 ゲノムデータのファイル形式を変換します"
   ]
  },
  {
   "cell_type": "markdown",
   "id": "f25a827f",
   "metadata": {},
   "source": [
    "（`python` 初学者向けに）`for` 文の挙動を確認します。\n",
    "下記のコードを実行してください。"
   ]
  },
  {
   "cell_type": "code",
   "execution_count": 2,
   "id": "2c932a65",
   "metadata": {},
   "outputs": [
    {
     "name": "stdout",
     "output_type": "stream",
     "text": [
      "1\n",
      "2\n",
      "3\n",
      "4\n",
      "5\n",
      "6\n",
      "7\n",
      "8\n",
      "9\n",
      "10\n",
      "11\n",
      "12\n",
      "13\n",
      "14\n",
      "15\n",
      "16\n",
      "17\n",
      "18\n",
      "19\n",
      "20\n",
      "21\n",
      "22\n"
     ]
    }
   ],
   "source": [
    "for chr in range(1,23):\n",
    "    print(chr)"
   ]
  },
  {
   "cell_type": "markdown",
   "id": "2228af40",
   "metadata": {},
   "source": [
    "`1` から `22` の整数が表示されました。\n",
    "`range(1,23)` は、「`1` 以上 `23` 未満の整数」を列挙します（つまり、`1` から `22` までの整数が列挙されます）。\n",
    "\n",
    "インデントされた `print(chr)` は、`chr` 変数を表示します。\n",
    "`chr` 変数は、`range(1,23)` で列挙された値が、入力されます。\n",
    "\n",
    "`chr` 変数に `range(1,23)` で列挙された値が一つずつ入力され、都度 `print(chr)` が実行されます。\n",
    "そのために、`1` から `22` の整数が表示されます。\n",
    "\n",
    "プログラミングに慣れてないと、すぐに理解は難しいかもしれません。\n",
    "その場合は、（`python`でなくても良いですが）地道にプログラミングの技術習得を行うことで、理解が捗るようになります。"
   ]
  },
  {
   "cell_type": "markdown",
   "id": "ceea04e4",
   "metadata": {},
   "source": [
    "本題に戻ります。\n",
    "ゲノムデータは、1番染色体から22番染色体まで、染色体ごとに異なるファイルに保存されています。\n",
    "例えば、1番染色体のゲノムデータは、`genome-data/1kg.JPT.chr1.dose.vcf.bgz` に保存されています。\n",
    "また、2番染色体のゲノムデータは、`genome-data/1kg.JPT.chr2.dose.vcf.bgz` に\n",
    "22番染色体のゲノムデータは、`genome-data/1kg.JPT.chr22.dose.vcf.bgz` に保存されています。\n",
    "\n",
    "ゲノムデータは、よく利用されるファイル形式である `VCF` フォーマットで保存されています。\n",
    "これを、`matrix table` 形式に変換して、保存します。"
   ]
  },
  {
   "cell_type": "markdown",
   "id": "caab0749",
   "metadata": {},
   "source": [
    "下記コマンドを実行してください。\n",
    "1時間程度の待ち時間が生じます。"
   ]
  },
  {
   "cell_type": "code",
   "execution_count": 4,
   "id": "d7da6cd3",
   "metadata": {},
   "outputs": [
    {
     "name": "stdout",
     "output_type": "stream",
     "text": [
      "1 genome-data/1kg.JPT.chr1.dose.vcf.bgz genome-data/1kg.JPT.chr1.mt\n"
     ]
    },
    {
     "name": "stderr",
     "output_type": "stream",
     "text": [
      "2021-05-29 23:50:31 Hail: INFO: Coerced almost-sorted dataset\n",
      "2021-05-29 23:54:05 Hail: INFO: wrote matrix table with 3738238 rows and 104 columns in 1 partition to genome-data/1kg.JPT.chr1.mt\n",
      "    Total size: 233.04 MiB\n",
      "    * Rows/entries: 233.04 MiB\n",
      "    * Columns: 858.00 B\n",
      "    * Globals: 11.00 B\n",
      "    * Smallest partition: 3738238 rows (233.04 MiB)\n",
      "    * Largest partition:  3738238 rows (233.04 MiB)\n"
     ]
    },
    {
     "name": "stdout",
     "output_type": "stream",
     "text": [
      "2 genome-data/1kg.JPT.chr2.dose.vcf.bgz genome-data/1kg.JPT.chr2.mt\n"
     ]
    },
    {
     "name": "stderr",
     "output_type": "stream",
     "text": [
      "2021-05-29 23:54:24 Hail: INFO: Coerced almost-sorted dataset\n",
      "2021-05-29 23:58:11 Hail: INFO: wrote matrix table with 4057611 rows and 104 columns in 1 partition to genome-data/1kg.JPT.chr2.mt\n",
      "    Total size: 244.48 MiB\n",
      "    * Rows/entries: 244.48 MiB\n",
      "    * Columns: 858.00 B\n",
      "    * Globals: 11.00 B\n",
      "    * Smallest partition: 4057611 rows (244.48 MiB)\n",
      "    * Largest partition:  4057611 rows (244.48 MiB)\n"
     ]
    },
    {
     "name": "stdout",
     "output_type": "stream",
     "text": [
      "3 genome-data/1kg.JPT.chr3.dose.vcf.bgz genome-data/1kg.JPT.chr3.mt\n"
     ]
    },
    {
     "name": "stderr",
     "output_type": "stream",
     "text": [
      "2021-05-29 23:58:27 Hail: INFO: Coerced almost-sorted dataset\n",
      "2021-05-30 00:01:36 Hail: INFO: wrote matrix table with 3355936 rows and 104 columns in 1 partition to genome-data/1kg.JPT.chr3.mt\n",
      "    Total size: 196.39 MiB\n",
      "    * Rows/entries: 196.39 MiB\n",
      "    * Columns: 858.00 B\n",
      "    * Globals: 11.00 B\n",
      "    * Smallest partition: 3355936 rows (196.39 MiB)\n",
      "    * Largest partition:  3355936 rows (196.39 MiB)\n"
     ]
    },
    {
     "name": "stdout",
     "output_type": "stream",
     "text": [
      "4 genome-data/1kg.JPT.chr4.dose.vcf.bgz genome-data/1kg.JPT.chr4.mt\n"
     ]
    },
    {
     "name": "stderr",
     "output_type": "stream",
     "text": [
      "2021-05-30 00:01:52 Hail: INFO: Coerced almost-sorted dataset\n",
      "2021-05-30 00:04:45 Hail: INFO: wrote matrix table with 3338263 rows and 104 columns in 1 partition to genome-data/1kg.JPT.chr4.mt\n",
      "    Total size: 201.04 MiB\n",
      "    * Rows/entries: 201.04 MiB\n",
      "    * Columns: 858.00 B\n",
      "    * Globals: 11.00 B\n",
      "    * Smallest partition: 3338263 rows (201.04 MiB)\n",
      "    * Largest partition:  3338263 rows (201.04 MiB)\n"
     ]
    },
    {
     "name": "stdout",
     "output_type": "stream",
     "text": [
      "5 genome-data/1kg.JPT.chr5.dose.vcf.bgz genome-data/1kg.JPT.chr5.mt\n"
     ]
    },
    {
     "name": "stderr",
     "output_type": "stream",
     "text": [
      "2021-05-30 00:04:58 Hail: INFO: Coerced almost-sorted dataset\n",
      "2021-05-30 00:07:42 Hail: INFO: wrote matrix table with 3032421 rows and 104 columns in 1 partition to genome-data/1kg.JPT.chr5.mt\n",
      "    Total size: 176.82 MiB\n",
      "    * Rows/entries: 176.82 MiB\n",
      "    * Columns: 858.00 B\n",
      "    * Globals: 11.00 B\n",
      "    * Smallest partition: 3032421 rows (176.82 MiB)\n",
      "    * Largest partition:  3032421 rows (176.82 MiB)\n"
     ]
    },
    {
     "name": "stdout",
     "output_type": "stream",
     "text": [
      "6 genome-data/1kg.JPT.chr6.dose.vcf.bgz genome-data/1kg.JPT.chr6.mt\n"
     ]
    },
    {
     "name": "stderr",
     "output_type": "stream",
     "text": [
      "2021-05-30 00:07:55 Hail: INFO: Coerced almost-sorted dataset\n",
      "2021-05-30 00:10:25 Hail: INFO: wrote matrix table with 2954409 rows and 104 columns in 1 partition to genome-data/1kg.JPT.chr6.mt\n",
      "    Total size: 177.03 MiB\n",
      "    * Rows/entries: 177.03 MiB\n",
      "    * Columns: 858.00 B\n",
      "    * Globals: 11.00 B\n",
      "    * Smallest partition: 2954409 rows (177.03 MiB)\n",
      "    * Largest partition:  2954409 rows (177.03 MiB)\n"
     ]
    },
    {
     "name": "stdout",
     "output_type": "stream",
     "text": [
      "7 genome-data/1kg.JPT.chr7.dose.vcf.bgz genome-data/1kg.JPT.chr7.mt\n"
     ]
    },
    {
     "name": "stderr",
     "output_type": "stream",
     "text": [
      "2021-05-30 00:10:37 Hail: INFO: Coerced almost-sorted dataset\n",
      "2021-05-30 00:12:59 Hail: INFO: wrote matrix table with 2753492 rows and 104 columns in 1 partition to genome-data/1kg.JPT.chr7.mt\n",
      "    Total size: 170.74 MiB\n",
      "    * Rows/entries: 170.74 MiB\n",
      "    * Columns: 858.00 B\n",
      "    * Globals: 11.00 B\n",
      "    * Smallest partition: 2753492 rows (170.74 MiB)\n",
      "    * Largest partition:  2753492 rows (170.74 MiB)\n"
     ]
    },
    {
     "name": "stdout",
     "output_type": "stream",
     "text": [
      "8 genome-data/1kg.JPT.chr8.dose.vcf.bgz genome-data/1kg.JPT.chr8.mt\n"
     ]
    },
    {
     "name": "stderr",
     "output_type": "stream",
     "text": [
      "2021-05-30 00:13:11 Hail: INFO: Coerced almost-sorted dataset\n",
      "2021-05-30 00:15:26 Hail: INFO: wrote matrix table with 2651558 rows and 104 columns in 1 partition to genome-data/1kg.JPT.chr8.mt\n",
      "    Total size: 156.66 MiB\n",
      "    * Rows/entries: 156.66 MiB\n",
      "    * Columns: 858.00 B\n",
      "    * Globals: 11.00 B\n",
      "    * Smallest partition: 2651558 rows (156.66 MiB)\n",
      "    * Largest partition:  2651558 rows (156.66 MiB)\n"
     ]
    },
    {
     "name": "stdout",
     "output_type": "stream",
     "text": [
      "9 genome-data/1kg.JPT.chr9.dose.vcf.bgz genome-data/1kg.JPT.chr9.mt\n"
     ]
    },
    {
     "name": "stderr",
     "output_type": "stream",
     "text": [
      "2021-05-30 00:15:35 Hail: INFO: Coerced almost-sorted dataset\n",
      "2021-05-30 00:17:21 Hail: INFO: wrote matrix table with 2063096 rows and 104 columns in 1 partition to genome-data/1kg.JPT.chr9.mt\n",
      "    Total size: 126.46 MiB\n",
      "    * Rows/entries: 126.45 MiB\n",
      "    * Columns: 858.00 B\n",
      "    * Globals: 11.00 B\n",
      "    * Smallest partition: 2063096 rows (126.45 MiB)\n",
      "    * Largest partition:  2063096 rows (126.45 MiB)\n"
     ]
    },
    {
     "name": "stdout",
     "output_type": "stream",
     "text": [
      "10 genome-data/1kg.JPT.chr10.dose.vcf.bgz genome-data/1kg.JPT.chr10.mt\n"
     ]
    },
    {
     "name": "stderr",
     "output_type": "stream",
     "text": [
      "2021-05-30 00:17:32 Hail: INFO: Coerced almost-sorted dataset\n",
      "2021-05-30 00:19:34 Hail: INFO: wrote matrix table with 2334089 rows and 104 columns in 1 partition to genome-data/1kg.JPT.chr10.mt\n",
      "    Total size: 145.59 MiB\n",
      "    * Rows/entries: 145.59 MiB\n",
      "    * Columns: 858.00 B\n",
      "    * Globals: 11.00 B\n",
      "    * Smallest partition: 2334089 rows (145.59 MiB)\n",
      "    * Largest partition:  2334089 rows (145.59 MiB)\n"
     ]
    },
    {
     "name": "stdout",
     "output_type": "stream",
     "text": [
      "11 genome-data/1kg.JPT.chr11.dose.vcf.bgz genome-data/1kg.JPT.chr11.mt\n"
     ]
    },
    {
     "name": "stderr",
     "output_type": "stream",
     "text": [
      "2021-05-30 00:19:44 Hail: INFO: Coerced almost-sorted dataset\n",
      "2021-05-30 00:21:44 Hail: INFO: wrote matrix table with 2333240 rows and 104 columns in 1 partition to genome-data/1kg.JPT.chr11.mt\n",
      "    Total size: 140.64 MiB\n",
      "    * Rows/entries: 140.64 MiB\n",
      "    * Columns: 858.00 B\n",
      "    * Globals: 11.00 B\n",
      "    * Smallest partition: 2333240 rows (140.64 MiB)\n",
      "    * Largest partition:  2333240 rows (140.64 MiB)\n"
     ]
    },
    {
     "name": "stdout",
     "output_type": "stream",
     "text": [
      "12 genome-data/1kg.JPT.chr12.dose.vcf.bgz genome-data/1kg.JPT.chr12.mt\n"
     ]
    },
    {
     "name": "stderr",
     "output_type": "stream",
     "text": [
      "2021-05-30 00:21:54 Hail: INFO: Coerced almost-sorted dataset\n",
      "2021-05-30 00:23:49 Hail: INFO: wrote matrix table with 2242715 rows and 104 columns in 1 partition to genome-data/1kg.JPT.chr12.mt\n",
      "    Total size: 135.15 MiB\n",
      "    * Rows/entries: 135.14 MiB\n",
      "    * Columns: 858.00 B\n",
      "    * Globals: 11.00 B\n",
      "    * Smallest partition: 2242715 rows (135.14 MiB)\n",
      "    * Largest partition:  2242715 rows (135.14 MiB)\n"
     ]
    },
    {
     "name": "stdout",
     "output_type": "stream",
     "text": [
      "13 genome-data/1kg.JPT.chr13.dose.vcf.bgz genome-data/1kg.JPT.chr13.mt\n"
     ]
    },
    {
     "name": "stderr",
     "output_type": "stream",
     "text": [
      "2021-05-30 00:23:56 Hail: INFO: Coerced almost-sorted dataset\n",
      "2021-05-30 00:25:21 Hail: INFO: wrote matrix table with 1661699 rows and 104 columns in 1 partition to genome-data/1kg.JPT.chr13.mt\n",
      "    Total size: 99.94 MiB\n",
      "    * Rows/entries: 99.94 MiB\n",
      "    * Columns: 858.00 B\n",
      "    * Globals: 11.00 B\n",
      "    * Smallest partition: 1661699 rows (99.94 MiB)\n",
      "    * Largest partition:  1661699 rows (99.94 MiB)\n"
     ]
    },
    {
     "name": "stdout",
     "output_type": "stream",
     "text": [
      "14 genome-data/1kg.JPT.chr14.dose.vcf.bgz genome-data/1kg.JPT.chr14.mt\n"
     ]
    },
    {
     "name": "stderr",
     "output_type": "stream",
     "text": [
      "2021-05-30 00:25:28 Hail: INFO: Coerced almost-sorted dataset\n",
      "2021-05-30 00:26:47 Hail: INFO: wrote matrix table with 1535591 rows and 104 columns in 1 partition to genome-data/1kg.JPT.chr14.mt\n",
      "    Total size: 96.11 MiB\n",
      "    * Rows/entries: 96.11 MiB\n",
      "    * Columns: 858.00 B\n",
      "    * Globals: 11.00 B\n",
      "    * Smallest partition: 1535591 rows (96.11 MiB)\n",
      "    * Largest partition:  1535591 rows (96.11 MiB)\n"
     ]
    },
    {
     "name": "stdout",
     "output_type": "stream",
     "text": [
      "15 genome-data/1kg.JPT.chr15.dose.vcf.bgz genome-data/1kg.JPT.chr15.mt\n"
     ]
    },
    {
     "name": "stderr",
     "output_type": "stream",
     "text": [
      "2021-05-30 00:26:53 Hail: INFO: Coerced almost-sorted dataset\n",
      "2021-05-30 00:28:07 Hail: INFO: wrote matrix table with 1404162 rows and 104 columns in 1 partition to genome-data/1kg.JPT.chr15.mt\n",
      "    Total size: 89.75 MiB\n",
      "    * Rows/entries: 89.75 MiB\n",
      "    * Columns: 858.00 B\n",
      "    * Globals: 11.00 B\n",
      "    * Smallest partition: 1404162 rows (89.75 MiB)\n",
      "    * Largest partition:  1404162 rows (89.75 MiB)\n"
     ]
    },
    {
     "name": "stdout",
     "output_type": "stream",
     "text": [
      "16 genome-data/1kg.JPT.chr16.dose.vcf.bgz genome-data/1kg.JPT.chr16.mt\n"
     ]
    },
    {
     "name": "stderr",
     "output_type": "stream",
     "text": [
      "2021-05-30 00:28:14 Hail: INFO: Coerced almost-sorted dataset\n",
      "2021-05-30 00:29:36 Hail: INFO: wrote matrix table with 1549316 rows and 104 columns in 1 partition to genome-data/1kg.JPT.chr16.mt\n",
      "    Total size: 100.85 MiB\n",
      "    * Rows/entries: 100.85 MiB\n",
      "    * Columns: 858.00 B\n",
      "    * Globals: 11.00 B\n",
      "    * Smallest partition: 1549316 rows (100.85 MiB)\n",
      "    * Largest partition:  1549316 rows (100.85 MiB)\n"
     ]
    },
    {
     "name": "stdout",
     "output_type": "stream",
     "text": [
      "17 genome-data/1kg.JPT.chr17.dose.vcf.bgz genome-data/1kg.JPT.chr17.mt\n"
     ]
    },
    {
     "name": "stderr",
     "output_type": "stream",
     "text": [
      "2021-05-30 00:29:42 Hail: INFO: Coerced almost-sorted dataset\n",
      "2021-05-30 00:30:54 Hail: INFO: wrote matrix table with 1345835 rows and 104 columns in 1 partition to genome-data/1kg.JPT.chr17.mt\n",
      "    Total size: 90.38 MiB\n",
      "    * Rows/entries: 90.38 MiB\n",
      "    * Columns: 858.00 B\n",
      "    * Globals: 11.00 B\n",
      "    * Smallest partition: 1345835 rows (90.38 MiB)\n",
      "    * Largest partition:  1345835 rows (90.38 MiB)\n"
     ]
    },
    {
     "name": "stdout",
     "output_type": "stream",
     "text": [
      "18 genome-data/1kg.JPT.chr18.dose.vcf.bgz genome-data/1kg.JPT.chr18.mt\n"
     ]
    },
    {
     "name": "stderr",
     "output_type": "stream",
     "text": [
      "2021-05-30 00:31:00 Hail: INFO: Coerced almost-sorted dataset\n",
      "2021-05-30 00:32:14 Hail: INFO: wrote matrix table with 1319629 rows and 104 columns in 1 partition to genome-data/1kg.JPT.chr18.mt\n",
      "    Total size: 81.31 MiB\n",
      "    * Rows/entries: 81.31 MiB\n",
      "    * Columns: 858.00 B\n",
      "    * Globals: 11.00 B\n",
      "    * Smallest partition: 1319629 rows (81.31 MiB)\n",
      "    * Largest partition:  1319629 rows (81.31 MiB)\n"
     ]
    },
    {
     "name": "stdout",
     "output_type": "stream",
     "text": [
      "19 genome-data/1kg.JPT.chr19.dose.vcf.bgz genome-data/1kg.JPT.chr19.mt\n"
     ]
    },
    {
     "name": "stderr",
     "output_type": "stream",
     "text": [
      "2021-05-30 00:32:19 Hail: INFO: Coerced almost-sorted dataset\n",
      "2021-05-30 00:33:18 Hail: INFO: wrote matrix table with 1084535 rows and 104 columns in 1 partition to genome-data/1kg.JPT.chr19.mt\n",
      "    Total size: 76.72 MiB\n",
      "    * Rows/entries: 76.72 MiB\n",
      "    * Columns: 858.00 B\n",
      "    * Globals: 11.00 B\n",
      "    * Smallest partition: 1084535 rows (76.72 MiB)\n",
      "    * Largest partition:  1084535 rows (76.72 MiB)\n"
     ]
    },
    {
     "name": "stdout",
     "output_type": "stream",
     "text": [
      "20 genome-data/1kg.JPT.chr20.dose.vcf.bgz genome-data/1kg.JPT.chr20.mt\n"
     ]
    },
    {
     "name": "stderr",
     "output_type": "stream",
     "text": [
      "2021-05-30 00:33:23 Hail: INFO: Coerced almost-sorted dataset\n",
      "2021-05-30 00:34:18 Hail: INFO: wrote matrix table with 1047612 rows and 104 columns in 1 partition to genome-data/1kg.JPT.chr20.mt\n",
      "    Total size: 66.17 MiB\n",
      "    * Rows/entries: 66.16 MiB\n",
      "    * Columns: 858.00 B\n",
      "    * Globals: 11.00 B\n",
      "    * Smallest partition: 1047612 rows (66.16 MiB)\n",
      "    * Largest partition:  1047612 rows (66.16 MiB)\n"
     ]
    },
    {
     "name": "stdout",
     "output_type": "stream",
     "text": [
      "21 genome-data/1kg.JPT.chr21.dose.vcf.bgz genome-data/1kg.JPT.chr21.mt\n"
     ]
    },
    {
     "name": "stderr",
     "output_type": "stream",
     "text": [
      "2021-05-30 00:34:21 Hail: INFO: Coerced almost-sorted dataset\n",
      "2021-05-30 00:34:55 Hail: INFO: wrote matrix table with 653791 rows and 104 columns in 1 partition to genome-data/1kg.JPT.chr21.mt\n",
      "    Total size: 42.75 MiB\n",
      "    * Rows/entries: 42.75 MiB\n",
      "    * Columns: 858.00 B\n",
      "    * Globals: 11.00 B\n",
      "    * Smallest partition: 653791 rows (42.75 MiB)\n",
      "    * Largest partition:  653791 rows (42.75 MiB)\n"
     ]
    },
    {
     "name": "stdout",
     "output_type": "stream",
     "text": [
      "22 genome-data/1kg.JPT.chr22.dose.vcf.bgz genome-data/1kg.JPT.chr22.mt\n"
     ]
    },
    {
     "name": "stderr",
     "output_type": "stream",
     "text": [
      "2021-05-30 00:34:59 Hail: INFO: Coerced almost-sorted dataset\n",
      "2021-05-30 00:35:34 Hail: INFO: wrote matrix table with 652193 rows and 104 columns in 1 partition to genome-data/1kg.JPT.chr22.mt\n",
      "    Total size: 48.10 MiB\n",
      "    * Rows/entries: 48.10 MiB\n",
      "    * Columns: 858.00 B\n",
      "    * Globals: 11.00 B\n",
      "    * Smallest partition: 652193 rows (48.10 MiB)\n",
      "    * Largest partition:  652193 rows (48.10 MiB)\n"
     ]
    }
   ],
   "source": [
    "for chr in range(1,23):\n",
    "    infile = 'genome-data/1kg.JPT.chr' + str(chr) + '.dose.vcf.bgz'\n",
    "    outfile = 'genome-data/1kg.JPT.chr' + str(chr) + '.mt'\n",
    "    print(chr, infile, outfile)\n",
    "    hl.import_vcf(infile).write(outfile, overwrite=True)"
   ]
  },
  {
   "cell_type": "markdown",
   "id": "98e57c35",
   "metadata": {},
   "source": [
    "### Step 3 ゲノムデータをマージします"
   ]
  },
  {
   "cell_type": "markdown",
   "id": "e55e919b",
   "metadata": {},
   "source": [
    "続いて、1番染色体から22番染色体の `matrix table` 形式のファイルを、ひとつの `matrix table` 形式のファイルにマージします。"
   ]
  },
  {
   "cell_type": "markdown",
   "id": "181a189c",
   "metadata": {},
   "source": [
    "下記コマンドを実行してください。"
   ]
  },
  {
   "cell_type": "code",
   "execution_count": 6,
   "id": "65be8483",
   "metadata": {},
   "outputs": [
    {
     "name": "stdout",
     "output_type": "stream",
     "text": [
      "1 genome-data/1kg.JPT.chr1.mt (3738238, 104) (3738238, 104)\n",
      "2 genome-data/1kg.JPT.chr2.mt (4057611, 104) (7795849, 104)\n",
      "3 genome-data/1kg.JPT.chr3.mt (3355936, 104) (11151785, 104)\n",
      "4 genome-data/1kg.JPT.chr4.mt (3338263, 104) (14490048, 104)\n",
      "5 genome-data/1kg.JPT.chr5.mt (3032421, 104) (17522469, 104)\n",
      "6 genome-data/1kg.JPT.chr6.mt (2954409, 104) (20476878, 104)\n",
      "7 genome-data/1kg.JPT.chr7.mt (2753492, 104) (23230370, 104)\n",
      "8 genome-data/1kg.JPT.chr8.mt (2651558, 104) (25881928, 104)\n",
      "9 genome-data/1kg.JPT.chr9.mt (2063096, 104) (27945024, 104)\n",
      "10 genome-data/1kg.JPT.chr10.mt (2334089, 104) (30279113, 104)\n",
      "11 genome-data/1kg.JPT.chr11.mt (2333240, 104) (32612353, 104)\n",
      "12 genome-data/1kg.JPT.chr12.mt (2242715, 104) (34855068, 104)\n",
      "13 genome-data/1kg.JPT.chr13.mt (1661699, 104) (36516767, 104)\n",
      "14 genome-data/1kg.JPT.chr14.mt (1535591, 104) (38052358, 104)\n",
      "15 genome-data/1kg.JPT.chr15.mt (1404162, 104) (39456520, 104)\n",
      "16 genome-data/1kg.JPT.chr16.mt (1549316, 104) (41005836, 104)\n",
      "17 genome-data/1kg.JPT.chr17.mt (1345835, 104) (42351671, 104)\n",
      "18 genome-data/1kg.JPT.chr18.mt (1319629, 104) (43671300, 104)\n",
      "19 genome-data/1kg.JPT.chr19.mt (1084535, 104) (44755835, 104)\n",
      "20 genome-data/1kg.JPT.chr20.mt (1047612, 104) (45803447, 104)\n",
      "21 genome-data/1kg.JPT.chr21.mt (653791, 104) (46457238, 104)\n",
      "22 genome-data/1kg.JPT.chr22.mt (652193, 104) (47109431, 104)\n"
     ]
    }
   ],
   "source": [
    "chr = 1\n",
    "file = 'genome-data/1kg.JPT.chr' + str(chr) + '.mt'\n",
    "mt = hl.read_matrix_table(file)\n",
    "print(chr, file, mt.count(), mt.count())\n",
    "for chr in range(2,23):\n",
    "    file = 'genome-data/1kg.JPT.chr' + str(chr) + '.mt'\n",
    "    tmpmt = hl.read_matrix_table(file)\n",
    "    mt = mt.union_rows(tmpmt)\n",
    "    print(chr, file, tmpmt.count(), mt.count())"
   ]
  },
  {
   "cell_type": "markdown",
   "id": "af137cb3",
   "metadata": {},
   "source": [
    "ゲノムデータのマージが完了しました。\n",
    "マージ後のゲノムデータのバリアント数を表示します。"
   ]
  },
  {
   "cell_type": "code",
   "execution_count": 7,
   "id": "37c1cf5a",
   "metadata": {},
   "outputs": [
    {
     "data": {
      "text/plain": [
       "(47109431, 104)"
      ]
     },
     "execution_count": 7,
     "metadata": {},
     "output_type": "execute_result"
    }
   ],
   "source": [
    "mt.count()"
   ]
  },
  {
   "cell_type": "markdown",
   "id": "fe043316",
   "metadata": {},
   "source": [
    "```\n",
    "(47109431, 104)\n",
    "```\n",
    "と表示されました。\n",
    "\n",
    "これは、次のことを意味します。\n",
    "- 研究対象者の人数が 104 名\n",
    "- バリアントの個数が 47,109,431 個"
   ]
  },
  {
   "cell_type": "markdown",
   "id": "32e8bc1e",
   "metadata": {},
   "source": [
    "### Step 4 マージしたゲノムデータを保存します"
   ]
  },
  {
   "cell_type": "markdown",
   "id": "34ed8d51",
   "metadata": {},
   "source": [
    "今後のステップの実行時間を短縮するため、マージしたゲノムデータを保存し、再度読み込みます。"
   ]
  },
  {
   "cell_type": "markdown",
   "id": "277ea3ac",
   "metadata": {},
   "source": [
    "下記のコードは、マージしたゲノムデータを `genome-data/1kg.JPT.chrAll.mt` に保存します。\n",
    "10分程度の待ち時間が生じます。"
   ]
  },
  {
   "cell_type": "code",
   "execution_count": 8,
   "id": "586c13f0",
   "metadata": {},
   "outputs": [
    {
     "name": "stderr",
     "output_type": "stream",
     "text": [
      "2021-05-30 00:59:28 Hail: INFO: wrote matrix table with 47109431 rows and 104 columns in 22 partitions to genome-data/1kg.JPT.chrAll.mt\n",
      "    Total size: 2.83 GiB\n",
      "    * Rows/entries: 2.83 GiB\n",
      "    * Columns: 858.00 B\n",
      "    * Globals: 11.00 B\n",
      "    * Smallest partition: 653791 rows (42.75 MiB)\n",
      "    * Largest partition:  4057611 rows (244.48 MiB)\n"
     ]
    }
   ],
   "source": [
    "mt.write('genome-data/1kg.JPT.chrAll.mt', overwrite=True)"
   ]
  },
  {
   "cell_type": "markdown",
   "id": "b3ad2320",
   "metadata": {},
   "source": [
    "下記のコードは、`genome-data/1kg.JPT.chrAll.mt` を読み込みます。"
   ]
  },
  {
   "cell_type": "code",
   "execution_count": 9,
   "id": "e002ca7d",
   "metadata": {},
   "outputs": [],
   "source": [
    "mt = hl.read_matrix_table('genome-data/1kg.JPT.chrAll.mt')"
   ]
  },
  {
   "cell_type": "markdown",
   "id": "ee0760d9",
   "metadata": {},
   "source": [
    "### Step 5 ゲノムデータに `variantID` を追加します"
   ]
  },
  {
   "cell_type": "markdown",
   "id": "b353918c",
   "metadata": {},
   "source": [
    "下記のコードは、ゲノムデータのバリアント情報に `variantID` を追加します。"
   ]
  },
  {
   "cell_type": "code",
   "execution_count": 10,
   "id": "c61bc837",
   "metadata": {},
   "outputs": [],
   "source": [
    "mt = mt.annotate_rows(variantID = (hl.str(mt.locus.contig) + \":\" + hl.str(mt.locus.position)) )"
   ]
  },
  {
   "cell_type": "markdown",
   "id": "42d4f77a",
   "metadata": {},
   "source": [
    "下記のコードは、`variantID` を追加した後のバリアント情報を表示します。"
   ]
  },
  {
   "cell_type": "code",
   "execution_count": 11,
   "id": "54c86229",
   "metadata": {},
   "outputs": [
    {
     "data": {
      "text/html": [
       "<table><thead><tr><td style=\"white-space: nowrap; max-width: 500px; overflow: hidden; text-overflow: ellipsis; \" colspan=\"1\"><div style=\"text-align: left;\"></div></td><td style=\"white-space: nowrap; max-width: 500px; overflow: hidden; text-overflow: ellipsis; \" colspan=\"1\"><div style=\"text-align: left;\"></div></td><td style=\"white-space: nowrap; max-width: 500px; overflow: hidden; text-overflow: ellipsis; \" colspan=\"1\"><div style=\"text-align: left;\"></div></td><td style=\"white-space: nowrap; max-width: 500px; overflow: hidden; text-overflow: ellipsis; \" colspan=\"1\"><div style=\"text-align: left;\"></div></td><td style=\"white-space: nowrap; max-width: 500px; overflow: hidden; text-overflow: ellipsis; \" colspan=\"1\"><div style=\"text-align: left;\"></div></td><td style=\"white-space: nowrap; max-width: 500px; overflow: hidden; text-overflow: ellipsis; \" colspan=\"4\"><div style=\"text-align: left;\"></div></td><td style=\"white-space: nowrap; max-width: 500px; overflow: hidden; text-overflow: ellipsis; \" colspan=\"1\"><div style=\"text-align: left;\"></div></td></tr><tr><td style=\"white-space: nowrap; max-width: 500px; overflow: hidden; text-overflow: ellipsis; \" colspan=\"1\"><div style=\"text-align: left;\"></div></td><td style=\"white-space: nowrap; max-width: 500px; overflow: hidden; text-overflow: ellipsis; \" colspan=\"1\"><div style=\"text-align: left;\"></div></td><td style=\"white-space: nowrap; max-width: 500px; overflow: hidden; text-overflow: ellipsis; \" colspan=\"1\"><div style=\"text-align: left;\"></div></td><td style=\"white-space: nowrap; max-width: 500px; overflow: hidden; text-overflow: ellipsis; \" colspan=\"1\"><div style=\"text-align: left;\"></div></td><td style=\"white-space: nowrap; max-width: 500px; overflow: hidden; text-overflow: ellipsis; \" colspan=\"1\"><div style=\"text-align: left;\"></div></td><td style=\"white-space: nowrap; max-width: 500px; overflow: hidden; text-overflow: ellipsis; \" colspan=\"4\"><div style=\"text-align: left;border-bottom: solid 2px #000; padding-bottom: 5px\">info</div></td><td style=\"white-space: nowrap; max-width: 500px; overflow: hidden; text-overflow: ellipsis; \" colspan=\"1\"><div style=\"text-align: left;\"></div></td></tr><tr><td style=\"white-space: nowrap; max-width: 500px; overflow: hidden; text-overflow: ellipsis; \" colspan=\"1\"><div style=\"text-align: left;border-bottom: solid 2px #000; padding-bottom: 5px\">locus</div></td><td style=\"white-space: nowrap; max-width: 500px; overflow: hidden; text-overflow: ellipsis; \" colspan=\"1\"><div style=\"text-align: left;border-bottom: solid 2px #000; padding-bottom: 5px\">alleles</div></td><td style=\"white-space: nowrap; max-width: 500px; overflow: hidden; text-overflow: ellipsis; \" colspan=\"1\"><div style=\"text-align: left;border-bottom: solid 2px #000; padding-bottom: 5px\">rsid</div></td><td style=\"white-space: nowrap; max-width: 500px; overflow: hidden; text-overflow: ellipsis; \" colspan=\"1\"><div style=\"text-align: left;border-bottom: solid 2px #000; padding-bottom: 5px\">qual</div></td><td style=\"white-space: nowrap; max-width: 500px; overflow: hidden; text-overflow: ellipsis; \" colspan=\"1\"><div style=\"text-align: left;border-bottom: solid 2px #000; padding-bottom: 5px\">filters</div></td><td style=\"white-space: nowrap; max-width: 500px; overflow: hidden; text-overflow: ellipsis; \" colspan=\"1\"><div style=\"text-align: left;border-bottom: solid 2px #000; padding-bottom: 5px\">AF</div></td><td style=\"white-space: nowrap; max-width: 500px; overflow: hidden; text-overflow: ellipsis; \" colspan=\"1\"><div style=\"text-align: left;border-bottom: solid 2px #000; padding-bottom: 5px\">MAF</div></td><td style=\"white-space: nowrap; max-width: 500px; overflow: hidden; text-overflow: ellipsis; \" colspan=\"1\"><div style=\"text-align: left;border-bottom: solid 2px #000; padding-bottom: 5px\">R2</div></td><td style=\"white-space: nowrap; max-width: 500px; overflow: hidden; text-overflow: ellipsis; \" colspan=\"1\"><div style=\"text-align: left;border-bottom: solid 2px #000; padding-bottom: 5px\">ER2</div></td><td style=\"white-space: nowrap; max-width: 500px; overflow: hidden; text-overflow: ellipsis; \" colspan=\"1\"><div style=\"text-align: left;border-bottom: solid 2px #000; padding-bottom: 5px\">variantID</div></td></tr><tr><td style=\"white-space: nowrap; max-width: 500px; overflow: hidden; text-overflow: ellipsis; text-align: left;\">locus&lt;GRCh37&gt;</td><td style=\"white-space: nowrap; max-width: 500px; overflow: hidden; text-overflow: ellipsis; text-align: left;\">array&lt;str&gt;</td><td style=\"white-space: nowrap; max-width: 500px; overflow: hidden; text-overflow: ellipsis; text-align: left;\">str</td><td style=\"white-space: nowrap; max-width: 500px; overflow: hidden; text-overflow: ellipsis; text-align: left;\">float64</td><td style=\"white-space: nowrap; max-width: 500px; overflow: hidden; text-overflow: ellipsis; text-align: left;\">set&lt;str&gt;</td><td style=\"white-space: nowrap; max-width: 500px; overflow: hidden; text-overflow: ellipsis; text-align: left;\">float64</td><td style=\"white-space: nowrap; max-width: 500px; overflow: hidden; text-overflow: ellipsis; text-align: left;\">float64</td><td style=\"white-space: nowrap; max-width: 500px; overflow: hidden; text-overflow: ellipsis; text-align: left;\">float64</td><td style=\"white-space: nowrap; max-width: 500px; overflow: hidden; text-overflow: ellipsis; text-align: left;\">float64</td><td style=\"white-space: nowrap; max-width: 500px; overflow: hidden; text-overflow: ellipsis; text-align: left;\">str</td></tr>\n",
       "</thead><tbody><tr><td style=\"white-space: nowrap; max-width: 500px; overflow: hidden; text-overflow: ellipsis; \">1:10177</td><td style=\"white-space: nowrap; max-width: 500px; overflow: hidden; text-overflow: ellipsis; \">[&quot;A&quot;,&quot;AC&quot;]</td><td style=\"white-space: nowrap; max-width: 500px; overflow: hidden; text-overflow: ellipsis; \">&quot;1:10177&quot;</td><td style=\"white-space: nowrap; max-width: 500px; overflow: hidden; text-overflow: ellipsis; \">-1.00e+01</td><td style=\"white-space: nowrap; max-width: 500px; overflow: hidden; text-overflow: ellipsis; \">{}</td><td style=\"white-space: nowrap; max-width: 500px; overflow: hidden; text-overflow: ellipsis; \">4.47e-01</td><td style=\"white-space: nowrap; max-width: 500px; overflow: hidden; text-overflow: ellipsis; \">4.47e-01</td><td style=\"white-space: nowrap; max-width: 500px; overflow: hidden; text-overflow: ellipsis; \">8.70e-02</td><td style=\"white-space: nowrap; max-width: 500px; overflow: hidden; text-overflow: ellipsis; \">NA</td><td style=\"white-space: nowrap; max-width: 500px; overflow: hidden; text-overflow: ellipsis; \">&quot;1:10177&quot;</td></tr>\n",
       "<tr><td style=\"white-space: nowrap; max-width: 500px; overflow: hidden; text-overflow: ellipsis; \">1:10235</td><td style=\"white-space: nowrap; max-width: 500px; overflow: hidden; text-overflow: ellipsis; \">[&quot;T&quot;,&quot;TA&quot;]</td><td style=\"white-space: nowrap; max-width: 500px; overflow: hidden; text-overflow: ellipsis; \">&quot;1:10235&quot;</td><td style=\"white-space: nowrap; max-width: 500px; overflow: hidden; text-overflow: ellipsis; \">-1.00e+01</td><td style=\"white-space: nowrap; max-width: 500px; overflow: hidden; text-overflow: ellipsis; \">{}</td><td style=\"white-space: nowrap; max-width: 500px; overflow: hidden; text-overflow: ellipsis; \">9.30e-04</td><td style=\"white-space: nowrap; max-width: 500px; overflow: hidden; text-overflow: ellipsis; \">9.30e-04</td><td style=\"white-space: nowrap; max-width: 500px; overflow: hidden; text-overflow: ellipsis; \">1.57e-03</td><td style=\"white-space: nowrap; max-width: 500px; overflow: hidden; text-overflow: ellipsis; \">NA</td><td style=\"white-space: nowrap; max-width: 500px; overflow: hidden; text-overflow: ellipsis; \">&quot;1:10235&quot;</td></tr>\n",
       "<tr><td style=\"white-space: nowrap; max-width: 500px; overflow: hidden; text-overflow: ellipsis; \">1:10352</td><td style=\"white-space: nowrap; max-width: 500px; overflow: hidden; text-overflow: ellipsis; \">[&quot;T&quot;,&quot;TA&quot;]</td><td style=\"white-space: nowrap; max-width: 500px; overflow: hidden; text-overflow: ellipsis; \">&quot;1:10352&quot;</td><td style=\"white-space: nowrap; max-width: 500px; overflow: hidden; text-overflow: ellipsis; \">-1.00e+01</td><td style=\"white-space: nowrap; max-width: 500px; overflow: hidden; text-overflow: ellipsis; \">{}</td><td style=\"white-space: nowrap; max-width: 500px; overflow: hidden; text-overflow: ellipsis; \">4.45e-01</td><td style=\"white-space: nowrap; max-width: 500px; overflow: hidden; text-overflow: ellipsis; \">4.45e-01</td><td style=\"white-space: nowrap; max-width: 500px; overflow: hidden; text-overflow: ellipsis; \">8.35e-02</td><td style=\"white-space: nowrap; max-width: 500px; overflow: hidden; text-overflow: ellipsis; \">NA</td><td style=\"white-space: nowrap; max-width: 500px; overflow: hidden; text-overflow: ellipsis; \">&quot;1:10352&quot;</td></tr>\n",
       "<tr><td style=\"white-space: nowrap; max-width: 500px; overflow: hidden; text-overflow: ellipsis; \">1:10539</td><td style=\"white-space: nowrap; max-width: 500px; overflow: hidden; text-overflow: ellipsis; \">[&quot;C&quot;,&quot;A&quot;]</td><td style=\"white-space: nowrap; max-width: 500px; overflow: hidden; text-overflow: ellipsis; \">&quot;1:10539&quot;</td><td style=\"white-space: nowrap; max-width: 500px; overflow: hidden; text-overflow: ellipsis; \">-1.00e+01</td><td style=\"white-space: nowrap; max-width: 500px; overflow: hidden; text-overflow: ellipsis; \">{}</td><td style=\"white-space: nowrap; max-width: 500px; overflow: hidden; text-overflow: ellipsis; \">4.20e-04</td><td style=\"white-space: nowrap; max-width: 500px; overflow: hidden; text-overflow: ellipsis; \">4.20e-04</td><td style=\"white-space: nowrap; max-width: 500px; overflow: hidden; text-overflow: ellipsis; \">5.00e-05</td><td style=\"white-space: nowrap; max-width: 500px; overflow: hidden; text-overflow: ellipsis; \">NA</td><td style=\"white-space: nowrap; max-width: 500px; overflow: hidden; text-overflow: ellipsis; \">&quot;1:10539&quot;</td></tr>\n",
       "<tr><td style=\"white-space: nowrap; max-width: 500px; overflow: hidden; text-overflow: ellipsis; \">1:10616</td><td style=\"white-space: nowrap; max-width: 500px; overflow: hidden; text-overflow: ellipsis; \">[&quot;CCGCCGTTGCAAAGGCGCGCCG&quot;,&quot;C&quot;]</td><td style=\"white-space: nowrap; max-width: 500px; overflow: hidden; text-overflow: ellipsis; \">&quot;1:10616&quot;</td><td style=\"white-space: nowrap; max-width: 500px; overflow: hidden; text-overflow: ellipsis; \">-1.00e+01</td><td style=\"white-space: nowrap; max-width: 500px; overflow: hidden; text-overflow: ellipsis; \">{}</td><td style=\"white-space: nowrap; max-width: 500px; overflow: hidden; text-overflow: ellipsis; \">9.79e-01</td><td style=\"white-space: nowrap; max-width: 500px; overflow: hidden; text-overflow: ellipsis; \">2.13e-02</td><td style=\"white-space: nowrap; max-width: 500px; overflow: hidden; text-overflow: ellipsis; \">2.81e-01</td><td style=\"white-space: nowrap; max-width: 500px; overflow: hidden; text-overflow: ellipsis; \">NA</td><td style=\"white-space: nowrap; max-width: 500px; overflow: hidden; text-overflow: ellipsis; \">&quot;1:10616&quot;</td></tr>\n",
       "</tbody></table><p style=\"background: #fdd; padding: 0.4em;\">showing top 5 rows</p>\n"
      ],
      "text/plain": [
       "+---------------+--------------------------------+-----------+-----------+----------+----------+\n",
       "| locus         | alleles                        | rsid      |      qual | filters  |  info.AF |\n",
       "+---------------+--------------------------------+-----------+-----------+----------+----------+\n",
       "| locus<GRCh37> | array<str>                     | str       |   float64 | set<str> |  float64 |\n",
       "+---------------+--------------------------------+-----------+-----------+----------+----------+\n",
       "| 1:10177       | [\"A\",\"AC\"]                     | \"1:10177\" | -1.00e+01 | {}       | 4.47e-01 |\n",
       "| 1:10235       | [\"T\",\"TA\"]                     | \"1:10235\" | -1.00e+01 | {}       | 9.30e-04 |\n",
       "| 1:10352       | [\"T\",\"TA\"]                     | \"1:10352\" | -1.00e+01 | {}       | 4.45e-01 |\n",
       "| 1:10539       | [\"C\",\"A\"]                      | \"1:10539\" | -1.00e+01 | {}       | 4.20e-04 |\n",
       "| 1:10616       | [\"CCGCCGTTGCAAAGGCGCGCCG\",\"C\"] | \"1:10616\" | -1.00e+01 | {}       | 9.79e-01 |\n",
       "+---------------+--------------------------------+-----------+-----------+----------+----------+\n",
       "\n",
       "+----------+----------+----------+-----------+\n",
       "| info.MAF |  info.R2 | info.ER2 | variantID |\n",
       "+----------+----------+----------+-----------+\n",
       "|  float64 |  float64 |  float64 | str       |\n",
       "+----------+----------+----------+-----------+\n",
       "| 4.47e-01 | 8.70e-02 |       NA | \"1:10177\" |\n",
       "| 9.30e-04 | 1.57e-03 |       NA | \"1:10235\" |\n",
       "| 4.45e-01 | 8.35e-02 |       NA | \"1:10352\" |\n",
       "| 4.20e-04 | 5.00e-05 |       NA | \"1:10539\" |\n",
       "| 2.13e-02 | 2.81e-01 |       NA | \"1:10616\" |\n",
       "+----------+----------+----------+-----------+\n",
       "showing top 5 rows"
      ]
     },
     "metadata": {},
     "output_type": "display_data"
    }
   ],
   "source": [
    "mt.rows().show(5)"
   ]
  },
  {
   "cell_type": "markdown",
   "id": "d053d1e8",
   "metadata": {},
   "source": [
    "`variantID` のカラムが追加されていることが分かります。"
   ]
  },
  {
   "cell_type": "markdown",
   "id": "feb48ae9",
   "metadata": {},
   "source": [
    "### Step 6 `imputation quality` に基づいてゲノムデータをフィルタリングします"
   ]
  },
  {
   "cell_type": "markdown",
   "id": "5be149e3",
   "metadata": {},
   "source": [
    "下記のコードでは、各バリアントの `imputation quality` の分布を表示します。\n",
    "1分程度の待ち時間が生じます。"
   ]
  },
  {
   "cell_type": "code",
   "execution_count": 12,
   "id": "558a4342",
   "metadata": {},
   "outputs": [
    {
     "data": {
      "text/html": [
       "\n",
       "\n",
       "\n",
       "\n",
       "\n",
       "\n",
       "  <div class=\"bk-root\" id=\"274dd371-23ef-4fbf-b14b-a03adeb7771d\" data-root-id=\"1002\"></div>\n"
      ]
     },
     "metadata": {},
     "output_type": "display_data"
    },
    {
     "data": {
      "application/javascript": [
       "(function(root) {\n",
       "  function embed_document(root) {\n",
       "    \n",
       "  var docs_json = {\"99fdabf8-eda4-42c3-8a03-7742b1583399\":{\"roots\":{\"references\":[{\"attributes\":{\"background_fill_color\":{\"value\":\"#EEEEEE\"},\"below\":[{\"id\":\"1013\",\"type\":\"LinearAxis\"}],\"center\":[{\"id\":\"1017\",\"type\":\"Grid\"},{\"id\":\"1022\",\"type\":\"Grid\"},{\"id\":\"1047\",\"type\":\"Legend\"}],\"left\":[{\"id\":\"1018\",\"type\":\"LinearAxis\"}],\"renderers\":[{\"id\":\"1039\",\"type\":\"GlyphRenderer\"}],\"title\":{\"id\":\"1003\",\"type\":\"Title\"},\"toolbar\":{\"id\":\"1029\",\"type\":\"Toolbar\"},\"x_range\":{\"id\":\"1005\",\"type\":\"Range1d\"},\"x_scale\":{\"id\":\"1009\",\"type\":\"LinearScale\"},\"y_range\":{\"id\":\"1007\",\"type\":\"DataRange1d\"},\"y_scale\":{\"id\":\"1011\",\"type\":\"LinearScale\"}},\"id\":\"1002\",\"subtype\":\"Figure\",\"type\":\"Plot\"},{\"attributes\":{},\"id\":\"1043\",\"type\":\"BasicTickFormatter\"},{\"attributes\":{},\"id\":\"1014\",\"type\":\"BasicTicker\"},{\"attributes\":{\"active_drag\":\"auto\",\"active_inspect\":\"auto\",\"active_multi\":null,\"active_scroll\":\"auto\",\"active_tap\":\"auto\",\"tools\":[{\"id\":\"1023\",\"type\":\"PanTool\"},{\"id\":\"1024\",\"type\":\"WheelZoomTool\"},{\"id\":\"1025\",\"type\":\"BoxZoomTool\"},{\"id\":\"1026\",\"type\":\"SaveTool\"},{\"id\":\"1027\",\"type\":\"ResetTool\"},{\"id\":\"1028\",\"type\":\"HelpTool\"}]},\"id\":\"1029\",\"type\":\"Toolbar\"},{\"attributes\":{},\"id\":\"1055\",\"type\":\"UnionRenderers\"},{\"attributes\":{\"source\":{\"id\":\"1036\",\"type\":\"ColumnDataSource\"}},\"id\":\"1040\",\"type\":\"CDSView\"},{\"attributes\":{},\"id\":\"1009\",\"type\":\"LinearScale\"},{\"attributes\":{\"callback\":null},\"id\":\"1007\",\"type\":\"DataRange1d\"},{\"attributes\":{\"ticker\":{\"id\":\"1014\",\"type\":\"BasicTicker\"}},\"id\":\"1017\",\"type\":\"Grid\"},{\"attributes\":{},\"id\":\"1028\",\"type\":\"HelpTool\"},{\"attributes\":{},\"id\":\"1054\",\"type\":\"Selection\"},{\"attributes\":{},\"id\":\"1019\",\"type\":\"BasicTicker\"},{\"attributes\":{\"items\":[{\"id\":\"1048\",\"type\":\"LegendItem\"}]},\"id\":\"1047\",\"type\":\"Legend\"},{\"attributes\":{\"callback\":null,\"data\":{\"left\":[0.0,0.02,0.04,0.06,0.08,0.1,0.12,0.14,0.16,0.18,0.2,0.22,0.24,0.26,0.28,0.3,0.32,0.34,0.36,0.38,0.4,0.42,0.44,0.46,0.48,0.5,0.52,0.54,0.56,0.58,0.6,0.62,0.64,0.66,0.68,0.7000000000000001,0.72,0.74,0.76,0.78,0.8,0.8200000000000001,0.84,0.86,0.88,0.9,0.92,0.9400000000000001,0.96,0.98],\"right\":[0.02,0.04,0.06,0.08,0.1,0.12,0.14,0.16,0.18,0.2,0.22,0.24,0.26,0.28,0.3,0.32,0.34,0.36,0.38,0.4,0.42,0.44,0.46,0.48,0.5,0.52,0.54,0.56,0.58,0.6,0.62,0.64,0.66,0.68,0.7000000000000001,0.72,0.74,0.76,0.78,0.8,0.8200000000000001,0.84,0.86,0.88,0.9,0.92,0.9400000000000001,0.96,0.98,1.0],\"top\":[34145923,840341,369425,217428,146772,107673,83292,67129,55690,47663,40902,36643,32900,29681,27109,25423,24152,22515,21658,21041,20381,20174,19961,20552,21089,18957,19086,19823,20141,21026,22771,24560,27027,30629,35091,40589,48560,55993,65116,78566,99476,130407,135592,160198,199856,238907,302249,406628,666911,7775755]},\"selected\":{\"id\":\"1054\",\"type\":\"Selection\"},\"selection_policy\":{\"id\":\"1055\",\"type\":\"UnionRenderers\"}},\"id\":\"1036\",\"type\":\"ColumnDataSource\"},{\"attributes\":{},\"id\":\"1045\",\"type\":\"BasicTickFormatter\"},{\"attributes\":{\"data_source\":{\"id\":\"1036\",\"type\":\"ColumnDataSource\"},\"glyph\":{\"id\":\"1037\",\"type\":\"Quad\"},\"hover_glyph\":null,\"muted_glyph\":null,\"nonselection_glyph\":{\"id\":\"1038\",\"type\":\"Quad\"},\"selection_glyph\":null,\"view\":{\"id\":\"1040\",\"type\":\"CDSView\"}},\"id\":\"1039\",\"type\":\"GlyphRenderer\"},{\"attributes\":{\"bottom_units\":\"screen\",\"fill_alpha\":{\"value\":0.5},\"fill_color\":{\"value\":\"lightgrey\"},\"left_units\":\"screen\",\"level\":\"overlay\",\"line_alpha\":{\"value\":1.0},\"line_color\":{\"value\":\"black\"},\"line_dash\":[4,4],\"line_width\":{\"value\":2},\"render_mode\":\"css\",\"right_units\":\"screen\",\"top_units\":\"screen\"},\"id\":\"1046\",\"type\":\"BoxAnnotation\"},{\"attributes\":{\"bottom\":{\"value\":0},\"fill_color\":{\"value\":\"#1f77b4\"},\"left\":{\"field\":\"left\"},\"right\":{\"field\":\"right\"},\"top\":{\"field\":\"top\"}},\"id\":\"1037\",\"type\":\"Quad\"},{\"attributes\":{\"axis_label\":\"Frequency\",\"formatter\":{\"id\":\"1043\",\"type\":\"BasicTickFormatter\"},\"ticker\":{\"id\":\"1019\",\"type\":\"BasicTicker\"}},\"id\":\"1018\",\"type\":\"LinearAxis\"},{\"attributes\":{\"label\":{\"value\":\"Imputation Quality (R2)\"},\"renderers\":[{\"id\":\"1039\",\"type\":\"GlyphRenderer\"}]},\"id\":\"1048\",\"type\":\"LegendItem\"},{\"attributes\":{\"callback\":null,\"end\":1.05,\"start\":-0.05},\"id\":\"1005\",\"type\":\"Range1d\"},{\"attributes\":{},\"id\":\"1011\",\"type\":\"LinearScale\"},{\"attributes\":{\"bottom\":{\"value\":0},\"fill_alpha\":{\"value\":0.1},\"fill_color\":{\"value\":\"#1f77b4\"},\"left\":{\"field\":\"left\"},\"line_alpha\":{\"value\":0.1},\"line_color\":{\"value\":\"#1f77b4\"},\"right\":{\"field\":\"right\"},\"top\":{\"field\":\"top\"}},\"id\":\"1038\",\"type\":\"Quad\"},{\"attributes\":{\"dimension\":1,\"ticker\":{\"id\":\"1019\",\"type\":\"BasicTicker\"}},\"id\":\"1022\",\"type\":\"Grid\"},{\"attributes\":{},\"id\":\"1023\",\"type\":\"PanTool\"},{\"attributes\":{\"overlay\":{\"id\":\"1046\",\"type\":\"BoxAnnotation\"}},\"id\":\"1025\",\"type\":\"BoxZoomTool\"},{\"attributes\":{\"text\":\"Imputation Quality Histogram\"},\"id\":\"1003\",\"type\":\"Title\"},{\"attributes\":{},\"id\":\"1024\",\"type\":\"WheelZoomTool\"},{\"attributes\":{\"axis_label\":\"Imputation Quality (R2)\",\"formatter\":{\"id\":\"1045\",\"type\":\"BasicTickFormatter\"},\"ticker\":{\"id\":\"1014\",\"type\":\"BasicTicker\"}},\"id\":\"1013\",\"type\":\"LinearAxis\"},{\"attributes\":{},\"id\":\"1027\",\"type\":\"ResetTool\"},{\"attributes\":{},\"id\":\"1026\",\"type\":\"SaveTool\"}],\"root_ids\":[\"1002\"]},\"title\":\"Bokeh Application\",\"version\":\"1.4.0\"}};\n",
       "  var render_items = [{\"docid\":\"99fdabf8-eda4-42c3-8a03-7742b1583399\",\"roots\":{\"1002\":\"274dd371-23ef-4fbf-b14b-a03adeb7771d\"}}];\n",
       "  root.Bokeh.embed.embed_items_notebook(docs_json, render_items);\n",
       "\n",
       "  }\n",
       "  if (root.Bokeh !== undefined) {\n",
       "    embed_document(root);\n",
       "  } else {\n",
       "    var attempts = 0;\n",
       "    var timer = setInterval(function(root) {\n",
       "      if (root.Bokeh !== undefined) {\n",
       "        clearInterval(timer);\n",
       "        embed_document(root);\n",
       "      } else {\n",
       "        attempts++;\n",
       "        if (attempts > 100) {\n",
       "          clearInterval(timer);\n",
       "          console.log(\"Bokeh: ERROR: Unable to run BokehJS code because BokehJS library is missing\");\n",
       "        }\n",
       "      }\n",
       "    }, 10, root)\n",
       "  }\n",
       "})(window);"
      ],
      "application/vnd.bokehjs_exec.v0+json": ""
     },
     "metadata": {
      "application/vnd.bokehjs_exec.v0+json": {
       "id": "1002"
      }
     },
     "output_type": "display_data"
    }
   ],
   "source": [
    "p = hl.plot.histogram(mt.info.R2, title='Imputation Quality Histogram', legend='Imputation Quality (R2)')\n",
    "show(p)"
   ]
  },
  {
   "cell_type": "markdown",
   "id": "2828975a",
   "metadata": {},
   "source": [
    "<img src=\"plots/merge-and-filter-plot-01.png\" width=50% >"
   ]
  },
  {
   "cell_type": "markdown",
   "id": "5bbd07d1",
   "metadata": {},
   "source": [
    "`imputation quality` が低い（R2 < 0.3）バリアントも多いことが分かります。"
   ]
  },
  {
   "cell_type": "markdown",
   "id": "606c6019",
   "metadata": {},
   "source": [
    "下記のコードは、`imputation quality` が低い（R2 < 0.3）バリアントを除外します。"
   ]
  },
  {
   "cell_type": "code",
   "execution_count": 13,
   "id": "7fdb384c",
   "metadata": {},
   "outputs": [],
   "source": [
    "mt_filt = mt.filter_rows(mt.info.R2>=0.3)"
   ]
  },
  {
   "cell_type": "markdown",
   "id": "31737a44",
   "metadata": {},
   "source": [
    "下記のコードは、`imputation quality` が低い（R2 < 0.3）バリアントを除外した後の分布を表示します。"
   ]
  },
  {
   "cell_type": "code",
   "execution_count": 14,
   "id": "af842096",
   "metadata": {},
   "outputs": [
    {
     "data": {
      "text/html": [
       "\n",
       "\n",
       "\n",
       "\n",
       "\n",
       "\n",
       "  <div class=\"bk-root\" id=\"4eafd7b2-58ab-4577-b9f8-a294fccccc3a\" data-root-id=\"1105\"></div>\n"
      ]
     },
     "metadata": {},
     "output_type": "display_data"
    },
    {
     "data": {
      "application/javascript": [
       "(function(root) {\n",
       "  function embed_document(root) {\n",
       "    \n",
       "  var docs_json = {\"b44f41cf-4fec-496a-8391-e77e5e299254\":{\"roots\":{\"references\":[{\"attributes\":{\"background_fill_color\":{\"value\":\"#EEEEEE\"},\"below\":[{\"id\":\"1116\",\"type\":\"LinearAxis\"}],\"center\":[{\"id\":\"1120\",\"type\":\"Grid\"},{\"id\":\"1125\",\"type\":\"Grid\"},{\"id\":\"1150\",\"type\":\"Legend\"}],\"left\":[{\"id\":\"1121\",\"type\":\"LinearAxis\"}],\"renderers\":[{\"id\":\"1142\",\"type\":\"GlyphRenderer\"}],\"title\":{\"id\":\"1106\",\"type\":\"Title\"},\"toolbar\":{\"id\":\"1132\",\"type\":\"Toolbar\"},\"x_range\":{\"id\":\"1108\",\"type\":\"Range1d\"},\"x_scale\":{\"id\":\"1112\",\"type\":\"LinearScale\"},\"y_range\":{\"id\":\"1110\",\"type\":\"DataRange1d\"},\"y_scale\":{\"id\":\"1114\",\"type\":\"LinearScale\"}},\"id\":\"1105\",\"subtype\":\"Figure\",\"type\":\"Plot\"},{\"attributes\":{\"axis_label\":\"Frequency\",\"formatter\":{\"id\":\"1146\",\"type\":\"BasicTickFormatter\"},\"ticker\":{\"id\":\"1122\",\"type\":\"BasicTicker\"}},\"id\":\"1121\",\"type\":\"LinearAxis\"},{\"attributes\":{},\"id\":\"1166\",\"type\":\"UnionRenderers\"},{\"attributes\":{\"dimension\":1,\"ticker\":{\"id\":\"1122\",\"type\":\"BasicTicker\"}},\"id\":\"1125\",\"type\":\"Grid\"},{\"attributes\":{\"bottom\":{\"value\":0},\"fill_alpha\":{\"value\":0.1},\"fill_color\":{\"value\":\"#1f77b4\"},\"left\":{\"field\":\"left\"},\"line_alpha\":{\"value\":0.1},\"line_color\":{\"value\":\"#1f77b4\"},\"right\":{\"field\":\"right\"},\"top\":{\"field\":\"top\"}},\"id\":\"1141\",\"type\":\"Quad\"},{\"attributes\":{},\"id\":\"1117\",\"type\":\"BasicTicker\"},{\"attributes\":{\"callback\":null,\"end\":1.035,\"start\":0.265},\"id\":\"1108\",\"type\":\"Range1d\"},{\"attributes\":{\"axis_label\":\"Imputation Quality (R2)\",\"formatter\":{\"id\":\"1148\",\"type\":\"BasicTickFormatter\"},\"ticker\":{\"id\":\"1117\",\"type\":\"BasicTicker\"}},\"id\":\"1116\",\"type\":\"LinearAxis\"},{\"attributes\":{\"text\":\"Imputation Quality Histogram\"},\"id\":\"1106\",\"type\":\"Title\"},{\"attributes\":{\"callback\":null},\"id\":\"1110\",\"type\":\"DataRange1d\"},{\"attributes\":{\"label\":{\"value\":\"Imputation Quality (R2)\"},\"renderers\":[{\"id\":\"1142\",\"type\":\"GlyphRenderer\"}]},\"id\":\"1151\",\"type\":\"LegendItem\"},{\"attributes\":{\"data_source\":{\"id\":\"1139\",\"type\":\"ColumnDataSource\"},\"glyph\":{\"id\":\"1140\",\"type\":\"Quad\"},\"hover_glyph\":null,\"muted_glyph\":null,\"nonselection_glyph\":{\"id\":\"1141\",\"type\":\"Quad\"},\"selection_glyph\":null,\"view\":{\"id\":\"1143\",\"type\":\"CDSView\"}},\"id\":\"1142\",\"type\":\"GlyphRenderer\"},{\"attributes\":{},\"id\":\"1114\",\"type\":\"LinearScale\"},{\"attributes\":{\"overlay\":{\"id\":\"1149\",\"type\":\"BoxAnnotation\"}},\"id\":\"1128\",\"type\":\"BoxZoomTool\"},{\"attributes\":{\"active_drag\":\"auto\",\"active_inspect\":\"auto\",\"active_multi\":null,\"active_scroll\":\"auto\",\"active_tap\":\"auto\",\"tools\":[{\"id\":\"1126\",\"type\":\"PanTool\"},{\"id\":\"1127\",\"type\":\"WheelZoomTool\"},{\"id\":\"1128\",\"type\":\"BoxZoomTool\"},{\"id\":\"1129\",\"type\":\"SaveTool\"},{\"id\":\"1130\",\"type\":\"ResetTool\"},{\"id\":\"1131\",\"type\":\"HelpTool\"}]},\"id\":\"1132\",\"type\":\"Toolbar\"},{\"attributes\":{},\"id\":\"1112\",\"type\":\"LinearScale\"},{\"attributes\":{},\"id\":\"1126\",\"type\":\"PanTool\"},{\"attributes\":{\"callback\":null,\"data\":{\"left\":[0.3,0.314,0.32799999999999996,0.34199999999999997,0.356,0.37,0.384,0.39799999999999996,0.412,0.426,0.43999999999999995,0.45399999999999996,0.46799999999999997,0.482,0.496,0.51,0.524,0.538,0.552,0.566,0.58,0.594,0.6079999999999999,0.6219999999999999,0.6359999999999999,0.6499999999999999,0.6639999999999999,0.6779999999999999,0.692,0.706,0.72,0.734,0.748,0.762,0.776,0.7899999999999999,0.804,0.8179999999999998,0.8319999999999999,0.8459999999999999,0.8599999999999999,0.8739999999999999,0.8879999999999999,0.9019999999999999,0.9159999999999999,0.9299999999999999,0.944,0.958,0.972,0.986],\"right\":[0.314,0.32799999999999996,0.34199999999999997,0.356,0.37,0.384,0.39799999999999996,0.412,0.426,0.43999999999999995,0.45399999999999996,0.46799999999999997,0.482,0.496,0.51,0.524,0.538,0.552,0.566,0.58,0.594,0.6079999999999999,0.6219999999999999,0.6359999999999999,0.6499999999999999,0.6639999999999999,0.6779999999999999,0.692,0.706,0.72,0.734,0.748,0.762,0.776,0.7899999999999999,0.804,0.8179999999999998,0.8319999999999999,0.8459999999999999,0.8599999999999999,0.8739999999999999,0.8879999999999999,0.9019999999999999,0.9159999999999999,0.9299999999999999,0.944,0.958,0.972,0.986,1.0],\"top\":[17998,17399,16452,15799,15336,15063,14655,14372,14199,14071,13893,14265,14450,14724,13711,13342,13365,13579,14117,14156,14664,15349,16135,17225,18161,19753,21396,23938,25877,29202,33073,37078,40497,45129,51295,59044,70102,90715,90236,96541,109172,124614,148347,165040,194540,230724,287174,393149,668827,7428917]},\"selected\":{\"id\":\"1165\",\"type\":\"Selection\"},\"selection_policy\":{\"id\":\"1166\",\"type\":\"UnionRenderers\"}},\"id\":\"1139\",\"type\":\"ColumnDataSource\"},{\"attributes\":{},\"id\":\"1130\",\"type\":\"ResetTool\"},{\"attributes\":{},\"id\":\"1148\",\"type\":\"BasicTickFormatter\"},{\"attributes\":{\"bottom\":{\"value\":0},\"fill_color\":{\"value\":\"#1f77b4\"},\"left\":{\"field\":\"left\"},\"right\":{\"field\":\"right\"},\"top\":{\"field\":\"top\"}},\"id\":\"1140\",\"type\":\"Quad\"},{\"attributes\":{\"source\":{\"id\":\"1139\",\"type\":\"ColumnDataSource\"}},\"id\":\"1143\",\"type\":\"CDSView\"},{\"attributes\":{},\"id\":\"1146\",\"type\":\"BasicTickFormatter\"},{\"attributes\":{},\"id\":\"1127\",\"type\":\"WheelZoomTool\"},{\"attributes\":{},\"id\":\"1129\",\"type\":\"SaveTool\"},{\"attributes\":{},\"id\":\"1165\",\"type\":\"Selection\"},{\"attributes\":{\"ticker\":{\"id\":\"1117\",\"type\":\"BasicTicker\"}},\"id\":\"1120\",\"type\":\"Grid\"},{\"attributes\":{},\"id\":\"1122\",\"type\":\"BasicTicker\"},{\"attributes\":{},\"id\":\"1131\",\"type\":\"HelpTool\"},{\"attributes\":{\"bottom_units\":\"screen\",\"fill_alpha\":{\"value\":0.5},\"fill_color\":{\"value\":\"lightgrey\"},\"left_units\":\"screen\",\"level\":\"overlay\",\"line_alpha\":{\"value\":1.0},\"line_color\":{\"value\":\"black\"},\"line_dash\":[4,4],\"line_width\":{\"value\":2},\"render_mode\":\"css\",\"right_units\":\"screen\",\"top_units\":\"screen\"},\"id\":\"1149\",\"type\":\"BoxAnnotation\"},{\"attributes\":{\"items\":[{\"id\":\"1151\",\"type\":\"LegendItem\"}]},\"id\":\"1150\",\"type\":\"Legend\"}],\"root_ids\":[\"1105\"]},\"title\":\"Bokeh Application\",\"version\":\"1.4.0\"}};\n",
       "  var render_items = [{\"docid\":\"b44f41cf-4fec-496a-8391-e77e5e299254\",\"roots\":{\"1105\":\"4eafd7b2-58ab-4577-b9f8-a294fccccc3a\"}}];\n",
       "  root.Bokeh.embed.embed_items_notebook(docs_json, render_items);\n",
       "\n",
       "  }\n",
       "  if (root.Bokeh !== undefined) {\n",
       "    embed_document(root);\n",
       "  } else {\n",
       "    var attempts = 0;\n",
       "    var timer = setInterval(function(root) {\n",
       "      if (root.Bokeh !== undefined) {\n",
       "        clearInterval(timer);\n",
       "        embed_document(root);\n",
       "      } else {\n",
       "        attempts++;\n",
       "        if (attempts > 100) {\n",
       "          clearInterval(timer);\n",
       "          console.log(\"Bokeh: ERROR: Unable to run BokehJS code because BokehJS library is missing\");\n",
       "        }\n",
       "      }\n",
       "    }, 10, root)\n",
       "  }\n",
       "})(window);"
      ],
      "application/vnd.bokehjs_exec.v0+json": ""
     },
     "metadata": {
      "application/vnd.bokehjs_exec.v0+json": {
       "id": "1105"
      }
     },
     "output_type": "display_data"
    }
   ],
   "source": [
    "p = hl.plot.histogram(mt_filt.info.R2, title='Imputation Quality Histogram', legend='Imputation Quality (R2)')\n",
    "show(p)"
   ]
  },
  {
   "cell_type": "markdown",
   "id": "d26427f2",
   "metadata": {},
   "source": [
    "<img src=\"plots/merge-and-filter-plot-02.png\" width=50% >"
   ]
  },
  {
   "cell_type": "markdown",
   "id": "40a33c85",
   "metadata": {},
   "source": [
    "`imputation quality` が低い（R2 < 0.3）バリアントが除外されたことが分かります。"
   ]
  },
  {
   "cell_type": "markdown",
   "id": "7045dad9",
   "metadata": {},
   "source": [
    "下記のコードは、`imputation quality` が低い（R2 < 0.3）バリアントを除外したのちのバリアントの個数を表示します。"
   ]
  },
  {
   "cell_type": "code",
   "execution_count": 15,
   "id": "356e3f68",
   "metadata": {},
   "outputs": [
    {
     "data": {
      "text/plain": [
       "(10860860, 104)"
      ]
     },
     "execution_count": 15,
     "metadata": {},
     "output_type": "execute_result"
    }
   ],
   "source": [
    "mt_filt.count()"
   ]
  },
  {
   "cell_type": "markdown",
   "id": "0ae5df2d",
   "metadata": {},
   "source": [
    "```\n",
    "(10860860, 104)\n",
    "```\n",
    "と表示されました。\n",
    "\n",
    "これは、次のことを意味します。\n",
    "- 研究対象者の人数が 104 名\n",
    "- バリアントの個数が 10,860,860 個"
   ]
  },
  {
   "cell_type": "markdown",
   "id": "c68602df",
   "metadata": {},
   "source": [
    "下記のコードは、`imputation quality` が低い（R2 < 0.3）バリアントを除外した後の `minor allele frequency` の分布を表示します。"
   ]
  },
  {
   "cell_type": "code",
   "execution_count": 16,
   "id": "90260072",
   "metadata": {},
   "outputs": [
    {
     "data": {
      "text/html": [
       "\n",
       "\n",
       "\n",
       "\n",
       "\n",
       "\n",
       "  <div class=\"bk-root\" id=\"423b4b72-3722-4bbe-9d84-eaa3b485c7a8\" data-root-id=\"1216\"></div>\n"
      ]
     },
     "metadata": {},
     "output_type": "display_data"
    },
    {
     "data": {
      "application/javascript": [
       "(function(root) {\n",
       "  function embed_document(root) {\n",
       "    \n",
       "  var docs_json = {\"6b0c1c1f-40c8-4fd0-9147-1e2ee80d9a35\":{\"roots\":{\"references\":[{\"attributes\":{\"background_fill_color\":{\"value\":\"#EEEEEE\"},\"below\":[{\"id\":\"1227\",\"type\":\"LinearAxis\"}],\"center\":[{\"id\":\"1231\",\"type\":\"Grid\"},{\"id\":\"1236\",\"type\":\"Grid\"},{\"id\":\"1261\",\"type\":\"Legend\"}],\"left\":[{\"id\":\"1232\",\"type\":\"LinearAxis\"}],\"renderers\":[{\"id\":\"1253\",\"type\":\"GlyphRenderer\"}],\"title\":{\"id\":\"1217\",\"type\":\"Title\"},\"toolbar\":{\"id\":\"1243\",\"type\":\"Toolbar\"},\"x_range\":{\"id\":\"1219\",\"type\":\"Range1d\"},\"x_scale\":{\"id\":\"1223\",\"type\":\"LinearScale\"},\"y_range\":{\"id\":\"1221\",\"type\":\"DataRange1d\"},\"y_scale\":{\"id\":\"1225\",\"type\":\"LinearScale\"}},\"id\":\"1216\",\"subtype\":\"Figure\",\"type\":\"Plot\"},{\"attributes\":{},\"id\":\"1285\",\"type\":\"UnionRenderers\"},{\"attributes\":{},\"id\":\"1241\",\"type\":\"ResetTool\"},{\"attributes\":{\"axis_label\":\"MAF\",\"formatter\":{\"id\":\"1259\",\"type\":\"BasicTickFormatter\"},\"ticker\":{\"id\":\"1228\",\"type\":\"BasicTicker\"}},\"id\":\"1227\",\"type\":\"LinearAxis\"},{\"attributes\":{},\"id\":\"1257\",\"type\":\"BasicTickFormatter\"},{\"attributes\":{},\"id\":\"1242\",\"type\":\"HelpTool\"},{\"attributes\":{\"ticker\":{\"id\":\"1228\",\"type\":\"BasicTicker\"}},\"id\":\"1231\",\"type\":\"Grid\"},{\"attributes\":{},\"id\":\"1240\",\"type\":\"SaveTool\"},{\"attributes\":{},\"id\":\"1228\",\"type\":\"BasicTicker\"},{\"attributes\":{\"label\":{\"value\":\"MAF\"},\"renderers\":[{\"id\":\"1253\",\"type\":\"GlyphRenderer\"}]},\"id\":\"1262\",\"type\":\"LegendItem\"},{\"attributes\":{\"data_source\":{\"id\":\"1250\",\"type\":\"ColumnDataSource\"},\"glyph\":{\"id\":\"1251\",\"type\":\"Quad\"},\"hover_glyph\":null,\"muted_glyph\":null,\"nonselection_glyph\":{\"id\":\"1252\",\"type\":\"Quad\"},\"selection_glyph\":null,\"view\":{\"id\":\"1254\",\"type\":\"CDSView\"}},\"id\":\"1253\",\"type\":\"GlyphRenderer\"},{\"attributes\":{},\"id\":\"1225\",\"type\":\"LinearScale\"},{\"attributes\":{\"active_drag\":\"auto\",\"active_inspect\":\"auto\",\"active_multi\":null,\"active_scroll\":\"auto\",\"active_tap\":\"auto\",\"tools\":[{\"id\":\"1237\",\"type\":\"PanTool\"},{\"id\":\"1238\",\"type\":\"WheelZoomTool\"},{\"id\":\"1239\",\"type\":\"BoxZoomTool\"},{\"id\":\"1240\",\"type\":\"SaveTool\"},{\"id\":\"1241\",\"type\":\"ResetTool\"},{\"id\":\"1242\",\"type\":\"HelpTool\"}]},\"id\":\"1243\",\"type\":\"Toolbar\"},{\"attributes\":{},\"id\":\"1233\",\"type\":\"BasicTicker\"},{\"attributes\":{},\"id\":\"1284\",\"type\":\"Selection\"},{\"attributes\":{\"axis_label\":\"Frequency\",\"formatter\":{\"id\":\"1257\",\"type\":\"BasicTickFormatter\"},\"ticker\":{\"id\":\"1233\",\"type\":\"BasicTicker\"}},\"id\":\"1232\",\"type\":\"LinearAxis\"},{\"attributes\":{},\"id\":\"1237\",\"type\":\"PanTool\"},{\"attributes\":{\"text\":\"MAF Histogram\"},\"id\":\"1217\",\"type\":\"Title\"},{\"attributes\":{\"bottom_units\":\"screen\",\"fill_alpha\":{\"value\":0.5},\"fill_color\":{\"value\":\"lightgrey\"},\"left_units\":\"screen\",\"level\":\"overlay\",\"line_alpha\":{\"value\":1.0},\"line_color\":{\"value\":\"black\"},\"line_dash\":[4,4],\"line_width\":{\"value\":2},\"render_mode\":\"css\",\"right_units\":\"screen\",\"top_units\":\"screen\"},\"id\":\"1260\",\"type\":\"BoxAnnotation\"},{\"attributes\":{\"callback\":null,\"data\":{\"left\":[0.00145,0.011421,0.021392,0.031363,0.041334,0.051305,0.061276000000000004,0.071247,0.08121800000000001,0.09118900000000002,0.10116,0.11113100000000001,0.12110200000000002,0.13107300000000002,0.141044,0.151015,0.16098600000000002,0.17095700000000003,0.18092800000000003,0.190899,0.20087000000000002,0.21084100000000003,0.220812,0.23078300000000002,0.24075400000000002,0.25072500000000003,0.26069600000000004,0.27066700000000005,0.280638,0.290609,0.30058,0.310551,0.32052200000000003,0.33049300000000004,0.34046400000000004,0.35043500000000005,0.36040600000000006,0.370377,0.380348,0.390319,0.40029000000000003,0.41026100000000004,0.42023200000000005,0.43020300000000006,0.440174,0.450145,0.460116,0.47008700000000003,0.48005800000000004,0.49002900000000005],\"right\":[0.011421,0.021392,0.031363,0.041334,0.051305,0.061276000000000004,0.071247,0.08121800000000001,0.09118900000000002,0.10116,0.11113100000000001,0.12110200000000002,0.13107300000000002,0.141044,0.151015,0.16098600000000002,0.17095700000000003,0.18092800000000003,0.190899,0.20087000000000002,0.21084100000000003,0.220812,0.23078300000000002,0.24075400000000002,0.25072500000000003,0.26069600000000004,0.27066700000000005,0.280638,0.290609,0.30058,0.310551,0.32052200000000003,0.33049300000000004,0.34046400000000004,0.35043500000000005,0.36040600000000006,0.370377,0.380348,0.390319,0.40029000000000003,0.41026100000000004,0.42023200000000005,0.43020300000000006,0.440174,0.450145,0.460116,0.47008700000000003,0.48005800000000004,0.49002900000000005,0.5],\"top\":[2353667,883588,520971,385854,316908,272410,246639,221435,210821,256770,186612,175232,167582,162395,154199,153725,145608,146776,146237,145229,138172,134161,167089,136747,124802,127511,124784,118239,120060,120923,116210,118558,117345,116359,116091,118535,147998,112432,111836,109137,110961,112068,111096,109739,105691,106523,109819,110491,109396,125429]},\"selected\":{\"id\":\"1284\",\"type\":\"Selection\"},\"selection_policy\":{\"id\":\"1285\",\"type\":\"UnionRenderers\"}},\"id\":\"1250\",\"type\":\"ColumnDataSource\"},{\"attributes\":{\"callback\":null},\"id\":\"1221\",\"type\":\"DataRange1d\"},{\"attributes\":{\"callback\":null,\"end\":0.5249275,\"start\":-0.023477500000000002},\"id\":\"1219\",\"type\":\"Range1d\"},{\"attributes\":{\"source\":{\"id\":\"1250\",\"type\":\"ColumnDataSource\"}},\"id\":\"1254\",\"type\":\"CDSView\"},{\"attributes\":{\"bottom\":{\"value\":0},\"fill_color\":{\"value\":\"#1f77b4\"},\"left\":{\"field\":\"left\"},\"right\":{\"field\":\"right\"},\"top\":{\"field\":\"top\"}},\"id\":\"1251\",\"type\":\"Quad\"},{\"attributes\":{\"dimension\":1,\"ticker\":{\"id\":\"1233\",\"type\":\"BasicTicker\"}},\"id\":\"1236\",\"type\":\"Grid\"},{\"attributes\":{},\"id\":\"1259\",\"type\":\"BasicTickFormatter\"},{\"attributes\":{\"items\":[{\"id\":\"1262\",\"type\":\"LegendItem\"}]},\"id\":\"1261\",\"type\":\"Legend\"},{\"attributes\":{},\"id\":\"1223\",\"type\":\"LinearScale\"},{\"attributes\":{\"overlay\":{\"id\":\"1260\",\"type\":\"BoxAnnotation\"}},\"id\":\"1239\",\"type\":\"BoxZoomTool\"},{\"attributes\":{},\"id\":\"1238\",\"type\":\"WheelZoomTool\"},{\"attributes\":{\"bottom\":{\"value\":0},\"fill_alpha\":{\"value\":0.1},\"fill_color\":{\"value\":\"#1f77b4\"},\"left\":{\"field\":\"left\"},\"line_alpha\":{\"value\":0.1},\"line_color\":{\"value\":\"#1f77b4\"},\"right\":{\"field\":\"right\"},\"top\":{\"field\":\"top\"}},\"id\":\"1252\",\"type\":\"Quad\"}],\"root_ids\":[\"1216\"]},\"title\":\"Bokeh Application\",\"version\":\"1.4.0\"}};\n",
       "  var render_items = [{\"docid\":\"6b0c1c1f-40c8-4fd0-9147-1e2ee80d9a35\",\"roots\":{\"1216\":\"423b4b72-3722-4bbe-9d84-eaa3b485c7a8\"}}];\n",
       "  root.Bokeh.embed.embed_items_notebook(docs_json, render_items);\n",
       "\n",
       "  }\n",
       "  if (root.Bokeh !== undefined) {\n",
       "    embed_document(root);\n",
       "  } else {\n",
       "    var attempts = 0;\n",
       "    var timer = setInterval(function(root) {\n",
       "      if (root.Bokeh !== undefined) {\n",
       "        clearInterval(timer);\n",
       "        embed_document(root);\n",
       "      } else {\n",
       "        attempts++;\n",
       "        if (attempts > 100) {\n",
       "          clearInterval(timer);\n",
       "          console.log(\"Bokeh: ERROR: Unable to run BokehJS code because BokehJS library is missing\");\n",
       "        }\n",
       "      }\n",
       "    }, 10, root)\n",
       "  }\n",
       "})(window);"
      ],
      "application/vnd.bokehjs_exec.v0+json": ""
     },
     "metadata": {
      "application/vnd.bokehjs_exec.v0+json": {
       "id": "1216"
      }
     },
     "output_type": "display_data"
    }
   ],
   "source": [
    "p = hl.plot.histogram(mt_filt.info.MAF, title='MAF Histogram', legend='MAF', bins=50)\n",
    "show(p)"
   ]
  },
  {
   "cell_type": "markdown",
   "id": "ac998f9c",
   "metadata": {},
   "source": [
    "<img src=\"plots/merge-and-filter-plot-03.png\" width=50% >"
   ]
  },
  {
   "cell_type": "markdown",
   "id": "35e33d6c",
   "metadata": {},
   "source": [
    "MAF<1% のバリアントが多くある一方、MAFが5%〜50%のバリアントはほぼ等しい個数あることが分かります。"
   ]
  },
  {
   "cell_type": "markdown",
   "id": "96b1d727",
   "metadata": {},
   "source": [
    "### Step 7 フィルタリング後のゲノムデータを保存します"
   ]
  },
  {
   "cell_type": "markdown",
   "id": "3d811f33",
   "metadata": {},
   "source": [
    "下記のコードは、マージしたゲノムデータを `genome-data/1kg.JPT.chrAll.filtered.mt` に保存します。\n",
    "3分程度の待ち時間が生じます。"
   ]
  },
  {
   "cell_type": "code",
   "execution_count": 18,
   "id": "9ed37740",
   "metadata": {},
   "outputs": [
    {
     "name": "stderr",
     "output_type": "stream",
     "text": [
      "2021-05-30 01:14:54 Hail: INFO: wrote matrix table with 10860860 rows and 104 columns in 22 partitions to genome-data/1kg.JPT.chrAll.filtered.mt\n",
      "    Total size: 1.11 GiB\n",
      "    * Rows/entries: 1.11 GiB\n",
      "    * Columns: 858.00 B\n",
      "    * Globals: 11.00 B\n",
      "    * Smallest partition: 149412 rows (17.13 MiB)\n",
      "    * Largest partition:  906649 rows (93.12 MiB)\n"
     ]
    }
   ],
   "source": [
    "mt_filt.write('genome-data/1kg.JPT.chrAll.filtered.mt', overwrite=True)"
   ]
  },
  {
   "cell_type": "markdown",
   "id": "7ff6ce78",
   "metadata": {},
   "source": [
    "### 以上でこのチュートリアルは終了です"
   ]
  }
 ],
 "metadata": {
  "kernelspec": {
   "display_name": "Python 3",
   "language": "python",
   "name": "python3"
  },
  "language_info": {
   "codemirror_mode": {
    "name": "ipython",
    "version": 3
   },
   "file_extension": ".py",
   "mimetype": "text/x-python",
   "name": "python",
   "nbconvert_exporter": "python",
   "pygments_lexer": "ipython3",
   "version": "3.7.10"
  }
 },
 "nbformat": 4,
 "nbformat_minor": 5
}
